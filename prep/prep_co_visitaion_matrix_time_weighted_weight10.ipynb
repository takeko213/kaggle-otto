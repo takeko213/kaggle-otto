{
 "cells": [
  {
   "cell_type": "markdown",
   "metadata": {},
   "source": [
    "# co-visitation matrix"
   ]
  },
  {
   "cell_type": "code",
   "execution_count": 1,
   "metadata": {},
   "outputs": [],
   "source": [
    "import os\n",
    "import sys\n",
    "import gc\n",
    "import subprocess\n",
    "from dotenv import load_dotenv\n",
    "load_dotenv\n",
    "sys.path.append(os.getenv('UTILS_PATH'))\n",
    "from tqdm import tqdm\n",
    "import multiprocessing\n",
    "import random\n",
    "from collections import defaultdict\n",
    "\n",
    "import pandas as pd\n",
    "import numpy as np\n",
    "import cudf"
   ]
  },
  {
   "cell_type": "code",
   "execution_count": 2,
   "metadata": {},
   "outputs": [],
   "source": [
    "SEED = 42\n",
    "random.seed(SEED)"
   ]
  },
  {
   "cell_type": "code",
   "execution_count": 3,
   "metadata": {},
   "outputs": [],
   "source": [
    "INPUT_DIR = os.getenv('INPUT_DIR')\n",
    "OUTPUT_DIR = os.getenv('OUTPUT_DIR')\n",
    "PREP_DIR = os.getenv(\"PREP_DIR\")"
   ]
  },
  {
   "cell_type": "code",
   "execution_count": 4,
   "metadata": {},
   "outputs": [],
   "source": [
    "CHUNK_N = 400\n",
    "W = 10"
   ]
  },
  {
   "cell_type": "code",
   "execution_count": 5,
   "metadata": {},
   "outputs": [],
   "source": [
    "def reduce_mem_usage(df):\n",
    "    \"\"\" iterate through all the columns of a dataframe and modify the data type\n",
    "        to reduce memory usage.        \n",
    "    \"\"\"\n",
    "    start_mem = df.memory_usage().sum() / 1024**2\n",
    "    print('Memory usage of dataframe is {:.2f} MB'.format(start_mem))\n",
    "    \n",
    "    for col in df.columns:\n",
    "        col_type = df[col].dtype\n",
    "        \n",
    "        if col_type != object:\n",
    "            c_min = df[col].min()\n",
    "            c_max = df[col].max()\n",
    "            if str(col_type)[:3] == 'int':\n",
    "                if c_min > np.iinfo(np.int8).min and c_max < np.iinfo(np.int8).max:\n",
    "                    df[col] = df[col].astype(np.int8)\n",
    "                elif c_min > np.iinfo(np.int16).min and c_max < np.iinfo(np.int16).max:\n",
    "                    df[col] = df[col].astype(np.int16)\n",
    "                elif c_min > np.iinfo(np.int32).min and c_max < np.iinfo(np.int32).max:\n",
    "                    df[col] = df[col].astype(np.int32)\n",
    "                elif c_min > np.iinfo(np.int64).min and c_max < np.iinfo(np.int64).max:\n",
    "                    df[col] = df[col].astype(np.int64)  \n",
    "            else:\n",
    "                if c_min > np.finfo(np.float16).min and c_max < np.finfo(np.float16).max:\n",
    "                    df[col] = df[col].astype(np.float32)\n",
    "                elif c_min > np.finfo(np.float32).min and c_max < np.finfo(np.float32).max:\n",
    "                    df[col] = df[col].astype(np.float32)\n",
    "                else:\n",
    "                    df[col] = df[col].astype(np.float64)\n",
    "        else:\n",
    "            df[col] = df[col].astype('category')\n",
    "\n",
    "    end_mem = df.memory_usage().sum() / 1024**2\n",
    "    print('Memory usage after optimization is: {:.2f} MB'.format(end_mem))\n",
    "    print('Decreased by {:.1f}%'.format(100 * (start_mem - end_mem) / start_mem))\n",
    "    \n",
    "    return df"
   ]
  },
  {
   "cell_type": "code",
   "execution_count": 6,
   "metadata": {},
   "outputs": [],
   "source": [
    "weeks = [None, \"week3\", \"week4\"]"
   ]
  },
  {
   "cell_type": "code",
   "execution_count": 7,
   "metadata": {},
   "outputs": [
    {
     "name": "stdout",
     "output_type": "stream",
     "text": [
      "None\n",
      "['train_sessions_week1.parquet', 'test_sessions_week1.parquet', 'train_sessions_week2.parquet', 'test_sessions_week2.parquet', 'train_sessions_week3.parquet', 'test_sessions_week3.parquet', 'train_sessions_week4.parquet', 'test_sessions_week4.parquet', 'test_sessions.parquet']\n"
     ]
    },
    {
     "name": "stderr",
     "output_type": "stream",
     "text": [
      " 25%|██▍       | 99/400 [01:28<03:37,  1.39it/s] "
     ]
    },
    {
     "name": "stdout",
     "output_type": "stream",
     "text": [
      "Memory usage of dataframe is 5405.38 MB\n",
      "Memory usage after optimization is: 2702.69 MB\n",
      "Decreased by 50.0%\n"
     ]
    },
    {
     "name": "stderr",
     "output_type": "stream",
     "text": [
      " 50%|████▉     | 199/400 [04:45<02:24,  1.39it/s]  "
     ]
    },
    {
     "name": "stdout",
     "output_type": "stream",
     "text": [
      "Memory usage of dataframe is 5394.21 MB\n",
      "Memory usage after optimization is: 2697.11 MB\n",
      "Decreased by 50.0%\n"
     ]
    },
    {
     "name": "stderr",
     "output_type": "stream",
     "text": [
      " 75%|███████▍  | 299/400 [08:07<01:12,  1.39it/s]  "
     ]
    },
    {
     "name": "stdout",
     "output_type": "stream",
     "text": [
      "Memory usage of dataframe is 5385.68 MB\n",
      "Memory usage after optimization is: 2692.84 MB\n",
      "Decreased by 50.0%\n"
     ]
    },
    {
     "name": "stderr",
     "output_type": "stream",
     "text": [
      "100%|█████████▉| 399/400 [11:30<00:00,  1.37it/s]  "
     ]
    },
    {
     "name": "stdout",
     "output_type": "stream",
     "text": [
      "Memory usage of dataframe is 5399.73 MB\n",
      "Memory usage after optimization is: 2699.86 MB\n",
      "Decreased by 50.0%\n"
     ]
    },
    {
     "name": "stderr",
     "output_type": "stream",
     "text": [
      "100%|██████████| 400/400 [13:40<00:00,  2.05s/it]\n"
     ]
    },
    {
     "name": "stdout",
     "output_type": "stream",
     "text": [
      "Memory usage of dataframe is 24327.50 MB\n",
      "Memory usage after optimization is: 16725.16 MB\n",
      "Decreased by 31.2%\n",
      "week3\n",
      "['train_sessions_week1.parquet', 'test_sessions_week1.parquet', 'train_sessions_week2.parquet', 'test_sessions_week2.parquet', 'train_sessions_week3.parquet', 'train_sessions_week4.parquet', 'test_sessions_week4.parquet', 'test_sessions.parquet']\n"
     ]
    },
    {
     "name": "stderr",
     "output_type": "stream",
     "text": [
      " 25%|██▍       | 99/400 [01:28<03:04,  1.64it/s] "
     ]
    },
    {
     "name": "stdout",
     "output_type": "stream",
     "text": [
      "Memory usage of dataframe is 4821.72 MB\n"
     ]
    },
    {
     "name": "stderr",
     "output_type": "stream",
     "text": [
      " 25%|██▌       | 100/400 [03:30<3:04:21, 36.87s/it]"
     ]
    },
    {
     "name": "stdout",
     "output_type": "stream",
     "text": [
      "Memory usage after optimization is: 2410.86 MB\n",
      "Decreased by 50.0%\n"
     ]
    },
    {
     "name": "stderr",
     "output_type": "stream",
     "text": [
      " 50%|████▉     | 199/400 [04:31<02:04,  1.61it/s]  "
     ]
    },
    {
     "name": "stdout",
     "output_type": "stream",
     "text": [
      "Memory usage of dataframe is 4806.83 MB\n",
      "Memory usage after optimization is: 2403.42 MB\n",
      "Decreased by 50.0%\n"
     ]
    },
    {
     "name": "stderr",
     "output_type": "stream",
     "text": [
      " 75%|███████▍  | 299/400 [07:34<01:00,  1.66it/s]  "
     ]
    },
    {
     "name": "stdout",
     "output_type": "stream",
     "text": [
      "Memory usage of dataframe is 4800.37 MB\n",
      "Memory usage after optimization is: 2400.19 MB\n",
      "Decreased by 50.0%\n"
     ]
    },
    {
     "name": "stderr",
     "output_type": "stream",
     "text": [
      "100%|█████████▉| 399/400 [10:34<00:00,  1.61it/s]  "
     ]
    },
    {
     "name": "stdout",
     "output_type": "stream",
     "text": [
      "Memory usage of dataframe is 4817.27 MB\n",
      "Memory usage after optimization is: 2408.64 MB\n",
      "Decreased by 50.0%\n"
     ]
    },
    {
     "name": "stderr",
     "output_type": "stream",
     "text": [
      "100%|██████████| 400/400 [12:34<00:00,  1.89s/it]\n"
     ]
    },
    {
     "name": "stdout",
     "output_type": "stream",
     "text": [
      "Memory usage of dataframe is 21759.40 MB\n",
      "Memory usage after optimization is: 14959.59 MB\n",
      "Decreased by 31.2%\n",
      "week4\n",
      "['train_sessions_week1.parquet', 'test_sessions_week1.parquet', 'train_sessions_week2.parquet', 'test_sessions_week2.parquet', 'train_sessions_week3.parquet', 'test_sessions_week3.parquet', 'train_sessions_week4.parquet', 'test_sessions.parquet']\n"
     ]
    },
    {
     "name": "stderr",
     "output_type": "stream",
     "text": [
      " 25%|██▍       | 99/400 [01:23<03:09,  1.59it/s] "
     ]
    },
    {
     "name": "stdout",
     "output_type": "stream",
     "text": [
      "Memory usage of dataframe is 4810.39 MB\n"
     ]
    },
    {
     "name": "stderr",
     "output_type": "stream",
     "text": [
      " 25%|██▌       | 100/400 [03:17<2:52:50, 34.57s/it]"
     ]
    },
    {
     "name": "stdout",
     "output_type": "stream",
     "text": [
      "Memory usage after optimization is: 2405.19 MB\n",
      "Decreased by 50.0%\n"
     ]
    },
    {
     "name": "stderr",
     "output_type": "stream",
     "text": [
      " 50%|████▉     | 199/400 [04:18<02:05,  1.61it/s]  "
     ]
    },
    {
     "name": "stdout",
     "output_type": "stream",
     "text": [
      "Memory usage of dataframe is 4807.51 MB\n"
     ]
    },
    {
     "name": "stderr",
     "output_type": "stream",
     "text": [
      " 50%|█████     | 200/400 [06:13<1:57:18, 35.19s/it]"
     ]
    },
    {
     "name": "stdout",
     "output_type": "stream",
     "text": [
      "Memory usage after optimization is: 2403.76 MB\n",
      "Decreased by 50.0%\n"
     ]
    },
    {
     "name": "stderr",
     "output_type": "stream",
     "text": [
      " 75%|███████▍  | 299/400 [07:15<01:02,  1.62it/s]  "
     ]
    },
    {
     "name": "stdout",
     "output_type": "stream",
     "text": [
      "Memory usage of dataframe is 4798.55 MB\n"
     ]
    },
    {
     "name": "stderr",
     "output_type": "stream",
     "text": [
      " 75%|███████▌  | 300/400 [09:07<56:53, 34.14s/it]"
     ]
    },
    {
     "name": "stdout",
     "output_type": "stream",
     "text": [
      "Memory usage after optimization is: 2399.28 MB\n",
      "Decreased by 50.0%\n"
     ]
    },
    {
     "name": "stderr",
     "output_type": "stream",
     "text": [
      "100%|█████████▉| 399/400 [10:08<00:00,  1.61it/s]"
     ]
    },
    {
     "name": "stdout",
     "output_type": "stream",
     "text": [
      "Memory usage of dataframe is 4809.42 MB\n"
     ]
    },
    {
     "name": "stderr",
     "output_type": "stream",
     "text": [
      "100%|██████████| 400/400 [11:59<00:00,  1.80s/it]"
     ]
    },
    {
     "name": "stdout",
     "output_type": "stream",
     "text": [
      "Memory usage after optimization is: 2404.71 MB\n",
      "Decreased by 50.0%\n"
     ]
    },
    {
     "name": "stderr",
     "output_type": "stream",
     "text": [
      "\n"
     ]
    },
    {
     "name": "stdout",
     "output_type": "stream",
     "text": [
      "Memory usage of dataframe is 21708.55 MB\n",
      "Memory usage after optimization is: 14924.63 MB\n",
      "Decreased by 31.2%\n"
     ]
    }
   ],
   "source": [
    "for week in weeks:\n",
    "\n",
    "    print(week)\n",
    "        \n",
    "    # データ読み込み\n",
    "    files = [\n",
    "        \"train_sessions_week1.parquet\",\n",
    "        \"test_sessions_week1.parquet\",\n",
    "        \"train_sessions_week2.parquet\",\n",
    "        \"test_sessions_week2.parquet\",\n",
    "        \"train_sessions_week3.parquet\",\n",
    "        \"test_sessions_week3.parquet\",\n",
    "        \"train_sessions_week4.parquet\",\n",
    "        \"test_sessions_week4.parquet\",\n",
    "        \"test_sessions.parquet\"\n",
    "    ]    \n",
    "\n",
    "    if week is not None:\n",
    "        files.remove(f\"test_sessions_{week}.parquet\")\n",
    "\n",
    "    print(files)\n",
    "\n",
    "    dfs = []\n",
    "    for file in files:\n",
    "        dfs.append(pd.read_parquet(PREP_DIR + file))\n",
    "    sessions = pd.concat(dfs)\n",
    "\n",
    "    sessions = sessions.drop(columns=[\"type\"])\n",
    "    sessions[\"ts\"] = (sessions[\"ts\"]/1000).astype(\"int32\")\n",
    "\n",
    "    # chunkのグループ分け\n",
    "    sessions[\"chunk\"] = sessions[\"session\"] % CHUNK_N\n",
    "\n",
    "    del dfs\n",
    "    gc.collect()\n",
    "\n",
    "    dfs_outer = []\n",
    "    dfs_inner = []\n",
    "\n",
    "    pair_df = pd.DataFrame(columns=[\"aid_x\", \"aid_y\", \"cnt\"])\n",
    "    for i, chunk_df in tqdm(sessions.groupby(\"chunk\"), total=CHUNK_N):\n",
    "        df = cudf.from_pandas(chunk_df)\n",
    "        df = df.merge(df, on=\"session\")\n",
    "        df = df.loc[((df.ts_x - df.ts_y).abs() < 24 * 60 * 60) & (df.aid_x != df.aid_y)]\n",
    "        df[\"wt\"] = (W - 1) * (1 - (df.ts_x - df.ts_y).abs() / (24*60*60)) + 1\n",
    "        df = df.sort_values(\"wt\").drop_duplicates(subset=[\"session\", \"aid_x\", \"aid_y\"], keep=\"last\")\n",
    "        df = df.groupby([\"aid_x\", \"aid_y\"])[\"wt\"].sum().reset_index()\n",
    "        df = df.sort_values([\"aid_x\", \"wt\"], ascending=(True, False))\n",
    "        df = df[df.groupby(\"aid_x\").cumcount()<30]\n",
    "        dfs_inner.append(df.to_pandas())\n",
    "\n",
    "        if i % 100 == 99:\n",
    "            if len(dfs_inner) > 0:\n",
    "                pair_df_inner = pd.concat(dfs_inner)\n",
    "                pair_df_inner = pair_df_inner.groupby([\"aid_x\", \"aid_y\"])[\"wt\"].sum().reset_index()\n",
    "                pair_df_inner = reduce_mem_usage(pair_df_inner)\n",
    "                dfs_outer.append(pair_df_inner)\n",
    "                dfs_inner = []\n",
    "                del pair_df_inner\n",
    "                gc.collect()\n",
    "\n",
    "    if len(dfs_inner) > 0:\n",
    "        pair_df_inner = pd.concat(dfs_inner)\n",
    "        pair_df_inner = pair_df_inner.groupby([\"aid_x\", \"aid_y\"])[\"wt\"].sum().reset_index()\n",
    "        dfs_outer.append(pair_df_inner)\n",
    "        del pair_df_inner\n",
    "        gc.collect()\n",
    "\n",
    "    del dfs_inner\n",
    "    gc.collect()\n",
    "\n",
    "    pair_df = pd.concat(dfs_outer)\n",
    "    pair_df = pair_df.groupby([\"aid_x\", \"aid_y\"])[\"wt\"].sum().reset_index()\n",
    "    pair_df = pair_df.sort_values([\"aid_x\", \"wt\"], ascending=(True, False))\n",
    "    pair_df[f\"rank\"] = pair_df.groupby([\"aid_x\"]).cumcount().astype(\"int32\")\n",
    "\n",
    "    pair_df = reduce_mem_usage(pair_df)\n",
    "\n",
    "    if week is not None:\n",
    "        pair_df.to_parquet(PREP_DIR + f\"co_visitation_matrix_time_weighted_weight10_{week}.parquet\")\n",
    "    else:\n",
    "        pair_df.to_parquet(PREP_DIR + f\"co_visitation_matrix_time_weighted_weight10.parquet\")\n",
    "\n",
    "\n",
    "    del pair_df\n",
    "    gc.collect()"
   ]
  }
 ],
 "metadata": {
  "kernelspec": {
   "display_name": "Python 3.8.13 ('base')",
   "language": "python",
   "name": "python3"
  },
  "language_info": {
   "codemirror_mode": {
    "name": "ipython",
    "version": 3
   },
   "file_extension": ".py",
   "mimetype": "text/x-python",
   "name": "python",
   "nbconvert_exporter": "python",
   "pygments_lexer": "ipython3",
   "version": "3.8.13"
  },
  "orig_nbformat": 4,
  "vscode": {
   "interpreter": {
    "hash": "d4d1e4263499bec80672ea0156c357c1ee493ec2b1c70f0acce89fc37c4a6abe"
   }
  }
 },
 "nbformat": 4,
 "nbformat_minor": 2
}
