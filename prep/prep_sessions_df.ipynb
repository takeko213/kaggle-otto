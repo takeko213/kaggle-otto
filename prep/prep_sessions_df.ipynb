{
 "cells": [
  {
   "cell_type": "code",
   "execution_count": 1,
   "metadata": {},
   "outputs": [],
   "source": [
    "import os\n",
    "import sys\n",
    "import subprocess\n",
    "from dotenv import load_dotenv\n",
    "load_dotenv\n",
    "sys.path.append(os.getenv('UTILS_PATH'))\n",
    "from tqdm import tqdm\n",
    "import multiprocessing\n",
    "\n",
    "import pandas as pd"
   ]
  },
  {
   "cell_type": "code",
   "execution_count": 2,
   "metadata": {},
   "outputs": [],
   "source": [
    "INPUT_DIR = os.getenv('INPUT_DIR')\n",
    "OUTPUT_DIR = os.getenv('OUTPUT_DIR')\n",
    "PREP_DIR = os.getenv(\"PREP_DIR\")"
   ]
  },
  {
   "cell_type": "code",
   "execution_count": 3,
   "metadata": {},
   "outputs": [],
   "source": [
    "def _chunk_process(chunk):\n",
    "    event_dict = {\n",
    "        \"session\": [],\n",
    "        \"aid\": [],\n",
    "        \"ts\": [],\n",
    "        \"type\": []\n",
    "    }\n",
    "    for session, events in zip(chunk[\"session\"].tolist(), chunk[\"events\"].tolist()):\n",
    "        for event in events:\n",
    "            event_dict[\"session\"].append(session)\n",
    "            event_dict[\"aid\"].append(event[\"aid\"])\n",
    "            event_dict[\"ts\"].append(event[\"ts\"])\n",
    "            event_dict[\"type\"].append(event[\"type\"])\n",
    "    chunk_session = pd.DataFrame(event_dict)\n",
    "    return chunk_session\n",
    "\n",
    "def jsonl2df(filepath, chunksize=100_000):\n",
    "    line_count = int(subprocess.check_output(['wc', '-l', filepath]).decode().split(' ')[0])\n",
    "    itr_n = -(-line_count // chunksize)\n",
    "\n",
    "    sessions = pd.DataFrame()\n",
    "    chunks = pd.read_json(filepath, lines=True, chunksize=chunksize)\n",
    "    processes = multiprocessing.cpu_count()\n",
    "    \n",
    "    with multiprocessing.Pool(processes=processes) as pool:\n",
    "        dfs = pool.imap_unordered(_chunk_process, chunks)\n",
    "        dfs = list(tqdm(dfs, total=itr_n))\n",
    "        \n",
    "    sessions = pd.concat(dfs)\n",
    "    sessions = sessions.sort_values([\"session\", \"ts\"])\n",
    "    sessions = sessions.reset_index(drop=True)\n",
    "    sessions[\"session\"] = sessions[\"session\"].astype(str)\n",
    "    sessions[\"session\"] = sessions[\"aid\"].astype(str)\n",
    "    return sessions"
   ]
  },
  {
   "cell_type": "code",
   "execution_count": 4,
   "metadata": {},
   "outputs": [
    {
     "name": "stderr",
     "output_type": "stream",
     "text": [
      "100%|██████████| 129/129 [14:33<00:00,  6.77s/it]\n"
     ]
    }
   ],
   "source": [
    "train_sessions = jsonl2df(INPUT_DIR + \"train.jsonl\")\n",
    "train_sessions.to_pickle(PREP_DIR + \"train_sessions.pkl\")"
   ]
  },
  {
   "cell_type": "code",
   "execution_count": 5,
   "metadata": {},
   "outputs": [
    {
     "name": "stderr",
     "output_type": "stream",
     "text": [
      "100%|██████████| 17/17 [00:46<00:00,  2.75s/it]\n"
     ]
    }
   ],
   "source": [
    "test_sessions = jsonl2df(INPUT_DIR + \"test.jsonl\")\n",
    "test_sessions.to_pickle(PREP_DIR + \"test_sessions.pkl\")"
   ]
  }
 ],
 "metadata": {
  "kernelspec": {
   "display_name": "Python 3.8.13 ('base')",
   "language": "python",
   "name": "python3"
  },
  "language_info": {
   "codemirror_mode": {
    "name": "ipython",
    "version": 3
   },
   "file_extension": ".py",
   "mimetype": "text/x-python",
   "name": "python",
   "nbconvert_exporter": "python",
   "pygments_lexer": "ipython3",
   "version": "3.8.13"
  },
  "orig_nbformat": 4,
  "vscode": {
   "interpreter": {
    "hash": "d4d1e4263499bec80672ea0156c357c1ee493ec2b1c70f0acce89fc37c4a6abe"
   }
  }
 },
 "nbformat": 4,
 "nbformat_minor": 2
}
