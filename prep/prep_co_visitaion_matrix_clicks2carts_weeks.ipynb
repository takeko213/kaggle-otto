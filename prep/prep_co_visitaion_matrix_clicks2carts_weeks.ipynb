{
 "cells": [
  {
   "cell_type": "markdown",
   "metadata": {},
   "source": [
    "# co-visitation matrix"
   ]
  },
  {
   "cell_type": "code",
   "execution_count": 1,
   "metadata": {},
   "outputs": [],
   "source": [
    "import os\n",
    "import sys\n",
    "import gc\n",
    "import subprocess\n",
    "from dotenv import load_dotenv\n",
    "load_dotenv\n",
    "sys.path.append(os.getenv('UTILS_PATH'))\n",
    "from tqdm import tqdm\n",
    "import multiprocessing\n",
    "import random\n",
    "from collections import defaultdict\n",
    "\n",
    "import pandas as pd\n",
    "import numpy as np\n",
    "import cudf"
   ]
  },
  {
   "cell_type": "code",
   "execution_count": 2,
   "metadata": {},
   "outputs": [],
   "source": [
    "SEED = 42\n",
    "random.seed(SEED)"
   ]
  },
  {
   "cell_type": "code",
   "execution_count": 3,
   "metadata": {},
   "outputs": [],
   "source": [
    "INPUT_DIR = os.getenv('INPUT_DIR')\n",
    "OUTPUT_DIR = os.getenv('OUTPUT_DIR')\n",
    "PREP_DIR = os.getenv(\"PREP_DIR\")"
   ]
  },
  {
   "cell_type": "code",
   "execution_count": 4,
   "metadata": {},
   "outputs": [],
   "source": [
    "CHUNK_N = 1000\n",
    "type_labels = {'clicks':0, 'carts':1, 'orders':2}"
   ]
  },
  {
   "cell_type": "code",
   "execution_count": 5,
   "metadata": {},
   "outputs": [],
   "source": [
    "def reduce_mem_usage(df):\n",
    "    \"\"\" iterate through all the columns of a dataframe and modify the data type\n",
    "        to reduce memory usage.        \n",
    "    \"\"\"\n",
    "    start_mem = df.memory_usage().sum() / 1024**2\n",
    "    print('Memory usage of dataframe is {:.2f} MB'.format(start_mem))\n",
    "    \n",
    "    for col in df.columns:\n",
    "        col_type = df[col].dtype\n",
    "        \n",
    "        if col_type != object:\n",
    "            c_min = df[col].min()\n",
    "            c_max = df[col].max()\n",
    "            if str(col_type)[:3] == 'int':\n",
    "                if c_min > np.iinfo(np.int8).min and c_max < np.iinfo(np.int8).max:\n",
    "                    df[col] = df[col].astype(np.int8)\n",
    "                elif c_min > np.iinfo(np.int16).min and c_max < np.iinfo(np.int16).max:\n",
    "                    df[col] = df[col].astype(np.int16)\n",
    "                elif c_min > np.iinfo(np.int32).min and c_max < np.iinfo(np.int32).max:\n",
    "                    df[col] = df[col].astype(np.int32)\n",
    "                elif c_min > np.iinfo(np.int64).min and c_max < np.iinfo(np.int64).max:\n",
    "                    df[col] = df[col].astype(np.int64)  \n",
    "            else:\n",
    "                if c_min > np.finfo(np.float16).min and c_max < np.finfo(np.float16).max:\n",
    "                    df[col] = df[col].astype(np.float16)\n",
    "                elif c_min > np.finfo(np.float32).min and c_max < np.finfo(np.float32).max:\n",
    "                    df[col] = df[col].astype(np.float32)\n",
    "                else:\n",
    "                    df[col] = df[col].astype(np.float64)\n",
    "        else:\n",
    "            df[col] = df[col].astype('category')\n",
    "\n",
    "    end_mem = df.memory_usage().sum() / 1024**2\n",
    "    print('Memory usage after optimization is: {:.2f} MB'.format(end_mem))\n",
    "    print('Decreased by {:.1f}%'.format(100 * (start_mem - end_mem) / start_mem))\n",
    "    \n",
    "    return df"
   ]
  },
  {
   "cell_type": "code",
   "execution_count": 6,
   "metadata": {},
   "outputs": [],
   "source": [
    "weeks = [None, \"week3\", \"week4\"]"
   ]
  },
  {
   "cell_type": "code",
   "execution_count": 7,
   "metadata": {},
   "outputs": [
    {
     "name": "stdout",
     "output_type": "stream",
     "text": [
      "None\n",
      "['train_sessions_week1.pkl', 'test_sessions_week1.pkl', 'train_sessions_week2.pkl', 'test_sessions_week2.pkl', 'train_sessions_week3.pkl', 'test_sessions_week3.pkl', 'train_sessions_week4.pkl', 'test_sessions_week4.pkl', 'test_sessions.pkl']\n"
     ]
    },
    {
     "name": "stderr",
     "output_type": "stream",
     "text": [
      "100%|██████████| 1000/1000 [02:35<00:00,  6.44it/s]\n"
     ]
    },
    {
     "name": "stdout",
     "output_type": "stream",
     "text": [
      "Memory usage of dataframe is 702.29 MB\n",
      "Memory usage after optimization is: 501.63 MB\n",
      "Decreased by 28.6%\n",
      "week3\n",
      "['train_sessions_week1.pkl', 'test_sessions_week1.pkl', 'train_sessions_week2.pkl', 'test_sessions_week2.pkl', 'train_sessions_week3.pkl', 'train_sessions_week4.pkl', 'test_sessions_week4.pkl', 'test_sessions.pkl']\n"
     ]
    },
    {
     "name": "stderr",
     "output_type": "stream",
     "text": [
      "100%|██████████| 1000/1000 [02:14<00:00,  7.42it/s]\n"
     ]
    },
    {
     "name": "stdout",
     "output_type": "stream",
     "text": [
      "Memory usage of dataframe is 590.12 MB\n",
      "Memory usage after optimization is: 421.51 MB\n",
      "Decreased by 28.6%\n",
      "week4\n",
      "['train_sessions_week1.pkl', 'test_sessions_week1.pkl', 'train_sessions_week2.pkl', 'test_sessions_week2.pkl', 'train_sessions_week3.pkl', 'test_sessions_week3.pkl', 'train_sessions_week4.pkl', 'test_sessions.pkl']\n"
     ]
    },
    {
     "name": "stderr",
     "output_type": "stream",
     "text": [
      "100%|██████████| 1000/1000 [02:16<00:00,  7.32it/s]\n"
     ]
    },
    {
     "name": "stdout",
     "output_type": "stream",
     "text": [
      "Memory usage of dataframe is 592.66 MB\n",
      "Memory usage after optimization is: 423.33 MB\n",
      "Decreased by 28.6%\n"
     ]
    }
   ],
   "source": [
    "for week in weeks:\n",
    "\n",
    "    print(week)\n",
    "        \n",
    "    # データ読み込み\n",
    "    files = [\n",
    "        \"train_sessions_week1.pkl\",\n",
    "        \"test_sessions_week1.pkl\",\n",
    "        \"train_sessions_week2.pkl\",\n",
    "        \"test_sessions_week2.pkl\",\n",
    "        \"train_sessions_week3.pkl\",\n",
    "        \"test_sessions_week3.pkl\",\n",
    "        \"train_sessions_week4.pkl\",\n",
    "        \"test_sessions_week4.pkl\",\n",
    "        \"test_sessions.pkl\"\n",
    "    ]\n",
    "\n",
    "\n",
    "    if week is not None:\n",
    "        files.remove(f\"test_sessions_{week}.pkl\")\n",
    "    print(files)\n",
    "\n",
    "    dfs = []\n",
    "    for file in files:\n",
    "        dfs.append(pd.read_pickle(PREP_DIR + file))\n",
    "    sessions = pd.concat(dfs)\n",
    "\n",
    "    sessions[\"ts\"] = (sessions[\"ts\"]/1000).astype(\"int32\")\n",
    "\n",
    "    # chunkのグループ分け\n",
    "    sessions[\"chunk\"] = sessions[\"session\"] % CHUNK_N\n",
    "    \n",
    "    sessions[\"type\"] = sessions[\"type\"].map(type_labels)\n",
    "    sessions = sessions[sessions[\"type\"].isin([0,1])].copy()\n",
    "\n",
    "    del dfs\n",
    "    gc.collect()\n",
    "\n",
    "    dfs_outer = []\n",
    "    dfs_inner = []\n",
    "\n",
    "    pair_df = pd.DataFrame(columns=[\"aid_x\", \"aid_y\", \"cnt\"])\n",
    "    for i, chunk_df in tqdm(sessions.groupby(\"chunk\"), total=CHUNK_N):\n",
    "        df = cudf.from_pandas(chunk_df)\n",
    "        df = df.merge(df, on=\"session\")\n",
    "        df = df.loc[((df.ts_x - df.ts_y).abs() < 24 * 60 * 60) & (df.aid_x != df.aid_y) & (df.type_x == 0) & (df.type_y == 1)]\n",
    "        df = df.groupby([\"aid_x\", \"aid_y\"])[\"session\"].count().reset_index()\n",
    "        df = df.rename(columns = {\"session\": \"cnt\"})\n",
    "        df = df[df[\"cnt\"]>2]\n",
    "        dfs_inner.append(df.to_pandas())\n",
    "\n",
    "        if i % 100 == 99:\n",
    "            if len(dfs_inner) > 0:\n",
    "                pair_df_inner = pd.concat(dfs_inner)\n",
    "                pair_df_inner = pair_df_inner.groupby([\"aid_x\", \"aid_y\"])[\"cnt\"].sum().reset_index()\n",
    "                dfs_outer.append(pair_df_inner)\n",
    "                dfs_inner = []\n",
    "                del pair_df_inner\n",
    "                gc.collect()\n",
    "\n",
    "    if len(dfs_inner) > 0:\n",
    "        pair_df_inner = pd.concat(dfs_inner)\n",
    "        pair_df_inner = pair_df_inner.groupby([\"aid_x\", \"aid_y\"])[\"cnt\"].sum().reset_index()\n",
    "        dfs_outer.append(pair_df_inner)\n",
    "        del pair_df_inner\n",
    "        gc.collect()\n",
    "\n",
    "    del dfs_inner\n",
    "    gc.collect()\n",
    "\n",
    "    pair_df = pd.concat(dfs_outer)\n",
    "    pair_df = pair_df.groupby([\"aid_x\", \"aid_y\"])[\"cnt\"].sum().reset_index()\n",
    "    pair_df = pair_df.sort_values([\"aid_x\", \"cnt\"], ascending=(True, False))\n",
    "\n",
    "    pair_df = reduce_mem_usage(pair_df)\n",
    "\n",
    "    if week is not None:\n",
    "        pair_df.to_pickle(PREP_DIR + f\"co_visitation_matrix_clicks2carts_{week}.pkl\")\n",
    "    else:\n",
    "        pair_df.to_pickle(PREP_DIR + f\"co_visitation_matrix_clicks2carts.pkl\")\n",
    "\n",
    "\n",
    "    del pair_df\n",
    "    gc.collect()"
   ]
  }
 ],
 "metadata": {
  "kernelspec": {
   "display_name": "Python 3.8.13 ('base')",
   "language": "python",
   "name": "python3"
  },
  "language_info": {
   "codemirror_mode": {
    "name": "ipython",
    "version": 3
   },
   "file_extension": ".py",
   "mimetype": "text/x-python",
   "name": "python",
   "nbconvert_exporter": "python",
   "pygments_lexer": "ipython3",
   "version": "3.8.13 | packaged by conda-forge | (default, Mar 25 2022, 06:04:10) \n[GCC 10.3.0]"
  },
  "orig_nbformat": 4,
  "vscode": {
   "interpreter": {
    "hash": "d4d1e4263499bec80672ea0156c357c1ee493ec2b1c70f0acce89fc37c4a6abe"
   }
  }
 },
 "nbformat": 4,
 "nbformat_minor": 2
}
