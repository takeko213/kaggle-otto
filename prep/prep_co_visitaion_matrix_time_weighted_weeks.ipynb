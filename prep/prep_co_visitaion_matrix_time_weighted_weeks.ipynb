{
 "cells": [
  {
   "cell_type": "markdown",
   "metadata": {},
   "source": [
    "# co-visitation matrix"
   ]
  },
  {
   "cell_type": "code",
   "execution_count": 1,
   "metadata": {},
   "outputs": [],
   "source": [
    "import os\n",
    "import sys\n",
    "import gc\n",
    "import subprocess\n",
    "from dotenv import load_dotenv\n",
    "load_dotenv\n",
    "sys.path.append(os.getenv('UTILS_PATH'))\n",
    "from tqdm import tqdm\n",
    "import multiprocessing\n",
    "import random\n",
    "from collections import defaultdict\n",
    "\n",
    "import pandas as pd\n",
    "import numpy as np\n",
    "import cudf"
   ]
  },
  {
   "cell_type": "code",
   "execution_count": 2,
   "metadata": {},
   "outputs": [],
   "source": [
    "SEED = 42\n",
    "random.seed(SEED)"
   ]
  },
  {
   "cell_type": "code",
   "execution_count": 3,
   "metadata": {},
   "outputs": [],
   "source": [
    "INPUT_DIR = os.getenv('INPUT_DIR')\n",
    "OUTPUT_DIR = os.getenv('OUTPUT_DIR')\n",
    "PREP_DIR = os.getenv(\"PREP_DIR\")"
   ]
  },
  {
   "cell_type": "code",
   "execution_count": 4,
   "metadata": {},
   "outputs": [],
   "source": [
    "CHUNK_N = 400\n",
    "W = 3"
   ]
  },
  {
   "cell_type": "code",
   "execution_count": 5,
   "metadata": {},
   "outputs": [],
   "source": [
    "def reduce_mem_usage(df):\n",
    "    \"\"\" iterate through all the columns of a dataframe and modify the data type\n",
    "        to reduce memory usage.        \n",
    "    \"\"\"\n",
    "    start_mem = df.memory_usage().sum() / 1024**2\n",
    "    print('Memory usage of dataframe is {:.2f} MB'.format(start_mem))\n",
    "    \n",
    "    for col in df.columns:\n",
    "        col_type = df[col].dtype\n",
    "        \n",
    "        if col_type != object:\n",
    "            c_min = df[col].min()\n",
    "            c_max = df[col].max()\n",
    "            if str(col_type)[:3] == 'int':\n",
    "                if c_min > np.iinfo(np.int8).min and c_max < np.iinfo(np.int8).max:\n",
    "                    df[col] = df[col].astype(np.int8)\n",
    "                elif c_min > np.iinfo(np.int16).min and c_max < np.iinfo(np.int16).max:\n",
    "                    df[col] = df[col].astype(np.int16)\n",
    "                elif c_min > np.iinfo(np.int32).min and c_max < np.iinfo(np.int32).max:\n",
    "                    df[col] = df[col].astype(np.int32)\n",
    "                elif c_min > np.iinfo(np.int64).min and c_max < np.iinfo(np.int64).max:\n",
    "                    df[col] = df[col].astype(np.int64)  \n",
    "            else:\n",
    "                if c_min > np.finfo(np.float16).min and c_max < np.finfo(np.float16).max:\n",
    "                    df[col] = df[col].astype(np.float16)\n",
    "                elif c_min > np.finfo(np.float32).min and c_max < np.finfo(np.float32).max:\n",
    "                    df[col] = df[col].astype(np.float32)\n",
    "                else:\n",
    "                    df[col] = df[col].astype(np.float64)\n",
    "        else:\n",
    "            df[col] = df[col].astype('category')\n",
    "\n",
    "    end_mem = df.memory_usage().sum() / 1024**2\n",
    "    print('Memory usage after optimization is: {:.2f} MB'.format(end_mem))\n",
    "    print('Decreased by {:.1f}%'.format(100 * (start_mem - end_mem) / start_mem))\n",
    "    \n",
    "    return df"
   ]
  },
  {
   "cell_type": "code",
   "execution_count": 6,
   "metadata": {},
   "outputs": [],
   "source": [
    "weeks = [None, \"week3\", \"week4\"]"
   ]
  },
  {
   "cell_type": "code",
   "execution_count": 7,
   "metadata": {},
   "outputs": [
    {
     "name": "stdout",
     "output_type": "stream",
     "text": [
      "None\n",
      "['train_sessions_week1.pkl', 'test_sessions_week1.pkl', 'train_sessions_week2.pkl', 'test_sessions_week2.pkl', 'train_sessions_week3.pkl', 'test_sessions_week3.pkl', 'train_sessions_week4.pkl', 'test_sessions_week4.pkl', 'test_sessions.pkl']\n"
     ]
    },
    {
     "name": "stderr",
     "output_type": "stream",
     "text": [
      " 25%|██▍       | 99/400 [01:28<03:42,  1.36it/s] "
     ]
    },
    {
     "name": "stdout",
     "output_type": "stream",
     "text": [
      "Memory usage of dataframe is 5405.24 MB\n"
     ]
    },
    {
     "name": "stderr",
     "output_type": "stream",
     "text": [
      " 25%|██▌       | 100/400 [03:24<2:56:14, 35.25s/it]"
     ]
    },
    {
     "name": "stdout",
     "output_type": "stream",
     "text": [
      "Memory usage after optimization is: 2252.18 MB\n",
      "Decreased by 58.3%\n"
     ]
    },
    {
     "name": "stderr",
     "output_type": "stream",
     "text": [
      " 50%|████▉     | 199/400 [04:36<02:26,  1.37it/s]  "
     ]
    },
    {
     "name": "stdout",
     "output_type": "stream",
     "text": [
      "Memory usage of dataframe is 5394.08 MB\n"
     ]
    },
    {
     "name": "stderr",
     "output_type": "stream",
     "text": [
      " 50%|█████     | 200/400 [06:35<2:00:00, 36.00s/it]"
     ]
    },
    {
     "name": "stdout",
     "output_type": "stream",
     "text": [
      "Memory usage after optimization is: 2247.53 MB\n",
      "Decreased by 58.3%\n"
     ]
    },
    {
     "name": "stderr",
     "output_type": "stream",
     "text": [
      " 75%|███████▍  | 299/400 [07:46<01:12,  1.40it/s]  "
     ]
    },
    {
     "name": "stdout",
     "output_type": "stream",
     "text": [
      "Memory usage of dataframe is 5385.55 MB\n"
     ]
    },
    {
     "name": "stderr",
     "output_type": "stream",
     "text": [
      " 75%|███████▌  | 300/400 [09:42<59:00, 35.40s/it]"
     ]
    },
    {
     "name": "stdout",
     "output_type": "stream",
     "text": [
      "Memory usage after optimization is: 2243.98 MB\n",
      "Decreased by 58.3%\n"
     ]
    },
    {
     "name": "stderr",
     "output_type": "stream",
     "text": [
      "100%|█████████▉| 399/400 [10:53<00:00,  1.39it/s]"
     ]
    },
    {
     "name": "stdout",
     "output_type": "stream",
     "text": [
      "Memory usage of dataframe is 5399.59 MB\n",
      "Memory usage after optimization is: 2249.83 MB\n",
      "Decreased by 58.3%\n"
     ]
    },
    {
     "name": "stderr",
     "output_type": "stream",
     "text": [
      "100%|██████████| 400/400 [12:51<00:00,  1.93s/it]\n"
     ]
    },
    {
     "name": "stdout",
     "output_type": "stream",
     "text": [
      "Memory usage of dataframe is 19765.57 MB\n",
      "Memory usage after optimization is: 13683.86 MB\n",
      "Decreased by 30.8%\n",
      "week3\n",
      "['train_sessions_week1.pkl', 'test_sessions_week1.pkl', 'train_sessions_week2.pkl', 'test_sessions_week2.pkl', 'train_sessions_week3.pkl', 'train_sessions_week4.pkl', 'test_sessions_week4.pkl', 'test_sessions.pkl']\n"
     ]
    },
    {
     "name": "stderr",
     "output_type": "stream",
     "text": [
      " 25%|██▍       | 99/400 [01:17<03:02,  1.65it/s] "
     ]
    },
    {
     "name": "stdout",
     "output_type": "stream",
     "text": [
      "Memory usage of dataframe is 4821.61 MB\n"
     ]
    },
    {
     "name": "stderr",
     "output_type": "stream",
     "text": [
      " 25%|██▌       | 100/400 [03:04<2:41:39, 32.33s/it]"
     ]
    },
    {
     "name": "stdout",
     "output_type": "stream",
     "text": [
      "Memory usage after optimization is: 2009.00 MB\n",
      "Decreased by 58.3%\n"
     ]
    },
    {
     "name": "stderr",
     "output_type": "stream",
     "text": [
      " 50%|████▉     | 199/400 [04:05<02:03,  1.63it/s]  "
     ]
    },
    {
     "name": "stdout",
     "output_type": "stream",
     "text": [
      "Memory usage of dataframe is 4806.73 MB\n"
     ]
    },
    {
     "name": "stderr",
     "output_type": "stream",
     "text": [
      " 50%|█████     | 200/400 [05:50<1:46:39, 32.00s/it]"
     ]
    },
    {
     "name": "stdout",
     "output_type": "stream",
     "text": [
      "Memory usage after optimization is: 2002.80 MB\n",
      "Decreased by 58.3%\n"
     ]
    },
    {
     "name": "stderr",
     "output_type": "stream",
     "text": [
      " 75%|███████▍  | 299/400 [06:52<01:01,  1.64it/s]  "
     ]
    },
    {
     "name": "stdout",
     "output_type": "stream",
     "text": [
      "Memory usage of dataframe is 4800.27 MB\n"
     ]
    },
    {
     "name": "stderr",
     "output_type": "stream",
     "text": [
      " 75%|███████▌  | 300/400 [08:37<53:33, 32.13s/it]"
     ]
    },
    {
     "name": "stdout",
     "output_type": "stream",
     "text": [
      "Memory usage after optimization is: 2000.11 MB\n",
      "Decreased by 58.3%\n"
     ]
    },
    {
     "name": "stderr",
     "output_type": "stream",
     "text": [
      "100%|█████████▉| 399/400 [09:38<00:00,  1.61it/s]"
     ]
    },
    {
     "name": "stdout",
     "output_type": "stream",
     "text": [
      "Memory usage of dataframe is 4817.16 MB\n"
     ]
    },
    {
     "name": "stderr",
     "output_type": "stream",
     "text": [
      "100%|██████████| 400/400 [11:22<00:00,  1.71s/it]"
     ]
    },
    {
     "name": "stdout",
     "output_type": "stream",
     "text": [
      "Memory usage after optimization is: 2007.15 MB\n",
      "Decreased by 58.3%\n"
     ]
    },
    {
     "name": "stderr",
     "output_type": "stream",
     "text": [
      "\n"
     ]
    },
    {
     "name": "stdout",
     "output_type": "stream",
     "text": [
      "Memory usage of dataframe is 17679.10 MB\n",
      "Memory usage after optimization is: 12239.38 MB\n",
      "Decreased by 30.8%\n",
      "week4\n",
      "['train_sessions_week1.pkl', 'test_sessions_week1.pkl', 'train_sessions_week2.pkl', 'test_sessions_week2.pkl', 'train_sessions_week3.pkl', 'test_sessions_week3.pkl', 'train_sessions_week4.pkl', 'test_sessions.pkl']\n"
     ]
    },
    {
     "name": "stderr",
     "output_type": "stream",
     "text": [
      " 25%|██▍       | 99/400 [01:18<03:09,  1.58it/s] "
     ]
    },
    {
     "name": "stdout",
     "output_type": "stream",
     "text": [
      "Memory usage of dataframe is 4810.28 MB\n"
     ]
    },
    {
     "name": "stderr",
     "output_type": "stream",
     "text": [
      " 25%|██▌       | 100/400 [03:06<2:45:03, 33.01s/it]"
     ]
    },
    {
     "name": "stdout",
     "output_type": "stream",
     "text": [
      "Memory usage after optimization is: 2004.28 MB\n",
      "Decreased by 58.3%\n"
     ]
    },
    {
     "name": "stderr",
     "output_type": "stream",
     "text": [
      " 50%|████▉     | 199/400 [04:09<02:00,  1.67it/s]  "
     ]
    },
    {
     "name": "stdout",
     "output_type": "stream",
     "text": [
      "Memory usage of dataframe is 4807.40 MB\n"
     ]
    },
    {
     "name": "stderr",
     "output_type": "stream",
     "text": [
      " 50%|█████     | 200/400 [05:56<1:49:14, 32.77s/it]"
     ]
    },
    {
     "name": "stdout",
     "output_type": "stream",
     "text": [
      "Memory usage after optimization is: 2003.08 MB\n",
      "Decreased by 58.3%\n"
     ]
    },
    {
     "name": "stderr",
     "output_type": "stream",
     "text": [
      " 75%|███████▍  | 299/400 [06:58<01:02,  1.62it/s]  "
     ]
    },
    {
     "name": "stdout",
     "output_type": "stream",
     "text": [
      "Memory usage of dataframe is 4798.44 MB\n"
     ]
    },
    {
     "name": "stderr",
     "output_type": "stream",
     "text": [
      " 75%|███████▌  | 300/400 [08:45<54:20, 32.60s/it]"
     ]
    },
    {
     "name": "stdout",
     "output_type": "stream",
     "text": [
      "Memory usage after optimization is: 1999.35 MB\n",
      "Decreased by 58.3%\n"
     ]
    },
    {
     "name": "stderr",
     "output_type": "stream",
     "text": [
      "100%|█████████▉| 399/400 [09:47<00:00,  1.65it/s]"
     ]
    },
    {
     "name": "stdout",
     "output_type": "stream",
     "text": [
      "Memory usage of dataframe is 4809.31 MB\n"
     ]
    },
    {
     "name": "stderr",
     "output_type": "stream",
     "text": [
      "100%|██████████| 400/400 [11:33<00:00,  1.73s/it]"
     ]
    },
    {
     "name": "stdout",
     "output_type": "stream",
     "text": [
      "Memory usage after optimization is: 2003.88 MB\n",
      "Decreased by 58.3%\n"
     ]
    },
    {
     "name": "stderr",
     "output_type": "stream",
     "text": [
      "\n"
     ]
    },
    {
     "name": "stdout",
     "output_type": "stream",
     "text": [
      "Memory usage of dataframe is 17637.76 MB\n",
      "Memory usage after optimization is: 12210.76 MB\n",
      "Decreased by 30.8%\n"
     ]
    }
   ],
   "source": [
    "for week in weeks:\n",
    "\n",
    "    print(week)\n",
    "        \n",
    "    # データ読み込み\n",
    "    files = [\n",
    "        \"train_sessions_week1.pkl\",\n",
    "        \"test_sessions_week1.pkl\",\n",
    "        \"train_sessions_week2.pkl\",\n",
    "        \"test_sessions_week2.pkl\",\n",
    "        \"train_sessions_week3.pkl\",\n",
    "        \"test_sessions_week3.pkl\",\n",
    "        \"train_sessions_week4.pkl\",\n",
    "        \"test_sessions_week4.pkl\",\n",
    "        \"test_sessions.pkl\"\n",
    "    ]    \n",
    "\n",
    "    if week is not None:\n",
    "        files.remove(f\"test_sessions_{week}.pkl\")\n",
    "\n",
    "    print(files)\n",
    "\n",
    "    dfs = []\n",
    "    for file in files:\n",
    "        dfs.append(pd.read_pickle(PREP_DIR + file))\n",
    "    sessions = pd.concat(dfs)\n",
    "\n",
    "    sessions = sessions.drop(columns=[\"type\"])\n",
    "    sessions[\"ts\"] = (sessions[\"ts\"]/1000).astype(\"int32\")\n",
    "\n",
    "    # chunkのグループ分け\n",
    "    sessions[\"chunk\"] = sessions[\"session\"] % CHUNK_N\n",
    "\n",
    "    del dfs\n",
    "    gc.collect()\n",
    "\n",
    "    dfs_outer = []\n",
    "    dfs_inner = []\n",
    "\n",
    "    pair_df = pd.DataFrame(columns=[\"aid_x\", \"aid_y\", \"cnt\"])\n",
    "    for i, chunk_df in tqdm(sessions.groupby(\"chunk\"), total=CHUNK_N):\n",
    "        df = cudf.from_pandas(chunk_df)\n",
    "        df = df.merge(df, on=\"session\")\n",
    "        df = df.loc[((df.ts_x - df.ts_y).abs() < 24 * 60 * 60) & (df.aid_x != df.aid_y)]\n",
    "        df[\"wt\"] = (W - 1) * (1 - (df.ts_x - df.ts_y).abs() / (24*60*60)) + 1\n",
    "        df = df.sort_values(\"wt\").drop_duplicates(subset=[\"session\", \"aid_x\", \"aid_y\"], keep=\"last\")\n",
    "        df = df.groupby([\"aid_x\", \"aid_y\"])[\"wt\"].sum().reset_index()\n",
    "        df = df.sort_values([\"aid_x\", \"wt\"], ascending=(True, False))\n",
    "        df = df[df.groupby(\"aid_x\").cumcount()<30]\n",
    "        dfs_inner.append(df.to_pandas())\n",
    "\n",
    "        if i % 100 == 99:\n",
    "            if len(dfs_inner) > 0:\n",
    "                pair_df_inner = pd.concat(dfs_inner)\n",
    "                pair_df_inner = pair_df_inner.groupby([\"aid_x\", \"aid_y\"])[\"wt\"].sum().reset_index()\n",
    "                pair_df_inner = reduce_mem_usage(pair_df_inner)\n",
    "                dfs_outer.append(pair_df_inner)\n",
    "                dfs_inner = []\n",
    "                del pair_df_inner\n",
    "                gc.collect()\n",
    "\n",
    "    if len(dfs_inner) > 0:\n",
    "        pair_df_inner = pd.concat(dfs_inner)\n",
    "        pair_df_inner = pair_df_inner.groupby([\"aid_x\", \"aid_y\"])[\"wt\"].sum().reset_index()\n",
    "        dfs_outer.append(pair_df_inner)\n",
    "        del pair_df_inner\n",
    "        gc.collect()\n",
    "\n",
    "    del dfs_inner\n",
    "    gc.collect()\n",
    "\n",
    "    pair_df = pd.concat(dfs_outer)\n",
    "    pair_df = pair_df.groupby([\"aid_x\", \"aid_y\"])[\"wt\"].sum().reset_index()\n",
    "    pair_df = pair_df.sort_values([\"aid_x\", \"wt\"], ascending=(True, False))\n",
    "\n",
    "    pair_df = reduce_mem_usage(pair_df)\n",
    "\n",
    "    if week is not None:\n",
    "        pair_df.to_pickle(PREP_DIR + f\"co_visitation_matrix_time_weighted_{week}.pkl\")\n",
    "    else:\n",
    "        pair_df.to_pickle(PREP_DIR + f\"co_visitation_matrix_time_weighted.pkl\")\n",
    "\n",
    "\n",
    "    del pair_df\n",
    "    gc.collect()"
   ]
  }
 ],
 "metadata": {
  "kernelspec": {
   "display_name": "Python 3.8.13 ('base')",
   "language": "python",
   "name": "python3"
  },
  "language_info": {
   "codemirror_mode": {
    "name": "ipython",
    "version": 3
   },
   "file_extension": ".py",
   "mimetype": "text/x-python",
   "name": "python",
   "nbconvert_exporter": "python",
   "pygments_lexer": "ipython3",
   "version": "3.8.13"
  },
  "orig_nbformat": 4,
  "vscode": {
   "interpreter": {
    "hash": "d4d1e4263499bec80672ea0156c357c1ee493ec2b1c70f0acce89fc37c4a6abe"
   }
  }
 },
 "nbformat": 4,
 "nbformat_minor": 2
}
