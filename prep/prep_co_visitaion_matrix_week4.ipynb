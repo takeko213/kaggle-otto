{
 "cells": [
  {
   "cell_type": "markdown",
   "metadata": {},
   "source": [
    "# co-visitation matrix"
   ]
  },
  {
   "cell_type": "code",
   "execution_count": 1,
   "metadata": {},
   "outputs": [],
   "source": [
    "import os\n",
    "import sys\n",
    "import gc\n",
    "import subprocess\n",
    "from dotenv import load_dotenv\n",
    "load_dotenv\n",
    "sys.path.append(os.getenv('UTILS_PATH'))\n",
    "from tqdm import tqdm\n",
    "import multiprocessing\n",
    "import random\n",
    "from collections import defaultdict\n",
    "\n",
    "import pandas as pd\n",
    "import cudf"
   ]
  },
  {
   "cell_type": "code",
   "execution_count": 2,
   "metadata": {},
   "outputs": [],
   "source": [
    "SEED = 42\n",
    "random.seed(SEED)"
   ]
  },
  {
   "cell_type": "code",
   "execution_count": 3,
   "metadata": {},
   "outputs": [],
   "source": [
    "INPUT_DIR = os.getenv('INPUT_DIR')\n",
    "OUTPUT_DIR = os.getenv('OUTPUT_DIR')\n",
    "PREP_DIR = os.getenv(\"PREP_DIR\")"
   ]
  },
  {
   "cell_type": "code",
   "execution_count": 4,
   "metadata": {},
   "outputs": [],
   "source": [
    "CHUNK_N = 400"
   ]
  },
  {
   "cell_type": "code",
   "execution_count": 5,
   "metadata": {},
   "outputs": [],
   "source": [
    "week = \"week4\""
   ]
  },
  {
   "cell_type": "code",
   "execution_count": 6,
   "metadata": {},
   "outputs": [
    {
     "data": {
      "text/plain": [
       "20"
      ]
     },
     "execution_count": 6,
     "metadata": {},
     "output_type": "execute_result"
    }
   ],
   "source": [
    "# データ読み込み\n",
    "files = [\n",
    "    \"train_sessions_week1.pkl\",\n",
    "    \"test_sessions_week1.pkl\",\n",
    "    \"train_sessions_week2.pkl\",\n",
    "    \"test_sessions_week2.pkl\",\n",
    "    \"train_sessions_week3.pkl\",\n",
    "    \"test_sessions_week3.pkl\",\n",
    "    \"train_sessions_week4.pkl\",\n",
    "#   \"test_sessions_week4.pkl\",\n",
    "    \"test_sessions.pkl\"\n",
    "]\n",
    "\n",
    "dfs = []\n",
    "\n",
    "for file in files:\n",
    "    dfs.append(pd.read_pickle(PREP_DIR + file))\n",
    "sessions = pd.concat(dfs)\n",
    "\n",
    "sessions = sessions.drop(columns=[\"type\"])\n",
    "sessions[\"ts\"] = (sessions[\"ts\"]/1000).astype(\"int32\")\n",
    "\n",
    "# chunkのグループ分け\n",
    "sessions[\"chunk\"] = sessions[\"session\"] % CHUNK_N\n",
    "\n",
    "del dfs\n",
    "gc.collect()"
   ]
  },
  {
   "cell_type": "code",
   "execution_count": 7,
   "metadata": {},
   "outputs": [
    {
     "name": "stderr",
     "output_type": "stream",
     "text": [
      "100%|██████████| 400/400 [05:33<00:00,  1.20it/s]  \n"
     ]
    },
    {
     "ename": "KeyboardInterrupt",
     "evalue": "",
     "output_type": "error",
     "traceback": [
      "\u001b[0;31m---------------------------------------------------------------------------\u001b[0m",
      "\u001b[0;31mKeyboardInterrupt\u001b[0m                         Traceback (most recent call last)",
      "Cell \u001b[0;32mIn [7], line 34\u001b[0m\n\u001b[1;32m     31\u001b[0m gc\u001b[39m.\u001b[39mcollect()\n\u001b[1;32m     33\u001b[0m pair_df \u001b[39m=\u001b[39m pd\u001b[39m.\u001b[39mconcat(dfs_outer)\n\u001b[0;32m---> 34\u001b[0m pair_df \u001b[39m=\u001b[39m pair_df\u001b[39m.\u001b[39;49mgroupby([\u001b[39m\"\u001b[39;49m\u001b[39maid_x\u001b[39;49m\u001b[39m\"\u001b[39;49m, \u001b[39m\"\u001b[39;49m\u001b[39maid_y\u001b[39;49m\u001b[39m\"\u001b[39;49m])[\u001b[39m\"\u001b[39;49m\u001b[39mcnt\u001b[39;49m\u001b[39m\"\u001b[39;49m]\u001b[39m.\u001b[39;49msum()\u001b[39m.\u001b[39mreset_index()\n\u001b[1;32m     35\u001b[0m pair_df \u001b[39m=\u001b[39m pair_df\u001b[39m.\u001b[39msort_values([\u001b[39m\"\u001b[39m\u001b[39maid_x\u001b[39m\u001b[39m\"\u001b[39m, \u001b[39m\"\u001b[39m\u001b[39mcnt\u001b[39m\u001b[39m\"\u001b[39m], ascending\u001b[39m=\u001b[39m(\u001b[39mTrue\u001b[39;00m, \u001b[39mFalse\u001b[39;00m))\n\u001b[1;32m     36\u001b[0m \u001b[39m#pair_df = pair_df.groupby(\"aid_x\").head(20)\u001b[39;00m\n",
      "File \u001b[0;32m/opt/conda/lib/python3.8/site-packages/pandas/core/groupby/groupby.py:2198\u001b[0m, in \u001b[0;36mGroupBy.sum\u001b[0;34m(self, numeric_only, min_count, engine, engine_kwargs)\u001b[0m\n\u001b[1;32m   2194\u001b[0m \u001b[39m# If we are grouping on categoricals we want unobserved categories to\u001b[39;00m\n\u001b[1;32m   2195\u001b[0m \u001b[39m# return zero, rather than the default of NaN which the reindexing in\u001b[39;00m\n\u001b[1;32m   2196\u001b[0m \u001b[39m# _agg_general() returns. GH #31422\u001b[39;00m\n\u001b[1;32m   2197\u001b[0m \u001b[39mwith\u001b[39;00m com\u001b[39m.\u001b[39mtemp_setattr(\u001b[39mself\u001b[39m, \u001b[39m\"\u001b[39m\u001b[39mobserved\u001b[39m\u001b[39m\"\u001b[39m, \u001b[39mTrue\u001b[39;00m):\n\u001b[0;32m-> 2198\u001b[0m     result \u001b[39m=\u001b[39m \u001b[39mself\u001b[39;49m\u001b[39m.\u001b[39;49m_agg_general(\n\u001b[1;32m   2199\u001b[0m         numeric_only\u001b[39m=\u001b[39;49mnumeric_only,\n\u001b[1;32m   2200\u001b[0m         min_count\u001b[39m=\u001b[39;49mmin_count,\n\u001b[1;32m   2201\u001b[0m         alias\u001b[39m=\u001b[39;49m\u001b[39m\"\u001b[39;49m\u001b[39madd\u001b[39;49m\u001b[39m\"\u001b[39;49m,\n\u001b[1;32m   2202\u001b[0m         npfunc\u001b[39m=\u001b[39;49mnp\u001b[39m.\u001b[39;49msum,\n\u001b[1;32m   2203\u001b[0m     )\n\u001b[1;32m   2205\u001b[0m \u001b[39mreturn\u001b[39;00m \u001b[39mself\u001b[39m\u001b[39m.\u001b[39m_reindex_output(result, fill_value\u001b[39m=\u001b[39m\u001b[39m0\u001b[39m)\n",
      "File \u001b[0;32m/opt/conda/lib/python3.8/site-packages/pandas/core/groupby/groupby.py:1515\u001b[0m, in \u001b[0;36mGroupBy._agg_general\u001b[0;34m(self, numeric_only, min_count, alias, npfunc)\u001b[0m\n\u001b[1;32m   1503\u001b[0m \u001b[39m@final\u001b[39m\n\u001b[1;32m   1504\u001b[0m \u001b[39mdef\u001b[39;00m \u001b[39m_agg_general\u001b[39m(\n\u001b[1;32m   1505\u001b[0m     \u001b[39mself\u001b[39m,\n\u001b[0;32m   (...)\u001b[0m\n\u001b[1;32m   1510\u001b[0m     npfunc: Callable,\n\u001b[1;32m   1511\u001b[0m ):\n\u001b[1;32m   1513\u001b[0m     \u001b[39mwith\u001b[39;00m \u001b[39mself\u001b[39m\u001b[39m.\u001b[39m_group_selection_context():\n\u001b[1;32m   1514\u001b[0m         \u001b[39m# try a cython aggregation if we can\u001b[39;00m\n\u001b[0;32m-> 1515\u001b[0m         result \u001b[39m=\u001b[39m \u001b[39mself\u001b[39;49m\u001b[39m.\u001b[39;49m_cython_agg_general(\n\u001b[1;32m   1516\u001b[0m             how\u001b[39m=\u001b[39;49malias,\n\u001b[1;32m   1517\u001b[0m             alt\u001b[39m=\u001b[39;49mnpfunc,\n\u001b[1;32m   1518\u001b[0m             numeric_only\u001b[39m=\u001b[39;49mnumeric_only,\n\u001b[1;32m   1519\u001b[0m             min_count\u001b[39m=\u001b[39;49mmin_count,\n\u001b[1;32m   1520\u001b[0m         )\n\u001b[1;32m   1521\u001b[0m         \u001b[39mreturn\u001b[39;00m result\u001b[39m.\u001b[39m__finalize__(\u001b[39mself\u001b[39m\u001b[39m.\u001b[39mobj, method\u001b[39m=\u001b[39m\u001b[39m\"\u001b[39m\u001b[39mgroupby\u001b[39m\u001b[39m\"\u001b[39m)\n",
      "File \u001b[0;32m/opt/conda/lib/python3.8/site-packages/pandas/core/groupby/groupby.py:1601\u001b[0m, in \u001b[0;36mGroupBy._cython_agg_general\u001b[0;34m(self, how, alt, numeric_only, min_count)\u001b[0m\n\u001b[1;32m   1597\u001b[0m     \u001b[39mreturn\u001b[39;00m result\n\u001b[1;32m   1599\u001b[0m \u001b[39m# TypeError -> we may have an exception in trying to aggregate\u001b[39;00m\n\u001b[1;32m   1600\u001b[0m \u001b[39m#  continue and exclude the block\u001b[39;00m\n\u001b[0;32m-> 1601\u001b[0m new_mgr \u001b[39m=\u001b[39m data\u001b[39m.\u001b[39;49mgrouped_reduce(array_func, ignore_failures\u001b[39m=\u001b[39;49m\u001b[39mTrue\u001b[39;49;00m)\n\u001b[1;32m   1603\u001b[0m \u001b[39mif\u001b[39;00m \u001b[39mnot\u001b[39;00m is_ser \u001b[39mand\u001b[39;00m \u001b[39mlen\u001b[39m(new_mgr) \u001b[39m<\u001b[39m \u001b[39mlen\u001b[39m(data):\n\u001b[1;32m   1604\u001b[0m     warn_dropping_nuisance_columns_deprecated(\u001b[39mtype\u001b[39m(\u001b[39mself\u001b[39m), how)\n",
      "File \u001b[0;32m/opt/conda/lib/python3.8/site-packages/pandas/core/internals/base.py:199\u001b[0m, in \u001b[0;36mSingleDataManager.grouped_reduce\u001b[0;34m(self, func, ignore_failures)\u001b[0m\n\u001b[1;32m    193\u001b[0m \u001b[39m\"\"\"\u001b[39;00m\n\u001b[1;32m    194\u001b[0m \u001b[39mignore_failures : bool, default False\u001b[39;00m\n\u001b[1;32m    195\u001b[0m \u001b[39m    Not used; for compatibility with ArrayManager/BlockManager.\u001b[39;00m\n\u001b[1;32m    196\u001b[0m \u001b[39m\"\"\"\u001b[39;00m\n\u001b[1;32m    198\u001b[0m arr \u001b[39m=\u001b[39m \u001b[39mself\u001b[39m\u001b[39m.\u001b[39marray\n\u001b[0;32m--> 199\u001b[0m res \u001b[39m=\u001b[39m func(arr)\n\u001b[1;32m    200\u001b[0m index \u001b[39m=\u001b[39m default_index(\u001b[39mlen\u001b[39m(res))\n\u001b[1;32m    202\u001b[0m mgr \u001b[39m=\u001b[39m \u001b[39mtype\u001b[39m(\u001b[39mself\u001b[39m)\u001b[39m.\u001b[39mfrom_array(res, index)\n",
      "File \u001b[0;32m/opt/conda/lib/python3.8/site-packages/pandas/core/groupby/groupby.py:1587\u001b[0m, in \u001b[0;36mGroupBy._cython_agg_general.<locals>.array_func\u001b[0;34m(values)\u001b[0m\n\u001b[1;32m   1585\u001b[0m \u001b[39mdef\u001b[39;00m \u001b[39marray_func\u001b[39m(values: ArrayLike) \u001b[39m-\u001b[39m\u001b[39m>\u001b[39m ArrayLike:\n\u001b[1;32m   1586\u001b[0m     \u001b[39mtry\u001b[39;00m:\n\u001b[0;32m-> 1587\u001b[0m         result \u001b[39m=\u001b[39m \u001b[39mself\u001b[39;49m\u001b[39m.\u001b[39;49mgrouper\u001b[39m.\u001b[39;49m_cython_operation(\n\u001b[1;32m   1588\u001b[0m             \u001b[39m\"\u001b[39;49m\u001b[39maggregate\u001b[39;49m\u001b[39m\"\u001b[39;49m, values, how, axis\u001b[39m=\u001b[39;49mdata\u001b[39m.\u001b[39;49mndim \u001b[39m-\u001b[39;49m \u001b[39m1\u001b[39;49m, min_count\u001b[39m=\u001b[39;49mmin_count\n\u001b[1;32m   1589\u001b[0m         )\n\u001b[1;32m   1590\u001b[0m     \u001b[39mexcept\u001b[39;00m \u001b[39mNotImplementedError\u001b[39;00m:\n\u001b[1;32m   1591\u001b[0m         \u001b[39m# generally if we have numeric_only=False\u001b[39;00m\n\u001b[1;32m   1592\u001b[0m         \u001b[39m# and non-applicable functions\u001b[39;00m\n\u001b[1;32m   1593\u001b[0m         \u001b[39m# try to python agg\u001b[39;00m\n\u001b[1;32m   1594\u001b[0m         \u001b[39m# TODO: shouldn't min_count matter?\u001b[39;00m\n\u001b[1;32m   1595\u001b[0m         result \u001b[39m=\u001b[39m \u001b[39mself\u001b[39m\u001b[39m.\u001b[39m_agg_py_fallback(values, ndim\u001b[39m=\u001b[39mdata\u001b[39m.\u001b[39mndim, alt\u001b[39m=\u001b[39malt)\n",
      "File \u001b[0;32m/opt/conda/lib/python3.8/site-packages/pandas/core/groupby/ops.py:937\u001b[0m, in \u001b[0;36mBaseGrouper._cython_operation\u001b[0;34m(self, kind, values, how, axis, min_count, **kwargs)\u001b[0m\n\u001b[1;32m    933\u001b[0m \u001b[39massert\u001b[39;00m kind \u001b[39min\u001b[39;00m [\u001b[39m\"\u001b[39m\u001b[39mtransform\u001b[39m\u001b[39m\"\u001b[39m, \u001b[39m\"\u001b[39m\u001b[39maggregate\u001b[39m\u001b[39m\"\u001b[39m]\n\u001b[1;32m    935\u001b[0m cy_op \u001b[39m=\u001b[39m WrappedCythonOp(kind\u001b[39m=\u001b[39mkind, how\u001b[39m=\u001b[39mhow)\n\u001b[0;32m--> 937\u001b[0m ids, _, _ \u001b[39m=\u001b[39m \u001b[39mself\u001b[39;49m\u001b[39m.\u001b[39;49mgroup_info\n\u001b[1;32m    938\u001b[0m ngroups \u001b[39m=\u001b[39m \u001b[39mself\u001b[39m\u001b[39m.\u001b[39mngroups\n\u001b[1;32m    939\u001b[0m \u001b[39mreturn\u001b[39;00m cy_op\u001b[39m.\u001b[39mcython_operation(\n\u001b[1;32m    940\u001b[0m     values\u001b[39m=\u001b[39mvalues,\n\u001b[1;32m    941\u001b[0m     axis\u001b[39m=\u001b[39maxis,\n\u001b[0;32m   (...)\u001b[0m\n\u001b[1;32m    945\u001b[0m     \u001b[39m*\u001b[39m\u001b[39m*\u001b[39mkwargs,\n\u001b[1;32m    946\u001b[0m )\n",
      "File \u001b[0;32m/opt/conda/lib/python3.8/site-packages/pandas/_libs/properties.pyx:37\u001b[0m, in \u001b[0;36mpandas._libs.properties.CachedProperty.__get__\u001b[0;34m()\u001b[0m\n",
      "File \u001b[0;32m/opt/conda/lib/python3.8/site-packages/pandas/core/groupby/ops.py:834\u001b[0m, in \u001b[0;36mBaseGrouper.group_info\u001b[0;34m(self)\u001b[0m\n\u001b[1;32m    832\u001b[0m \u001b[39m@cache_readonly\u001b[39m\n\u001b[1;32m    833\u001b[0m \u001b[39mdef\u001b[39;00m \u001b[39mgroup_info\u001b[39m(\u001b[39mself\u001b[39m) \u001b[39m-\u001b[39m\u001b[39m>\u001b[39m \u001b[39mtuple\u001b[39m[npt\u001b[39m.\u001b[39mNDArray[np\u001b[39m.\u001b[39mintp], npt\u001b[39m.\u001b[39mNDArray[np\u001b[39m.\u001b[39mintp], \u001b[39mint\u001b[39m]:\n\u001b[0;32m--> 834\u001b[0m     comp_ids, obs_group_ids \u001b[39m=\u001b[39m \u001b[39mself\u001b[39;49m\u001b[39m.\u001b[39;49m_get_compressed_codes()\n\u001b[1;32m    836\u001b[0m     ngroups \u001b[39m=\u001b[39m \u001b[39mlen\u001b[39m(obs_group_ids)\n\u001b[1;32m    837\u001b[0m     comp_ids \u001b[39m=\u001b[39m ensure_platform_int(comp_ids)\n",
      "File \u001b[0;32m/opt/conda/lib/python3.8/site-packages/pandas/core/groupby/ops.py:859\u001b[0m, in \u001b[0;36mBaseGrouper._get_compressed_codes\u001b[0;34m(self)\u001b[0m\n\u001b[1;32m    857\u001b[0m \u001b[39mif\u001b[39;00m \u001b[39mlen\u001b[39m(\u001b[39mself\u001b[39m\u001b[39m.\u001b[39mgroupings) \u001b[39m>\u001b[39m \u001b[39m1\u001b[39m:\n\u001b[1;32m    858\u001b[0m     group_index \u001b[39m=\u001b[39m get_group_index(\u001b[39mself\u001b[39m\u001b[39m.\u001b[39mcodes, \u001b[39mself\u001b[39m\u001b[39m.\u001b[39mshape, sort\u001b[39m=\u001b[39m\u001b[39mTrue\u001b[39;00m, xnull\u001b[39m=\u001b[39m\u001b[39mTrue\u001b[39;00m)\n\u001b[0;32m--> 859\u001b[0m     \u001b[39mreturn\u001b[39;00m compress_group_index(group_index, sort\u001b[39m=\u001b[39;49m\u001b[39mself\u001b[39;49m\u001b[39m.\u001b[39;49m_sort)\n\u001b[1;32m    861\u001b[0m ping \u001b[39m=\u001b[39m \u001b[39mself\u001b[39m\u001b[39m.\u001b[39mgroupings[\u001b[39m0\u001b[39m]\n\u001b[1;32m    862\u001b[0m \u001b[39mreturn\u001b[39;00m ping\u001b[39m.\u001b[39mcodes, np\u001b[39m.\u001b[39marange(\u001b[39mlen\u001b[39m(ping\u001b[39m.\u001b[39mgroup_index), dtype\u001b[39m=\u001b[39mnp\u001b[39m.\u001b[39mintp)\n",
      "File \u001b[0;32m/opt/conda/lib/python3.8/site-packages/pandas/core/sorting.py:678\u001b[0m, in \u001b[0;36mcompress_group_index\u001b[0;34m(group_index, sort)\u001b[0m\n\u001b[1;32m    675\u001b[0m comp_ids, obs_group_ids \u001b[39m=\u001b[39m table\u001b[39m.\u001b[39mget_labels_groupby(group_index)\n\u001b[1;32m    677\u001b[0m \u001b[39mif\u001b[39;00m sort \u001b[39mand\u001b[39;00m \u001b[39mlen\u001b[39m(obs_group_ids) \u001b[39m>\u001b[39m \u001b[39m0\u001b[39m:\n\u001b[0;32m--> 678\u001b[0m     obs_group_ids, comp_ids \u001b[39m=\u001b[39m _reorder_by_uniques(obs_group_ids, comp_ids)\n\u001b[1;32m    680\u001b[0m \u001b[39mreturn\u001b[39;00m ensure_int64(comp_ids), ensure_int64(obs_group_ids)\n",
      "File \u001b[0;32m/opt/conda/lib/python3.8/site-packages/pandas/core/sorting.py:698\u001b[0m, in \u001b[0;36m_reorder_by_uniques\u001b[0;34m(uniques, labels)\u001b[0m\n\u001b[1;32m    686\u001b[0m \u001b[39m\"\"\"\u001b[39;00m\n\u001b[1;32m    687\u001b[0m \u001b[39mParameters\u001b[39;00m\n\u001b[1;32m    688\u001b[0m \u001b[39m----------\u001b[39;00m\n\u001b[0;32m   (...)\u001b[0m\n\u001b[1;32m    695\u001b[0m \u001b[39mnp.ndarray[np.intp]\u001b[39;00m\n\u001b[1;32m    696\u001b[0m \u001b[39m\"\"\"\u001b[39;00m\n\u001b[1;32m    697\u001b[0m \u001b[39m# sorter is index where elements ought to go\u001b[39;00m\n\u001b[0;32m--> 698\u001b[0m sorter \u001b[39m=\u001b[39m uniques\u001b[39m.\u001b[39;49margsort()\n\u001b[1;32m    700\u001b[0m \u001b[39m# reverse_indexer is where elements came from\u001b[39;00m\n\u001b[1;32m    701\u001b[0m reverse_indexer \u001b[39m=\u001b[39m np\u001b[39m.\u001b[39mempty(\u001b[39mlen\u001b[39m(sorter), dtype\u001b[39m=\u001b[39mnp\u001b[39m.\u001b[39mintp)\n",
      "\u001b[0;31mKeyboardInterrupt\u001b[0m: "
     ]
    }
   ],
   "source": [
    "dfs_outer = []\n",
    "dfs_inner = []\n",
    "\n",
    "pair_df = pd.DataFrame(columns=[\"aid_x\", \"aid_y\", \"cnt\"])\n",
    "for i, chunk_df in tqdm(sessions.groupby(\"chunk\"), total=CHUNK_N):\n",
    "    df = cudf.from_pandas(chunk_df)\n",
    "    df = df.merge(df, on=\"session\")\n",
    "    df = df.loc[((df.ts_x - df.ts_y).abs() < 24 * 60 * 60) & (df.aid_x != df.aid_y)]\n",
    "    df = df.groupby([\"aid_x\", \"aid_y\"])[\"session\"].count().reset_index()\n",
    "    df = df.rename(columns = {\"session\": \"cnt\"})\n",
    "    df = df[df[\"cnt\"]>2]\n",
    "    dfs_inner.append(df.to_pandas())\n",
    "\n",
    "    if i % 100 == 99:\n",
    "        if len(dfs_inner) > 0:\n",
    "            pair_df_inner = pd.concat(dfs_inner)\n",
    "            pair_df_inner = pair_df_inner.groupby([\"aid_x\", \"aid_y\"])[\"cnt\"].sum().reset_index()\n",
    "            dfs_outer.append(pair_df_inner)\n",
    "            dfs_inner = []\n",
    "            del pair_df_inner\n",
    "            gc.collect()\n",
    "\n",
    "if len(dfs_inner) > 0:\n",
    "    pair_df_inner = pd.concat(dfs_inner)\n",
    "    pair_df_inner = pair_df_inner.groupby([\"aid_x\", \"aid_y\"])[\"cnt\"].sum().reset_index()\n",
    "    dfs_outer.append(pair_df_inner)\n",
    "    del pair_df_inner\n",
    "    gc.collect()\n",
    "\n",
    "del dfs_inner\n",
    "gc.collect()\n",
    "\n",
    "pair_df = pd.concat(dfs_outer)\n",
    "pair_df = pair_df.groupby([\"aid_x\", \"aid_y\"])[\"cnt\"].sum().reset_index()\n",
    "pair_df = pair_df.sort_values([\"aid_x\", \"cnt\"], ascending=(True, False))\n",
    "#pair_df = pair_df.groupby(\"aid_x\").head(20)\n",
    "pair_df.to_pickle(PREP_DIR + f\"co_visitation_matrix_{week}.pkl\")"
   ]
  },
  {
   "cell_type": "code",
   "execution_count": null,
   "metadata": {},
   "outputs": [
    {
     "data": {
      "text/html": [
       "<div>\n",
       "<style scoped>\n",
       "    .dataframe tbody tr th:only-of-type {\n",
       "        vertical-align: middle;\n",
       "    }\n",
       "\n",
       "    .dataframe tbody tr th {\n",
       "        vertical-align: top;\n",
       "    }\n",
       "\n",
       "    .dataframe thead th {\n",
       "        text-align: right;\n",
       "    }\n",
       "</style>\n",
       "<table border=\"1\" class=\"dataframe\">\n",
       "  <thead>\n",
       "    <tr style=\"text-align: right;\">\n",
       "      <th></th>\n",
       "      <th>aid_x</th>\n",
       "      <th>aid_y</th>\n",
       "      <th>cnt</th>\n",
       "    </tr>\n",
       "  </thead>\n",
       "  <tbody>\n",
       "    <tr>\n",
       "      <th>32</th>\n",
       "      <td>0</td>\n",
       "      <td>643097</td>\n",
       "      <td>26</td>\n",
       "    </tr>\n",
       "    <tr>\n",
       "      <th>24</th>\n",
       "      <td>0</td>\n",
       "      <td>532042</td>\n",
       "      <td>22</td>\n",
       "    </tr>\n",
       "    <tr>\n",
       "      <th>49</th>\n",
       "      <td>0</td>\n",
       "      <td>994505</td>\n",
       "      <td>20</td>\n",
       "    </tr>\n",
       "    <tr>\n",
       "      <th>51</th>\n",
       "      <td>0</td>\n",
       "      <td>1012453</td>\n",
       "      <td>14</td>\n",
       "    </tr>\n",
       "    <tr>\n",
       "      <th>65</th>\n",
       "      <td>0</td>\n",
       "      <td>1350484</td>\n",
       "      <td>14</td>\n",
       "    </tr>\n",
       "    <tr>\n",
       "      <th>...</th>\n",
       "      <td>...</td>\n",
       "      <td>...</td>\n",
       "      <td>...</td>\n",
       "    </tr>\n",
       "    <tr>\n",
       "      <th>339301372</th>\n",
       "      <td>1855602</td>\n",
       "      <td>1634903</td>\n",
       "      <td>4</td>\n",
       "    </tr>\n",
       "    <tr>\n",
       "      <th>339301346</th>\n",
       "      <td>1855602</td>\n",
       "      <td>36026</td>\n",
       "      <td>3</td>\n",
       "    </tr>\n",
       "    <tr>\n",
       "      <th>339301347</th>\n",
       "      <td>1855602</td>\n",
       "      <td>54512</td>\n",
       "      <td>3</td>\n",
       "    </tr>\n",
       "    <tr>\n",
       "      <th>339301348</th>\n",
       "      <td>1855602</td>\n",
       "      <td>107254</td>\n",
       "      <td>3</td>\n",
       "    </tr>\n",
       "    <tr>\n",
       "      <th>339301349</th>\n",
       "      <td>1855602</td>\n",
       "      <td>134014</td>\n",
       "      <td>3</td>\n",
       "    </tr>\n",
       "  </tbody>\n",
       "</table>\n",
       "<p>30794394 rows × 3 columns</p>\n",
       "</div>"
      ],
      "text/plain": [
       "             aid_x    aid_y  cnt\n",
       "32               0   643097   26\n",
       "24               0   532042   22\n",
       "49               0   994505   20\n",
       "51               0  1012453   14\n",
       "65               0  1350484   14\n",
       "...            ...      ...  ...\n",
       "339301372  1855602  1634903    4\n",
       "339301346  1855602    36026    3\n",
       "339301347  1855602    54512    3\n",
       "339301348  1855602   107254    3\n",
       "339301349  1855602   134014    3\n",
       "\n",
       "[30794394 rows x 3 columns]"
      ]
     },
     "execution_count": 8,
     "metadata": {},
     "output_type": "execute_result"
    }
   ],
   "source": [
    "pair_df"
   ]
  }
 ],
 "metadata": {
  "kernelspec": {
   "display_name": "Python 3.8.13 ('base')",
   "language": "python",
   "name": "python3"
  },
  "language_info": {
   "codemirror_mode": {
    "name": "ipython",
    "version": 3
   },
   "file_extension": ".py",
   "mimetype": "text/x-python",
   "name": "python",
   "nbconvert_exporter": "python",
   "pygments_lexer": "ipython3",
   "version": "3.8.13 | packaged by conda-forge | (default, Mar 25 2022, 06:04:10) \n[GCC 10.3.0]"
  },
  "orig_nbformat": 4,
  "vscode": {
   "interpreter": {
    "hash": "d4d1e4263499bec80672ea0156c357c1ee493ec2b1c70f0acce89fc37c4a6abe"
   }
  }
 },
 "nbformat": 4,
 "nbformat_minor": 2
}
