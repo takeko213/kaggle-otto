{
 "cells": [
  {
   "cell_type": "markdown",
   "metadata": {},
   "source": [
    "# word2vec"
   ]
  },
  {
   "cell_type": "code",
   "execution_count": 1,
   "metadata": {},
   "outputs": [],
   "source": [
    "import os\n",
    "import sys\n",
    "import gc\n",
    "import subprocess\n",
    "from dotenv import load_dotenv\n",
    "load_dotenv\n",
    "sys.path.append(os.getenv('UTILS_PATH'))\n",
    "from tqdm import tqdm\n",
    "import multiprocessing\n",
    "import random\n",
    "from collections import defaultdict\n",
    "import pickle\n",
    "\n",
    "import pandas as pd\n",
    "import numpy as np\n",
    "import cudf\n",
    "import matplotlib.pyplot as plt\n",
    "from gensim.models import Word2Vec\n",
    "from gensim.similarities.annoy import AnnoyIndexer"
   ]
  },
  {
   "cell_type": "code",
   "execution_count": 2,
   "metadata": {},
   "outputs": [],
   "source": [
    "SEED = 42\n",
    "random.seed(SEED)\n",
    "cores = multiprocessing.cpu_count()"
   ]
  },
  {
   "cell_type": "code",
   "execution_count": 3,
   "metadata": {},
   "outputs": [],
   "source": [
    "INPUT_DIR = os.getenv('INPUT_DIR')\n",
    "OUTPUT_DIR = os.getenv('OUTPUT_DIR')\n",
    "PREP_DIR = os.getenv(\"PREP_DIR\")"
   ]
  },
  {
   "cell_type": "code",
   "execution_count": 4,
   "metadata": {},
   "outputs": [
    {
     "data": {
      "text/plain": [
       "0"
      ]
     },
     "execution_count": 4,
     "metadata": {},
     "output_type": "execute_result"
    }
   ],
   "source": [
    "# データ読み込み\n",
    "train_sessions = pd.read_pickle(PREP_DIR + \"train_sessions.pkl\")\n",
    "test_sessions = pd.read_pickle(PREP_DIR + \"test_sessions.pkl\")\n",
    "\n",
    "train_sessions = train_sessions.drop(columns=[\"type\", \"ts\"])\n",
    "test_sessions = test_sessions.drop(columns=[\"type\", \"ts\"])\n",
    "\n",
    "sessions = pd.concat([train_sessions, test_sessions])\n",
    "sentences = sessions.groupby(\"session\")[\"aid\"].apply(list).tolist()\n",
    "aids = sorted(sessions[\"aid\"].unique().tolist())\n",
    "\n",
    "del train_sessions, test_sessions\n",
    "gc.collect()"
   ]
  },
  {
   "cell_type": "code",
   "execution_count": 5,
   "metadata": {},
   "outputs": [],
   "source": [
    "w2v = Word2Vec(sentences=sentences, vector_size=50, min_count=1, window=20, workers=cores-1, seed=SEED, sg=1, epochs=4, sample=0)\n",
    "annoy_index = AnnoyIndexer(w2v, 50)"
   ]
  },
  {
   "cell_type": "code",
   "execution_count": 6,
   "metadata": {},
   "outputs": [],
   "source": [
    "with open(PREP_DIR + \"word2vec.pkl\", \"wb\") as f:\n",
    "    pickle.dump(w2v, f)"
   ]
  },
  {
   "cell_type": "code",
   "execution_count": 6,
   "metadata": {},
   "outputs": [
    {
     "name": "stderr",
     "output_type": "stream",
     "text": [
      "100%|██████████| 1855603/1855603 [08:39<00:00, 3572.00it/s]\n"
     ]
    },
    {
     "data": {
      "text/html": [
       "<div>\n",
       "<style scoped>\n",
       "    .dataframe tbody tr th:only-of-type {\n",
       "        vertical-align: middle;\n",
       "    }\n",
       "\n",
       "    .dataframe tbody tr th {\n",
       "        vertical-align: top;\n",
       "    }\n",
       "\n",
       "    .dataframe thead th {\n",
       "        text-align: right;\n",
       "    }\n",
       "</style>\n",
       "<table border=\"1\" class=\"dataframe\">\n",
       "  <thead>\n",
       "    <tr style=\"text-align: right;\">\n",
       "      <th></th>\n",
       "      <th>aid_x</th>\n",
       "      <th>aid_y</th>\n",
       "      <th>sim</th>\n",
       "    </tr>\n",
       "  </thead>\n",
       "  <tbody>\n",
       "    <tr>\n",
       "      <th>0</th>\n",
       "      <td>0</td>\n",
       "      <td>466458</td>\n",
       "      <td>0.817219</td>\n",
       "    </tr>\n",
       "    <tr>\n",
       "      <th>1</th>\n",
       "      <td>0</td>\n",
       "      <td>1423226</td>\n",
       "      <td>0.800505</td>\n",
       "    </tr>\n",
       "    <tr>\n",
       "      <th>2</th>\n",
       "      <td>0</td>\n",
       "      <td>556806</td>\n",
       "      <td>0.795435</td>\n",
       "    </tr>\n",
       "    <tr>\n",
       "      <th>3</th>\n",
       "      <td>0</td>\n",
       "      <td>1781001</td>\n",
       "      <td>0.793806</td>\n",
       "    </tr>\n",
       "    <tr>\n",
       "      <th>4</th>\n",
       "      <td>0</td>\n",
       "      <td>1098090</td>\n",
       "      <td>0.792751</td>\n",
       "    </tr>\n",
       "    <tr>\n",
       "      <th>5</th>\n",
       "      <td>0</td>\n",
       "      <td>467359</td>\n",
       "      <td>0.792213</td>\n",
       "    </tr>\n",
       "    <tr>\n",
       "      <th>6</th>\n",
       "      <td>0</td>\n",
       "      <td>170003</td>\n",
       "      <td>0.790647</td>\n",
       "    </tr>\n",
       "    <tr>\n",
       "      <th>7</th>\n",
       "      <td>0</td>\n",
       "      <td>1636583</td>\n",
       "      <td>0.789078</td>\n",
       "    </tr>\n",
       "    <tr>\n",
       "      <th>8</th>\n",
       "      <td>0</td>\n",
       "      <td>22351</td>\n",
       "      <td>0.788880</td>\n",
       "    </tr>\n",
       "    <tr>\n",
       "      <th>9</th>\n",
       "      <td>0</td>\n",
       "      <td>1696009</td>\n",
       "      <td>0.788624</td>\n",
       "    </tr>\n",
       "    <tr>\n",
       "      <th>10</th>\n",
       "      <td>0</td>\n",
       "      <td>457683</td>\n",
       "      <td>0.788606</td>\n",
       "    </tr>\n",
       "    <tr>\n",
       "      <th>11</th>\n",
       "      <td>0</td>\n",
       "      <td>1526457</td>\n",
       "      <td>0.787737</td>\n",
       "    </tr>\n",
       "    <tr>\n",
       "      <th>12</th>\n",
       "      <td>0</td>\n",
       "      <td>854504</td>\n",
       "      <td>0.787379</td>\n",
       "    </tr>\n",
       "    <tr>\n",
       "      <th>13</th>\n",
       "      <td>0</td>\n",
       "      <td>1656434</td>\n",
       "      <td>0.786613</td>\n",
       "    </tr>\n",
       "    <tr>\n",
       "      <th>14</th>\n",
       "      <td>0</td>\n",
       "      <td>1732365</td>\n",
       "      <td>0.785751</td>\n",
       "    </tr>\n",
       "    <tr>\n",
       "      <th>15</th>\n",
       "      <td>0</td>\n",
       "      <td>574660</td>\n",
       "      <td>0.785110</td>\n",
       "    </tr>\n",
       "    <tr>\n",
       "      <th>16</th>\n",
       "      <td>0</td>\n",
       "      <td>1219878</td>\n",
       "      <td>0.784529</td>\n",
       "    </tr>\n",
       "    <tr>\n",
       "      <th>17</th>\n",
       "      <td>0</td>\n",
       "      <td>271168</td>\n",
       "      <td>0.784109</td>\n",
       "    </tr>\n",
       "    <tr>\n",
       "      <th>18</th>\n",
       "      <td>0</td>\n",
       "      <td>147218</td>\n",
       "      <td>0.783081</td>\n",
       "    </tr>\n",
       "    <tr>\n",
       "      <th>19</th>\n",
       "      <td>0</td>\n",
       "      <td>1574978</td>\n",
       "      <td>0.782159</td>\n",
       "    </tr>\n",
       "  </tbody>\n",
       "</table>\n",
       "</div>"
      ],
      "text/plain": [
       "    aid_x    aid_y       sim\n",
       "0       0   466458  0.817219\n",
       "1       0  1423226  0.800505\n",
       "2       0   556806  0.795435\n",
       "3       0  1781001  0.793806\n",
       "4       0  1098090  0.792751\n",
       "5       0   467359  0.792213\n",
       "6       0   170003  0.790647\n",
       "7       0  1636583  0.789078\n",
       "8       0    22351  0.788880\n",
       "9       0  1696009  0.788624\n",
       "10      0   457683  0.788606\n",
       "11      0  1526457  0.787737\n",
       "12      0   854504  0.787379\n",
       "13      0  1656434  0.786613\n",
       "14      0  1732365  0.785751\n",
       "15      0   574660  0.785110\n",
       "16      0  1219878  0.784529\n",
       "17      0   271168  0.784109\n",
       "18      0   147218  0.783081\n",
       "19      0  1574978  0.782159"
      ]
     },
     "execution_count": 6,
     "metadata": {},
     "output_type": "execute_result"
    }
   ],
   "source": [
    "aid_xs = []\n",
    "aid_ys = []\n",
    "sims = []\n",
    "\n",
    "for aid in tqdm(aids):\n",
    "    mss = w2v.wv.most_similar(positive=[aid], topn=21, indexer=annoy_index)\n",
    "    aid_xs.extend([aid for _ in range(20)])\n",
    "    aid_ys.extend([ms[0] for ms in mss][1:])\n",
    "    sims.extend([ms[1] for ms in mss][1:])\n",
    "results = pd.DataFrame({\"aid_x\":aid_xs, \"aid_y\":aid_ys, \"sim\":sims})\n",
    "results.to_pickle(PREP_DIR + f\"word2vec_similar.pkl\")\n",
    "results.head(20)"
   ]
  },
  {
   "attachments": {},
   "cell_type": "markdown",
   "metadata": {},
   "source": [
    "# SVD"
   ]
  },
  {
   "cell_type": "code",
   "execution_count": 7,
   "metadata": {},
   "outputs": [],
   "source": [
    "vecs = w2v.wv.vectors\n",
    "keys = list(w2v.wv.key_to_index.keys())"
   ]
  },
  {
   "cell_type": "code",
   "execution_count": 11,
   "metadata": {},
   "outputs": [],
   "source": [
    "vecs_df = pd.DataFrame(vecs)\n",
    "vecs_df.columns = [f\"w2v_{str(c)}\" for c in vecs_df.columns]\n",
    "vecs_df[\"aid\"] = keys\n",
    "vecs_df.to_pickle(PREP_DIR + f\"w2v_vector_n50.pkl\")"
   ]
  },
  {
   "cell_type": "code",
   "execution_count": 86,
   "metadata": {},
   "outputs": [],
   "source": [
    "from sklearn.decomposition import TruncatedSVD\n",
    "\n",
    "for n_comp in [5,10,15,20]:\n",
    "    svd = TruncatedSVD(n_components=n_comp, random_state=SEED)\n",
    "    vecs_svd = svd.fit_transform(vecs)\n",
    "    vecs_df = pd.DataFrame(vecs_svd)\n",
    "    vecs_df.columns = [f\"w2v_{str(c)}\" for c in vecs_df.columns]\n",
    "    vecs_df[\"aid\"] = keys\n",
    "    vecs_df.to_pickle(PREP_DIR + f\"w2v_vector_n{str(n_comp)}.pkl\")"
   ]
  }
 ],
 "metadata": {
  "kernelspec": {
   "display_name": "Python 3.8.13 ('base')",
   "language": "python",
   "name": "python3"
  },
  "language_info": {
   "codemirror_mode": {
    "name": "ipython",
    "version": 3
   },
   "file_extension": ".py",
   "mimetype": "text/x-python",
   "name": "python",
   "nbconvert_exporter": "python",
   "pygments_lexer": "ipython3",
   "version": "3.8.13"
  },
  "orig_nbformat": 4,
  "vscode": {
   "interpreter": {
    "hash": "d4d1e4263499bec80672ea0156c357c1ee493ec2b1c70f0acce89fc37c4a6abe"
   }
  }
 },
 "nbformat": 4,
 "nbformat_minor": 2
}
