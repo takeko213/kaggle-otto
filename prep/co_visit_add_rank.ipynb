{
 "cells": [
  {
   "attachments": {},
   "cell_type": "markdown",
   "metadata": {},
   "source": [
    "# co_visit_add_rank\n",
    "co_visitation_matrixにrankを付与"
   ]
  },
  {
   "cell_type": "code",
   "execution_count": 1,
   "metadata": {},
   "outputs": [],
   "source": [
    "import os\n",
    "import sys\n",
    "import traceback\n",
    "import gc\n",
    "import random\n",
    "import pickle\n",
    "import pathlib\n",
    "import subprocess\n",
    "from dataclasses import dataclass\n",
    "from dotenv import load_dotenv\n",
    "load_dotenv\n",
    "sys.path.append(os.getenv('UTILS_PATH'))\n",
    "from tqdm import tqdm\n",
    "import multiprocessing\n",
    "import inspect\n",
    "\n",
    "import pandas as pd\n",
    "import numpy as np\n",
    "import polars as pl\n",
    "import itertools\n",
    "import cudf\n",
    "import lightgbm as lgb\n",
    "import matplotlib.pyplot as plt\n",
    "import seaborn as sns\n",
    "import line_notify\n",
    "import my_logger\n",
    "from noglobal import noglobal"
   ]
  },
  {
   "cell_type": "markdown",
   "metadata": {},
   "source": [
    "# 設定"
   ]
  },
  {
   "cell_type": "code",
   "execution_count": 2,
   "metadata": {},
   "outputs": [],
   "source": [
    "@dataclass\n",
    "class Cfg:\n",
    "    loglevel = \"INFO\"\n",
    "    exp_name = \"\"\n",
    "    seed = 42\n",
    "    k = 20\n",
    "    cand_n = 15\n",
    "    negative_sample = 1\n",
    "    train_chunk_n = 1\n",
    "    test_chunk_n = 2\n",
    "    type2id = {\"clicks\":0, \"carts\":1, \"orders\":2}\n",
    "    id2type = {0:\"clicks\", 1:\"carts\", 2:\"orders\"}\n",
    "    train_weeks = [\"week3\"]\n",
    "    valid_week = \"week4\"\n",
    "    valid_session_n = 100_000\n",
    "    input_dir = os.getenv('INPUT_DIR')\n",
    "    output_dir = os.getenv('OUTPUT_DIR')\n",
    "    prep_dir = os.getenv(\"PREP_DIR\")\n",
    "\n",
    "    clicks_params = {'objective': 'binary', 'boosting': 'gbdt', 'learning_rate': 0.1, 'metric': 'binary_logloss', 'seed': 42, 'feature_pre_filter': False, 'lambda_l1': 5.485903737168179, 'lambda_l2': 0.005594683492536064, 'num_leaves': 79, 'feature_fraction': 0.552, 'bagging_fraction': 0.9295272232672004, 'bagging_freq': 2, 'min_child_samples': 10}\n",
    "    carts_params = {'objective': 'binary', 'boosting': 'gbdt', 'learning_rate': 0.1, 'metric': 'binary_logloss', 'seed': 42, 'feature_pre_filter': False, 'lambda_l1': 8.709050252544463, 'lambda_l2': 0.06935262036337767, 'num_leaves': 252, 'feature_fraction': 0.4, 'bagging_fraction': 1.0, 'bagging_freq': 0, 'min_child_samples': 5}\n",
    "    orders_params = {'objective': 'binary', 'boosting': 'gbdt', 'learning_rate': 0.1, 'metric': 'binary_logloss', 'seed': 42, 'feature_pre_filter': False, 'lambda_l1': 9.356310279757256, 'lambda_l2': 1.3120983078968551e-08, 'num_leaves': 174, 'feature_fraction': 0.5, 'bagging_fraction': 1.0, 'bagging_freq': 0, 'min_child_samples': 20}\n",
    "\n",
    "cfg = Cfg()\n",
    "random.seed(cfg.seed)"
   ]
  },
  {
   "cell_type": "code",
   "execution_count": 3,
   "metadata": {},
   "outputs": [
    {
     "name": "stdout",
     "output_type": "stream",
     "text": [
      "/mnt/otto-recommender-system/prep/co_visitation_matrix.parquet\n",
      "/mnt/otto-recommender-system/prep/co_visitation_matrix_week3.parquet\n",
      "/mnt/otto-recommender-system/prep/co_visitation_matrix_time_weighted.parquet\n",
      "/mnt/otto-recommender-system/prep/co_visitation_matrix_time_weighted_week3.parquet\n",
      "/mnt/otto-recommender-system/prep/co_visitation_matrix_type_weighted.parquet\n",
      "/mnt/otto-recommender-system/prep/co_visitation_matrix_type_weighted_week3.parquet\n",
      "/mnt/otto-recommender-system/prep/co_visitation_matrix_clicks2carts.parquet\n",
      "/mnt/otto-recommender-system/prep/co_visitation_matrix_clicks2carts_week3.parquet\n",
      "/mnt/otto-recommender-system/prep/co_visitation_matrix_clicks2orders.parquet\n",
      "/mnt/otto-recommender-system/prep/co_visitation_matrix_clicks2orders_week3.parquet\n",
      "/mnt/otto-recommender-system/prep/co_visitation_matrix_1w.parquet\n",
      "/mnt/otto-recommender-system/prep/co_visitation_matrix_1w_week3.parquet\n",
      "/mnt/otto-recommender-system/prep/co_visitation_matrix_time_weighted_1w.parquet\n",
      "/mnt/otto-recommender-system/prep/co_visitation_matrix_time_weighted_1w_week3.parquet\n",
      "/mnt/otto-recommender-system/prep/co_visitation_matrix_type_weighted_1w.parquet\n",
      "/mnt/otto-recommender-system/prep/co_visitation_matrix_type_weighted_1w_week3.parquet\n",
      "/mnt/otto-recommender-system/prep/co_visitation_matrix_clicks2carts_1w.parquet\n",
      "/mnt/otto-recommender-system/prep/co_visitation_matrix_clicks2carts_1w_week3.parquet\n",
      "/mnt/otto-recommender-system/prep/co_visitation_matrix_clicks2orders_1w.parquet\n",
      "/mnt/otto-recommender-system/prep/co_visitation_matrix_clicks2orders_1w_week3.parquet\n"
     ]
    }
   ],
   "source": [
    "co_visit_names = [\n",
    "    \"co_visitation_matrix\",\n",
    "    \"co_visitation_matrix_time_weighted\",\n",
    "    \"co_visitation_matrix_type_weighted\",\n",
    "    \"co_visitation_matrix_clicks2carts\",\n",
    "    \"co_visitation_matrix_clicks2orders\",\n",
    "    \"co_visitation_matrix_1w\",\n",
    "    \"co_visitation_matrix_time_weighted_1w\",\n",
    "    \"co_visitation_matrix_type_weighted_1w\",\n",
    "    \"co_visitation_matrix_clicks2carts_1w\",\n",
    "    \"co_visitation_matrix_clicks2orders_1w\",\n",
    "    ]\n",
    "\n",
    "wt_cols = [\n",
    "    \"cnt\",\n",
    "    \"wt\",\n",
    "    \"wt\",\n",
    "    \"cnt\",\n",
    "    \"cnt\",\n",
    "    \"cnt\",\n",
    "    \"wt\",\n",
    "    \"wt\",\n",
    "    \"cnt\",\n",
    "    \"cnt\"\n",
    "]\n",
    "\n",
    "weeks = [\n",
    "    None,\n",
    "    \"week3\"\n",
    "]\n",
    "\n",
    "for co_visit_name, wt_col in zip(co_visit_names, wt_cols):\n",
    "    for week in weeks:\n",
    "        if week is None:\n",
    "            file_path = cfg.prep_dir + f\"{co_visit_name}.parquet\"\n",
    "        else:\n",
    "            file_path = cfg.prep_dir + f\"{co_visit_name}_{week}.parquet\"\n",
    "        print(file_path)\n",
    "        co_visit_df = pd.read_parquet(file_path)\n",
    "        co_visit_df = co_visit_df.sort_values([\"aid_x\", wt_col], ascending=(True, False), ignore_index=True)\n",
    "        co_visit_df[f\"rank\"] = co_visit_df.groupby([\"aid_x\"]).cumcount().astype(\"int32\")\n",
    "        co_visit_df.to_parquet(file_path)"
   ]
  }
 ],
 "metadata": {
  "kernelspec": {
   "display_name": "base",
   "language": "python",
   "name": "python3"
  },
  "language_info": {
   "codemirror_mode": {
    "name": "ipython",
    "version": 3
   },
   "file_extension": ".py",
   "mimetype": "text/x-python",
   "name": "python",
   "nbconvert_exporter": "python",
   "pygments_lexer": "ipython3",
   "version": "3.8.13"
  },
  "orig_nbformat": 4,
  "vscode": {
   "interpreter": {
    "hash": "d4d1e4263499bec80672ea0156c357c1ee493ec2b1c70f0acce89fc37c4a6abe"
   }
  }
 },
 "nbformat": 4,
 "nbformat_minor": 2
}
