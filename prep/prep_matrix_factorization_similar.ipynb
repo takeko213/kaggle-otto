{
 "cells": [
  {
   "attachments": {},
   "cell_type": "markdown",
   "metadata": {},
   "source": [
    "# matrix_factorization_similar"
   ]
  },
  {
   "cell_type": "code",
   "execution_count": 46,
   "metadata": {},
   "outputs": [],
   "source": [
    "import os\n",
    "import sys\n",
    "import gc\n",
    "import subprocess\n",
    "import pickle\n",
    "from dotenv import load_dotenv\n",
    "load_dotenv\n",
    "sys.path.append(os.getenv('UTILS_PATH'))\n",
    "from tqdm import tqdm\n",
    "import multiprocessing\n",
    "import random\n",
    "from collections import defaultdict\n",
    "\n",
    "import pandas as pd\n",
    "import numpy as np\n",
    "import cudf\n",
    "import matplotlib.pyplot as plt\n",
    "\n",
    "import torch\n",
    "from torch import nn\n",
    "from torch.utils.data import Dataset, DataLoader\n",
    "from torch.optim import SparseAdam"
   ]
  },
  {
   "cell_type": "code",
   "execution_count": 47,
   "metadata": {},
   "outputs": [],
   "source": [
    "SEED = 42\n",
    "random.seed(SEED)\n",
    "cores = multiprocessing.cpu_count()"
   ]
  },
  {
   "cell_type": "code",
   "execution_count": 48,
   "metadata": {},
   "outputs": [],
   "source": [
    "INPUT_DIR = os.getenv('INPUT_DIR')\n",
    "OUTPUT_DIR = os.getenv('OUTPUT_DIR')\n",
    "PREP_DIR = os.getenv(\"PREP_DIR\")"
   ]
  },
  {
   "cell_type": "code",
   "execution_count": 49,
   "metadata": {},
   "outputs": [],
   "source": [
    "with open(PREP_DIR + 'matrix_factorization_embeddings.pkl', 'rb') as f:\n",
    "    emb = pickle.load(f)"
   ]
  },
  {
   "cell_type": "code",
   "execution_count": 50,
   "metadata": {},
   "outputs": [
    {
     "data": {
      "text/plain": [
       "array([[-1.2586755 , -0.9445114 , -1.306982  , ...,  0.9559919 ,\n",
       "         1.9328526 , -1.1924242 ],\n",
       "       [ 1.3087419 , -1.4055054 , -1.0826674 , ..., -1.187105  ,\n",
       "         1.1438131 ,  1.2275976 ],\n",
       "       [ 1.0434946 ,  0.94260514,  0.5085466 , ..., -0.54709625,\n",
       "         0.52784127,  1.0566362 ],\n",
       "       ...,\n",
       "       [ 0.86217946, -0.6084551 , -1.2874287 , ..., -1.2562873 ,\n",
       "         1.2235086 ,  0.9372563 ],\n",
       "       [-0.6895318 , -0.62510663,  0.5771889 , ...,  1.0193185 ,\n",
       "        -0.76250184, -0.73454607],\n",
       "       [-1.1356103 , -1.2509845 ,  0.67123514, ...,  1.2281612 ,\n",
       "        -1.0030451 , -1.367304  ]], dtype=float32)"
      ]
     },
     "execution_count": 50,
     "metadata": {},
     "output_type": "execute_result"
    }
   ],
   "source": [
    "emb"
   ]
  },
  {
   "cell_type": "code",
   "execution_count": 51,
   "metadata": {},
   "outputs": [],
   "source": [
    "from cuml.neighbors import NearestNeighbors\n",
    "\n",
    "knn = NearestNeighbors(n_neighbors=21, metric='euclidean')\n",
    "knn.fit(emb)\n",
    "_, aid_nns = knn.kneighbors(emb)\n",
    "aid_nns = aid_nns[:, 1:]"
   ]
  },
  {
   "cell_type": "code",
   "execution_count": 52,
   "metadata": {},
   "outputs": [
    {
     "data": {
      "text/plain": [
       "array([[ 774566, 1573113, 1786445, ..., 1146374, 1127243, 1594312],\n",
       "       [1611426,  417819,  365954, ..., 1550588,  148754, 1411052],\n",
       "       [1307931, 1477707,  117228, ..., 1603274, 1301673, 1024351],\n",
       "       ...,\n",
       "       [ 878860, 1625770,  765637, ..., 1324275,  856323,  349859],\n",
       "       [ 716607,   74137,  975872, ..., 1681194,  186877, 1512317],\n",
       "       [ 627778,  621386, 1160970, ..., 1126215, 1694778,  445068]])"
      ]
     },
     "execution_count": 52,
     "metadata": {},
     "output_type": "execute_result"
    }
   ],
   "source": [
    "aid_nns"
   ]
  },
  {
   "cell_type": "code",
   "execution_count": 53,
   "metadata": {},
   "outputs": [],
   "source": [
    "with open(PREP_DIR + 'matrix_factorization_embeddings_similar_top20.pkl', 'wb') as f:\n",
    "    pickle.dump(aid_nns, f)"
   ]
  }
 ],
 "metadata": {
  "kernelspec": {
   "display_name": "Python 3.8.13 ('base')",
   "language": "python",
   "name": "python3"
  },
  "language_info": {
   "codemirror_mode": {
    "name": "ipython",
    "version": 3
   },
   "file_extension": ".py",
   "mimetype": "text/x-python",
   "name": "python",
   "nbconvert_exporter": "python",
   "pygments_lexer": "ipython3",
   "version": "3.8.13"
  },
  "orig_nbformat": 4,
  "vscode": {
   "interpreter": {
    "hash": "d4d1e4263499bec80672ea0156c357c1ee493ec2b1c70f0acce89fc37c4a6abe"
   }
  }
 },
 "nbformat": 4,
 "nbformat_minor": 2
}
