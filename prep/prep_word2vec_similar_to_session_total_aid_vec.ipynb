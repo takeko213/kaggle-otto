{
 "cells": [
  {
   "cell_type": "markdown",
   "metadata": {},
   "source": [
    "# word2vec"
   ]
  },
  {
   "cell_type": "code",
   "execution_count": 1,
   "metadata": {},
   "outputs": [],
   "source": [
    "import os\n",
    "import sys\n",
    "import gc\n",
    "import subprocess\n",
    "from dotenv import load_dotenv\n",
    "load_dotenv\n",
    "sys.path.append(os.getenv('UTILS_PATH'))\n",
    "from tqdm import tqdm\n",
    "import multiprocessing\n",
    "import random\n",
    "from collections import defaultdict\n",
    "\n",
    "import pickle\n",
    "import pandas as pd\n",
    "import numpy as np\n",
    "import cudf\n",
    "import matplotlib.pyplot as plt\n",
    "from gensim.models import Word2Vec\n",
    "from gensim.similarities.annoy import AnnoyIndexer"
   ]
  },
  {
   "cell_type": "code",
   "execution_count": 2,
   "metadata": {},
   "outputs": [],
   "source": [
    "SEED = 42\n",
    "random.seed(SEED)\n",
    "cores = multiprocessing.cpu_count()"
   ]
  },
  {
   "cell_type": "code",
   "execution_count": 3,
   "metadata": {},
   "outputs": [],
   "source": [
    "INPUT_DIR = os.getenv('INPUT_DIR')\n",
    "OUTPUT_DIR = os.getenv('OUTPUT_DIR')\n",
    "PREP_DIR = os.getenv(\"PREP_DIR\")"
   ]
  },
  {
   "cell_type": "code",
   "execution_count": 4,
   "metadata": {},
   "outputs": [],
   "source": [
    "k = 20"
   ]
  },
  {
   "cell_type": "code",
   "execution_count": 5,
   "metadata": {},
   "outputs": [],
   "source": [
    "with open(PREP_DIR + \"word2vec.pkl\", \"rb\") as f:\n",
    "    w2v = pickle.load(f)\n",
    "aid_vecs = w2v.wv.vectors\n",
    "key2idx = w2v.wv.key_to_index\n",
    "idx2key = w2v.wv.index_to_key\n",
    "annoy_index = AnnoyIndexer(w2v, 50)"
   ]
  },
  {
   "cell_type": "code",
   "execution_count": 6,
   "metadata": {},
   "outputs": [],
   "source": [
    "def make_similar_aid_df(args):\n",
    "    session = args[0]\n",
    "    session_vec = args[1]\n",
    "    similar_aid_sim = w2v.wv.most_similar(session_vec, topn=k, indexer=annoy_index)\n",
    "    return pd.DataFrame({\"session\":[session for _ in range(k)], \n",
    "                         \"aid\":[a[0] for a in similar_aid_sim],\n",
    "                         \"sim\":[a[1] for a in similar_aid_sim]})"
   ]
  },
  {
   "cell_type": "code",
   "execution_count": 7,
   "metadata": {},
   "outputs": [
    {
     "name": "stderr",
     "output_type": "stream",
     "text": [
      "100%|██████████| 4642744/4642744 [01:08<00:00, 67759.21it/s] \n",
      "100%|██████████| 4642744/4642744 [26:51<00:00, 2880.62it/s] \n"
     ]
    }
   ],
   "source": [
    "#week_suffixes = [\"_week4\", \"_week4\", \"\"]\n",
    "week_suffixes = [\"_week3\"]\n",
    "\n",
    "for suffix in week_suffixes:\n",
    "    # データ読み込み\n",
    "    if suffix == \"\":\n",
    "        sessions_df = pd.read_pickle(os.getenv(\"PREP_DIR\") + f\"test_sessions.pkl\")\n",
    "    else:\n",
    "        sessions_df = pd.read_pickle(os.getenv(\"PREP_DIR\") + f\"train_sessions{suffix}.pkl\")\n",
    "    sessions_df = sessions_df.sort_values([\"session\", \"ts\"], ascending=(True, False))\n",
    "    sessions_df = sessions_df.groupby(\"session\")[\"aid\"].apply(list).reset_index()\n",
    "\n",
    "    # session全体のaidのvec平均値算出\n",
    "    session_avg_vecs = {}\n",
    "    for session, aid_seq in tqdm(zip(sessions_df[\"session\"].values, sessions_df[\"aid\"].values),total=len(sessions_df)):\n",
    "        aid_seq_len = len(aid_seq)\n",
    "        session_avg_vec = np.zeros(50)\n",
    "        for aid in aid_seq:\n",
    "            idx = key2idx[aid]\n",
    "            session_avg_vec += aid_vecs[idx] / aid_seq_len\n",
    "        session_avg_vecs[session] = session_avg_vec\n",
    "    with open(PREP_DIR + f\"w2v_session_total_avg_vec{suffix}.pkl\", \"wb\") as f:\n",
    "        pickle.dump(session_avg_vecs, f)\n",
    "\n",
    "    # 近傍aid探索\n",
    "    processes = multiprocessing.cpu_count()\n",
    "    with multiprocessing.Pool(processes=processes) as pool:\n",
    "        dfs = pool.imap_unordered(make_similar_aid_df, list(session_avg_vecs.items()))\n",
    "        dfs = tqdm(dfs, total=len(session_avg_vecs))\n",
    "        dfs = list(dfs)\n",
    "    df = pd.concat(dfs)\n",
    "    df.to_pickle(PREP_DIR + f\"w2v_session_total_avg_similar_aids{suffix}.pkl\")"
   ]
  },
  {
   "cell_type": "code",
   "execution_count": null,
   "metadata": {},
   "outputs": [],
   "source": []
  }
 ],
 "metadata": {
  "kernelspec": {
   "display_name": "Python 3.8.13 ('base')",
   "language": "python",
   "name": "python3"
  },
  "language_info": {
   "codemirror_mode": {
    "name": "ipython",
    "version": 3
   },
   "file_extension": ".py",
   "mimetype": "text/x-python",
   "name": "python",
   "nbconvert_exporter": "python",
   "pygments_lexer": "ipython3",
   "version": "3.8.13"
  },
  "orig_nbformat": 4,
  "vscode": {
   "interpreter": {
    "hash": "d4d1e4263499bec80672ea0156c357c1ee493ec2b1c70f0acce89fc37c4a6abe"
   }
  }
 },
 "nbformat": 4,
 "nbformat_minor": 2
}
