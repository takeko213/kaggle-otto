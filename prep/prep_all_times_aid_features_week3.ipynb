{
 "cells": [
  {
   "cell_type": "markdown",
   "metadata": {},
   "source": [
    "# all_times_aid_features"
   ]
  },
  {
   "cell_type": "code",
   "execution_count": 1,
   "metadata": {},
   "outputs": [],
   "source": [
    "import os\n",
    "import sys\n",
    "import gc\n",
    "import subprocess\n",
    "from dotenv import load_dotenv\n",
    "load_dotenv\n",
    "sys.path.append(os.getenv('UTILS_PATH'))\n",
    "from tqdm import tqdm\n",
    "import multiprocessing\n",
    "import random\n",
    "import pickle\n",
    "from collections import defaultdict\n",
    "\n",
    "import pandas as pd\n",
    "import cudf\n",
    "import matplotlib.pyplot as plt"
   ]
  },
  {
   "cell_type": "code",
   "execution_count": 2,
   "metadata": {},
   "outputs": [],
   "source": [
    "SEED = 42\n",
    "random.seed(SEED)"
   ]
  },
  {
   "cell_type": "code",
   "execution_count": 3,
   "metadata": {},
   "outputs": [],
   "source": [
    "INPUT_DIR = os.getenv('INPUT_DIR')\n",
    "OUTPUT_DIR = os.getenv('OUTPUT_DIR')\n",
    "PREP_DIR = os.getenv(\"PREP_DIR\")"
   ]
  },
  {
   "cell_type": "code",
   "execution_count": 4,
   "metadata": {},
   "outputs": [],
   "source": [
    "week = \"week3\""
   ]
  },
  {
   "cell_type": "code",
   "execution_count": 5,
   "metadata": {},
   "outputs": [],
   "source": [
    "# データ読み込み\n",
    "files = [\n",
    "    \"train_sessions_week1.pkl\",\n",
    "    \"test_sessions_week1.pkl\",\n",
    "    \"train_sessions_week2.pkl\",\n",
    "    \"test_sessions_week2.pkl\",\n",
    "    \"train_sessions_week3.pkl\",\n",
    " #   \"test_sessions_week3.pkl\",\n",
    "    \"train_sessions_week4.pkl\",\n",
    "    \"test_sessions_week4.pkl\",\n",
    "    \"test_sessions.pkl\"\n",
    "]\n",
    "\n",
    "dfs = []\n",
    "\n",
    "for file in files:\n",
    "    dfs.append(pd.read_pickle(PREP_DIR + file))\n",
    "sessions = pd.concat(dfs)"
   ]
  },
  {
   "cell_type": "markdown",
   "metadata": {},
   "source": [
    "all_times_aid_freq"
   ]
  },
  {
   "cell_type": "code",
   "execution_count": 6,
   "metadata": {},
   "outputs": [],
   "source": [
    "result = sessions.groupby(\"aid\")[\"session\"].count().to_dict()\n",
    "with open(PREP_DIR + f\"all_times_aid_freq_{week}.pkl\", \"wb\") as f:\n",
    "    pickle.dump(result, f)"
   ]
  },
  {
   "cell_type": "markdown",
   "metadata": {},
   "source": [
    "all_times_aid_{type}_freq"
   ]
  },
  {
   "cell_type": "code",
   "execution_count": 7,
   "metadata": {},
   "outputs": [],
   "source": [
    "for type_ in [\"clicks\", \"carts\", \"orders\"]:\n",
    "    result = sessions[sessions[\"type\"]==type_].groupby(\"aid\")[\"session\"].count().to_dict()\n",
    "    with open(PREP_DIR + f\"all_times_aid_{type_}_freq_{week}.pkl\", \"wb\") as f:\n",
    "        pickle.dump(result, f)"
   ]
  },
  {
   "cell_type": "markdown",
   "metadata": {},
   "source": [
    "all_times_aid_session_freq"
   ]
  },
  {
   "cell_type": "code",
   "execution_count": 8,
   "metadata": {},
   "outputs": [],
   "source": [
    "sessions_drop_dup = sessions.drop_duplicates([\"session\", \"aid\"])\n",
    "result = sessions_drop_dup.groupby(\"aid\")[\"session\"].count().to_dict()\n",
    "with open(PREP_DIR + f\"all_times_aid_session_freq_{week}.pkl\", \"wb\") as f:\n",
    "    pickle.dump(result, f)"
   ]
  },
  {
   "cell_type": "markdown",
   "metadata": {},
   "source": [
    "all_times_aid_session_{type}_freq"
   ]
  },
  {
   "cell_type": "code",
   "execution_count": 9,
   "metadata": {},
   "outputs": [],
   "source": [
    "sessions_drop_dup = sessions.drop_duplicates([\"session\", \"aid\", \"type\"])\n",
    "for type_ in [\"clicks\", \"carts\", \"orders\"]:\n",
    "    result = sessions_drop_dup[sessions_drop_dup[\"type\"]==type_].groupby(\"aid\")[\"session\"].count().to_dict()\n",
    "    with open(PREP_DIR + f\"all_times_aid_session_{type_}_freq_{week}.pkl\", \"wb\") as f:\n",
    "        pickle.dump(result, f)"
   ]
  },
  {
   "cell_type": "markdown",
   "metadata": {},
   "source": [
    "all_times_aid_{type}_ratio_with_clicks"
   ]
  },
  {
   "cell_type": "code",
   "execution_count": 10,
   "metadata": {},
   "outputs": [],
   "source": [
    "result = pd.DataFrame(sessions[\"aid\"].unique(), columns=[\"aid\"])\n",
    "for type_ in [\"clicks\", \"carts\", \"orders\"]:\n",
    "    with open(PREP_DIR + f\"all_times_aid_session_{type_}_freq_{week}.pkl\", \"rb\") as f:\n",
    "        result[type_] = result[\"aid\"].map(pickle.load(f))\n",
    "result = result.fillna(0)\n",
    "result = result[result[\"clicks\"]>0]\n",
    "\n",
    "result[\"all_times_aid_carts_ratio_with_clicks\"] = result[\"carts\"] / result[\"clicks\"]\n",
    "result[\"all_times_aid_orders_ratio_with_clicks\"] = result[\"orders\"] / result[\"clicks\"]\n",
    "\n",
    "with open(PREP_DIR + f\"all_times_aid_carts_ratio_with_clicks_{week}.pkl\", \"wb\") as f:\n",
    "    pickle.dump(result[\"all_times_aid_carts_ratio_with_clicks\"].to_dict(), f)\n",
    "\n",
    "with open(PREP_DIR + f\"all_times_aid_orders_ratio_with_clicks_{week}.pkl\", \"wb\") as f:\n",
    "    pickle.dump(result[\"all_times_aid_orders_ratio_with_clicks\"].to_dict(), f)"
   ]
  },
  {
   "cell_type": "markdown",
   "metadata": {},
   "source": [
    "all_times_aid_{dt}_std"
   ]
  },
  {
   "cell_type": "code",
   "execution_count": 11,
   "metadata": {},
   "outputs": [],
   "source": [
    "sessions[\"dt\"] = pd.to_datetime(sessions[\"ts\"], unit=\"ms\")\n",
    "\n",
    "sessions[\"date\"] = sessions[\"dt\"].dt.date\n",
    "sessions[\"hour\"] = sessions[\"dt\"].dt.hour\n",
    "sessions[\"day_of_week\"] = sessions[\"dt\"].dt.day_of_week\n",
    "\n",
    "for dt_ in [\"date\", \"hour\", \"day_of_week\"]:\n",
    "    agg_df = sessions.groupby([\"aid\", dt_])[\"session\"].count().reset_index()\n",
    "    result = agg_df.groupby(\"aid\")[\"session\"].std().to_dict()\n",
    "\n",
    "    with open(PREP_DIR + f\"all_times_aid_{dt_}_std_{week}.pkl\", \"wb\") as f:\n",
    "        pickle.dump(result, f)"
   ]
  }
 ],
 "metadata": {
  "kernelspec": {
   "display_name": "Python 3.8.13 ('base')",
   "language": "python",
   "name": "python3"
  },
  "language_info": {
   "codemirror_mode": {
    "name": "ipython",
    "version": 3
   },
   "file_extension": ".py",
   "mimetype": "text/x-python",
   "name": "python",
   "nbconvert_exporter": "python",
   "pygments_lexer": "ipython3",
   "version": "3.8.13"
  },
  "orig_nbformat": 4,
  "vscode": {
   "interpreter": {
    "hash": "d4d1e4263499bec80672ea0156c357c1ee493ec2b1c70f0acce89fc37c4a6abe"
   }
  }
 },
 "nbformat": 4,
 "nbformat_minor": 2
}
