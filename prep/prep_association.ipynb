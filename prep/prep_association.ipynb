{
 "cells": [
  {
   "cell_type": "markdown",
   "metadata": {},
   "source": [
    "# association\n",
    "co_visitaion_matrixにaidごとの出現数を考慮する"
   ]
  },
  {
   "cell_type": "code",
   "execution_count": 6,
   "metadata": {},
   "outputs": [],
   "source": [
    "import os\n",
    "import sys\n",
    "import gc\n",
    "import subprocess\n",
    "from dotenv import load_dotenv\n",
    "load_dotenv\n",
    "sys.path.append(os.getenv('UTILS_PATH'))\n",
    "from tqdm import tqdm\n",
    "import multiprocessing\n",
    "import random\n",
    "from collections import defaultdict\n",
    "\n",
    "import pandas as pd\n",
    "import cudf"
   ]
  },
  {
   "cell_type": "code",
   "execution_count": 7,
   "metadata": {},
   "outputs": [],
   "source": [
    "SEED = 42\n",
    "random.seed(SEED)"
   ]
  },
  {
   "cell_type": "code",
   "execution_count": 8,
   "metadata": {},
   "outputs": [],
   "source": [
    "INPUT_DIR = os.getenv('INPUT_DIR')\n",
    "OUTPUT_DIR = os.getenv('OUTPUT_DIR')\n",
    "PREP_DIR = os.getenv(\"PREP_DIR\")"
   ]
  },
  {
   "cell_type": "code",
   "execution_count": 9,
   "metadata": {},
   "outputs": [],
   "source": [
    "# データ読み込み\n",
    "train_sessions = pd.read_pickle(PREP_DIR + \"train_sessions.pkl\")\n",
    "test_sessions = pd.read_pickle(PREP_DIR + \"test_sessions.pkl\")\n",
    "train_sessions = train_sessions.drop(columns=[\"type\", \"ts\"])\n",
    "test_sessions = test_sessions.drop(columns=[\"type\", \"ts\"])\n",
    "sessions = pd.concat([train_sessions, test_sessions])\n",
    "del train_sessions, test_sessions\n",
    "gc.collect()\n",
    "\n",
    "pair_df = pd.read_pickle(PREP_DIR + \"co_visitation_matrix.pkl\")\n",
    "pair_df.columns = [\"aid_x\", \"aid_y\", \"pair_cnt\"]"
   ]
  },
  {
   "cell_type": "code",
   "execution_count": 10,
   "metadata": {},
   "outputs": [],
   "source": [
    "aid_cnt = sessions.groupby(\"aid\").count().reset_index()\n",
    "aid_cnt.columns = [\"aid\", \"single_cnt\"]\n",
    "\n",
    "total_cnt = len(sessions)"
   ]
  },
  {
   "cell_type": "code",
   "execution_count": 11,
   "metadata": {},
   "outputs": [],
   "source": [
    "pair_df = pair_df.merge(aid_cnt, left_on=\"aid_x\", right_on=\"aid\", how=\"left\").drop(columns=[\"aid\"])\n",
    "pair_df = pair_df.merge(aid_cnt, left_on=\"aid_y\", right_on=\"aid\", how=\"left\").drop(columns=[\"aid\"])"
   ]
  },
  {
   "cell_type": "code",
   "execution_count": 12,
   "metadata": {},
   "outputs": [],
   "source": [
    "pair_df[\"x_support\"] = pair_df[\"single_cnt_x\"] / total_cnt\n",
    "pair_df[\"y_support\"] = pair_df[\"single_cnt_y\"] / total_cnt\n",
    "pair_df[\"xy_support\"] = pair_df[\"pair_cnt\"] / total_cnt\n",
    "pair_df[\"lift\"] = pair_df[\"xy_support\"] / (pair_df[\"x_support\"] * pair_df[\"y_support\"])"
   ]
  },
  {
   "cell_type": "code",
   "execution_count": 13,
   "metadata": {},
   "outputs": [],
   "source": [
    "pair_df[[\"aid_x\", \"aid_y\", \"lift\"]].to_pickle(PREP_DIR + f\"association.pkl\")"
   ]
  }
 ],
 "metadata": {
  "kernelspec": {
   "display_name": "Python 3.8.13 ('base')",
   "language": "python",
   "name": "python3"
  },
  "language_info": {
   "codemirror_mode": {
    "name": "ipython",
    "version": 3
   },
   "file_extension": ".py",
   "mimetype": "text/x-python",
   "name": "python",
   "nbconvert_exporter": "python",
   "pygments_lexer": "ipython3",
   "version": "3.8.13"
  },
  "orig_nbformat": 4,
  "vscode": {
   "interpreter": {
    "hash": "d4d1e4263499bec80672ea0156c357c1ee493ec2b1c70f0acce89fc37c4a6abe"
   }
  }
 },
 "nbformat": 4,
 "nbformat_minor": 2
}
