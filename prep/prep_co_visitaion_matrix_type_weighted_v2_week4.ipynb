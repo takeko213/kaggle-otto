{
 "cells": [
  {
   "cell_type": "markdown",
   "metadata": {},
   "source": [
    "# co-visitation matrix_type_weighted\n",
    "typeの重み付ける  \n",
    "各sessionのtailのみ使用  "
   ]
  },
  {
   "cell_type": "code",
   "execution_count": 1,
   "metadata": {},
   "outputs": [],
   "source": [
    "import os\n",
    "import sys\n",
    "import gc\n",
    "import subprocess\n",
    "from dotenv import load_dotenv\n",
    "load_dotenv\n",
    "sys.path.append(os.getenv('UTILS_PATH'))\n",
    "from tqdm import tqdm\n",
    "import multiprocessing\n",
    "import random\n",
    "from collections import defaultdict\n",
    "\n",
    "import pandas as pd\n",
    "import cudf\n",
    "import matplotlib.pyplot as plt"
   ]
  },
  {
   "cell_type": "code",
   "execution_count": 2,
   "metadata": {},
   "outputs": [],
   "source": [
    "SEED = 42\n",
    "random.seed(SEED)"
   ]
  },
  {
   "cell_type": "code",
   "execution_count": 3,
   "metadata": {},
   "outputs": [],
   "source": [
    "INPUT_DIR = os.getenv('INPUT_DIR')\n",
    "OUTPUT_DIR = os.getenv('OUTPUT_DIR')\n",
    "PREP_DIR = os.getenv(\"PREP_DIR\")"
   ]
  },
  {
   "cell_type": "code",
   "execution_count": 4,
   "metadata": {},
   "outputs": [],
   "source": [
    "CHUNK_N = 400\n",
    "type_weight = {\"clicks\":1, \"carts\":6, \"orders\":3}"
   ]
  },
  {
   "cell_type": "code",
   "execution_count": 5,
   "metadata": {},
   "outputs": [],
   "source": [
    "week = \"week4\""
   ]
  },
  {
   "cell_type": "code",
   "execution_count": 6,
   "metadata": {},
   "outputs": [],
   "source": [
    "# データ読み込み\n",
    "files = [\n",
    "    \"train_sessions_week1.pkl\",\n",
    "    \"test_sessions_week1.pkl\",\n",
    "    \"train_sessions_week2.pkl\",\n",
    "    \"test_sessions_week2.pkl\",\n",
    "    \"train_sessions_week3.pkl\",\n",
    "    \"test_sessions_week3.pkl\",\n",
    "    \"train_sessions_week4.pkl\",\n",
    " #   \"test_sessions_week4.pkl\",\n",
    "    \"test_sessions.pkl\"\n",
    "]\n",
    "\n",
    "dfs = []\n",
    "\n",
    "for file in files:\n",
    "    dfs.append(pd.read_pickle(PREP_DIR + file))\n",
    "sessions = pd.concat(dfs)\n",
    "\n",
    "sessions[\"type\"] = sessions[\"type\"].map(type_weight)\n",
    "sessions[\"ts\"] = (sessions[\"ts\"]/1000).astype(\"int32\")\n",
    "\n",
    "# chunkのグループ分け\n",
    "sessions[\"chunk\"] = sessions[\"session\"] % CHUNK_N"
   ]
  },
  {
   "cell_type": "code",
   "execution_count": 7,
   "metadata": {},
   "outputs": [
    {
     "name": "stderr",
     "output_type": "stream",
     "text": [
      "100%|██████████| 400/400 [05:15<00:00,  1.27it/s]  \n"
     ]
    }
   ],
   "source": [
    "dfs_outer = []\n",
    "dfs_inner = []\n",
    "\n",
    "pair_df = pd.DataFrame(columns=[\"aid_x\", \"aid_y\", \"cnt\"])\n",
    "for i, chunk_df in tqdm(sessions.groupby(\"chunk\"), total=CHUNK_N):\n",
    "    df = cudf.from_pandas(chunk_df)\n",
    "    df = df.reset_index(drop=True)\n",
    "    df = df.sort_values([\"session\", \"ts\"], ascending=[True, False])\n",
    "    df[\"n\"] = df.groupby(\"session\").cumcount()\n",
    "    df = df.loc[df.n<30].drop(\"n\", axis=1)\n",
    "    df = df.merge(df, on=\"session\")\n",
    "    df = df.loc[((df.ts_x - df.ts_y).abs() < 24 * 60 * 60) & (df.aid_x != df.aid_y)]\n",
    "    df = df.rename(columns={\"type_y\": \"wt\"})\n",
    "    df = df.groupby([\"aid_x\", \"aid_y\"])[\"wt\"].sum().reset_index()\n",
    "    df = df.sort_values([\"aid_x\", \"wt\"], ascending=(True, False))\n",
    "    df = df[df.groupby(\"aid_x\").cumcount()<30]\n",
    "    dfs_inner.append(df.to_pandas())\n",
    "\n",
    "    if i % 100 == 99:\n",
    "        if len(dfs_inner) > 0:\n",
    "            pair_df_inner = pd.concat(dfs_inner)\n",
    "            pair_df_inner = pair_df_inner.groupby([\"aid_x\", \"aid_y\"])[\"wt\"].sum().reset_index()\n",
    "            dfs_outer.append(pair_df_inner)\n",
    "            dfs_inner = []\n",
    "            del pair_df_inner\n",
    "            gc.collect()\n",
    "\n",
    "if len(dfs_inner) > 0:\n",
    "    pair_df_inner = pd.concat(dfs_inner)\n",
    "    pair_df_inner = pair_df_inner.groupby([\"aid_x\", \"aid_y\"])[\"wt\"].sum().reset_index()\n",
    "    dfs_outer.append(pair_df_inner)\n",
    "    del pair_df_inner\n",
    "    gc.collect()\n",
    "\n",
    "del dfs_inner\n",
    "gc.collect()\n",
    "\n",
    "pair_df = pd.concat(dfs_outer)\n",
    "pair_df = pair_df.groupby([\"aid_x\", \"aid_y\"])[\"wt\"].sum().reset_index()\n",
    "pair_df = pair_df.sort_values([\"aid_x\", \"wt\"], ascending=(True, False))\n",
    "pair_df = pair_df.groupby(\"aid_x\").head(20)\n",
    "pair_df.to_pickle(PREP_DIR + f\"co_visitation_matrix_type_weighted_v2_{week}.pkl\")"
   ]
  }
 ],
 "metadata": {
  "kernelspec": {
   "display_name": "Python 3.8.13 ('base')",
   "language": "python",
   "name": "python3"
  },
  "language_info": {
   "codemirror_mode": {
    "name": "ipython",
    "version": 3
   },
   "file_extension": ".py",
   "mimetype": "text/x-python",
   "name": "python",
   "nbconvert_exporter": "python",
   "pygments_lexer": "ipython3",
   "version": "3.8.13"
  },
  "orig_nbformat": 4,
  "vscode": {
   "interpreter": {
    "hash": "d4d1e4263499bec80672ea0156c357c1ee493ec2b1c70f0acce89fc37c4a6abe"
   }
  }
 },
 "nbformat": 4,
 "nbformat_minor": 2
}
