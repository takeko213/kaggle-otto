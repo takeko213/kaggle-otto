{
 "cells": [
  {
   "attachments": {},
   "cell_type": "markdown",
   "metadata": {},
   "source": [
    "# w2v_cluster_freq\n",
    "w2vのベクトルのsessionごとのtotal平均でクラスタリングし、クラスタごとの最頻値を抽出"
   ]
  },
  {
   "cell_type": "code",
   "execution_count": 1,
   "metadata": {},
   "outputs": [],
   "source": [
    "import os\n",
    "import sys\n",
    "import gc\n",
    "import subprocess\n",
    "from dotenv import load_dotenv\n",
    "load_dotenv\n",
    "sys.path.append(os.getenv('UTILS_PATH'))\n",
    "from tqdm import tqdm\n",
    "import multiprocessing\n",
    "import random\n",
    "from collections import defaultdict\n",
    "\n",
    "import pickle\n",
    "import pandas as pd\n",
    "import numpy as np\n",
    "import cudf\n",
    "import matplotlib.pyplot as plt\n",
    "from gensim.models import Word2Vec\n",
    "from gensim.similarities.annoy import AnnoyIndexer\n",
    "from cuml import KMeans"
   ]
  },
  {
   "cell_type": "code",
   "execution_count": 2,
   "metadata": {},
   "outputs": [],
   "source": [
    "SEED = 42\n",
    "random.seed(SEED)\n",
    "cores = multiprocessing.cpu_count()\n",
    "n_cluster = 100_000"
   ]
  },
  {
   "cell_type": "code",
   "execution_count": 3,
   "metadata": {},
   "outputs": [],
   "source": [
    "INPUT_DIR = os.getenv('INPUT_DIR')\n",
    "OUTPUT_DIR = os.getenv('OUTPUT_DIR')\n",
    "PREP_DIR = os.getenv(\"PREP_DIR\")"
   ]
  },
  {
   "cell_type": "code",
   "execution_count": 4,
   "metadata": {},
   "outputs": [],
   "source": [
    "week = None\n",
    "\n",
    "\n",
    "if week is None:\n",
    "    avg_vecs_path = PREP_DIR + f\"w2v_session_total_avg_vec.pkl\"\n",
    "    sessions_path = PREP_DIR + f\"test_sessions.parquet\"\n",
    "    session_cluster_path = PREP_DIR + f\"w2v_session_cluster_c{str(n_cluster)}.parquet\"\n",
    "    cluster_freq_path = PREP_DIR + f\"w2v_cluster_freq_c{str(n_cluster)}.parquet\"\n",
    "else:\n",
    "    avg_vecs_path = PREP_DIR + f\"w2v_session_total_avg_vec_{week}.pkl\"\n",
    "    sessions_path = PREP_DIR + f\"train_sessions_{week}.parquet\"\n",
    "    session_cluster_path = PREP_DIR + f\"w2v_session_cluster_c{str(n_cluster)}_{week}.parquet\"\n",
    "    cluster_freq_path = PREP_DIR + f\"w2v_cluster_freq_c{str(n_cluster)}_{week}.parquet\""
   ]
  },
  {
   "cell_type": "code",
   "execution_count": 5,
   "metadata": {},
   "outputs": [],
   "source": [
    "week = \"week4\"\n",
    "\n",
    "\n",
    "if week is None:\n",
    "    avg_vecs_path = PREP_DIR + f\"w2v_session_total_avg_vec.pkl\"\n",
    "    sessions_path = PREP_DIR + f\"test_sessions.parquet\"\n",
    "    session_cluster_path = PREP_DIR + f\"w2v_session_cluster_c{str(n_cluster)}.parquet\"\n",
    "    cluster_freq_path = PREP_DIR + f\"w2v_cluster_freq_c{str(n_cluster)}.parquet\"\n",
    "else:\n",
    "    avg_vecs_path = PREP_DIR + f\"w2v_session_total_avg_vec_{week}.pkl\"\n",
    "    sessions_path = PREP_DIR + f\"train_sessions_{week}.parquet\"\n",
    "    session_cluster_path = PREP_DIR + f\"w2v_session_cluster_c{str(n_cluster)}_{week}.parquet\"\n",
    "    cluster_freq_path = PREP_DIR + f\"w2v_cluster_freq_c{str(n_cluster)}_{week}.parquet\"\n",
    "\n",
    "\n",
    "# データ読み込み\n",
    "with open(avg_vecs_path, \"rb\") as f:\n",
    "    avg_vecs = pickle.load(f)\n",
    "avg_vecs_df = cudf.DataFrame(list(avg_vecs.values()), index=avg_vecs.keys())\n",
    "sessions = cudf.read_parquet(sessions_path)\n",
    "\n",
    "# クラスタリング\n",
    "kmeans = KMeans(n_clusters=n_cluster, random_state=SEED)\n",
    "kmeans.fit(avg_vecs_df)\n",
    "session_clstr = cudf.DataFrame({\"session\": avg_vecs.keys(), \"clstr\": kmeans.labels_})\n",
    "session_clstr.to_parquet(session_cluster_path)\n",
    "\n",
    "# クラスタごとの最頻値算出\n",
    "sessions = sessions.merge(session_clstr, on=\"session\", how=\"left\")\n",
    "clstr_freq = sessions.groupby([\"clstr\", \"aid\"])[\"ts\"].count().reset_index()\n",
    "clstr_freq.columns = [\"clstr\", \"aid\", \"cnt\"]\n",
    "clstr_freq = clstr_freq.sort_values([\"clstr\", \"cnt\"], ascending=(True, False), ignore_index=True)\n",
    "clstr_freq[\"rank\"] = clstr_freq.groupby(\"clstr\").cumcount()\n",
    "clstr_freq.to_parquet(cluster_freq_path)"
   ]
  }
 ],
 "metadata": {
  "kernelspec": {
   "display_name": "Python 3.8.13 ('base')",
   "language": "python",
   "name": "python3"
  },
  "language_info": {
   "codemirror_mode": {
    "name": "ipython",
    "version": 3
   },
   "file_extension": ".py",
   "mimetype": "text/x-python",
   "name": "python",
   "nbconvert_exporter": "python",
   "pygments_lexer": "ipython3",
   "version": "3.8.13 | packaged by conda-forge | (default, Mar 25 2022, 06:04:10) \n[GCC 10.3.0]"
  },
  "orig_nbformat": 4,
  "vscode": {
   "interpreter": {
    "hash": "d4d1e4263499bec80672ea0156c357c1ee493ec2b1c70f0acce89fc37c4a6abe"
   }
  }
 },
 "nbformat": 4,
 "nbformat_minor": 2
}
