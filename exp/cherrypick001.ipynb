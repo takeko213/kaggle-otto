{
 "cells": [
  {
   "attachments": {},
   "cell_type": "markdown",
   "metadata": {},
   "source": [
    "# cherrypick001"
   ]
  },
  {
   "cell_type": "code",
   "execution_count": 1,
   "metadata": {},
   "outputs": [],
   "source": [
    "use_exp = {\"clicks\": \"exp053_pl\", \"carts\": \"exp053_pl\", \"orders\": \"exp059\"}\n",
    "cv_score = {\"clicks\": 0.507206, \"carts\": 0.354493, \"orders\": 0.591674}"
   ]
  },
  {
   "cell_type": "code",
   "execution_count": 2,
   "metadata": {},
   "outputs": [],
   "source": [
    "cv_score[\"total\"] = format(cv_score[\"clicks\"] * 0.1 + cv_score[\"carts\"] * 0.3 + cv_score[\"orders\"] * 0.6, \".6f\")"
   ]
  },
  {
   "cell_type": "code",
   "execution_count": 3,
   "metadata": {},
   "outputs": [],
   "source": [
    "import os\n",
    "import sys\n",
    "import traceback\n",
    "import gc\n",
    "import random\n",
    "import pickle\n",
    "import pathlib\n",
    "import subprocess\n",
    "from dataclasses import dataclass\n",
    "from dotenv import load_dotenv\n",
    "load_dotenv\n",
    "sys.path.append(os.getenv('UTILS_PATH'))\n",
    "from tqdm import tqdm\n",
    "import multiprocessing\n",
    "import inspect\n",
    "\n",
    "import pandas as pd\n",
    "import polars as pl\n",
    "import numpy as np\n",
    "import itertools\n",
    "import cudf\n",
    "import lightgbm as lgb\n",
    "import matplotlib.pyplot as plt\n",
    "import seaborn as sns\n",
    "import line_notify\n",
    "import my_logger\n",
    "from noglobal import noglobal"
   ]
  },
  {
   "cell_type": "markdown",
   "metadata": {},
   "source": [
    "# 設定"
   ]
  },
  {
   "cell_type": "code",
   "execution_count": 4,
   "metadata": {},
   "outputs": [],
   "source": [
    "@dataclass\n",
    "class Cfg:\n",
    "    loglevel = \"INFO\"\n",
    "    exp_name = \"cherrypick001\"\n",
    "    seed = 42\n",
    "    k = 20\n",
    "    cand_n = 15\n",
    "    negative_sample = 1\n",
    "    train_chunk_n_dict = {\"clicks\":2, \"carts\":1, \"orders\":1}\n",
    "    test_chunk_n = 2\n",
    "    type2id = {\"clicks\":0, \"carts\":1, \"orders\":2}\n",
    "    id2type = {0:\"clicks\", 1:\"carts\", 2:\"orders\"}\n",
    "    train_week = \"week3\"\n",
    "    valid_week = \"week4\"\n",
    "    valid_session_n = 100_000\n",
    "    input_dir = os.getenv('INPUT_DIR')\n",
    "    output_dir = os.getenv('OUTPUT_DIR')\n",
    "    prep_dir = os.getenv(\"PREP_DIR\")\n",
    "\n",
    "    clicks_params = {'objective': 'binary', 'boosting': 'gbdt', 'learning_rate': 0.1, 'metric': 'binary_logloss', 'seed': 42, 'feature_pre_filter': False, 'lambda_l1': 5.485903737168179, 'lambda_l2': 0.005594683492536064, 'num_leaves': 79, 'feature_fraction': 0.552, 'bagging_fraction': 0.9295272232672004, 'bagging_freq': 2, 'min_child_samples': 10}\n",
    "    carts_params = {'objective': 'binary', 'boosting': 'gbdt', 'learning_rate': 0.1, 'metric': 'binary_logloss', 'seed': 42, 'feature_pre_filter': False, 'lambda_l1': 8.709050252544463, 'lambda_l2': 0.06935262036337767, 'num_leaves': 252, 'feature_fraction': 0.4, 'bagging_fraction': 1.0, 'bagging_freq': 0, 'min_child_samples': 5}\n",
    "    orders_params = {'objective': 'binary', 'boosting': 'gbdt', 'learning_rate': 0.1, 'metric': 'binary_logloss', 'seed': 42, 'feature_pre_filter': False, 'lambda_l1': 9.356310279757256, 'lambda_l2': 1.3120983078968551e-08, 'num_leaves': 174, 'feature_fraction': 0.5, 'bagging_fraction': 1.0, 'bagging_freq': 0, 'min_child_samples': 20}\n",
    "\n",
    "cfg = Cfg()\n",
    "os.makedirs(os.path.join(cfg.output_dir, cfg.exp_name), exist_ok=True)\n",
    "os.makedirs(os.path.join(cfg.output_dir, cfg.exp_name, \"cache\"), exist_ok=True)\n",
    "random.seed(cfg.seed)\n",
    "\n",
    "logger = my_logger.init_logger(cfg.exp_name)"
   ]
  },
  {
   "cell_type": "code",
   "execution_count": 5,
   "metadata": {},
   "outputs": [
    {
     "name": "stdout",
     "output_type": "stream",
     "text": [
      "clicks /mnt/otto-recommender-system/output/exp053_pl/t88_exp053_pl_sub_k30.csv\n",
      "carts /mnt/otto-recommender-system/output/exp053_pl/t88_exp053_pl_sub_k30.csv\n",
      "orders /mnt/otto-recommender-system/output/exp059/t88_exp059_sub_k30.csv\n"
     ]
    }
   ],
   "source": [
    "\n",
    "\n",
    "# sub作成\n",
    "sub = pd.read_csv(cfg.input_dir + f\"sample_submission.csv\", usecols=[\"session_type\"])\n",
    "\n",
    "dfs = []\n",
    "for type_ in [\"clicks\", \"carts\", \"orders\"]:\n",
    "    exp = use_exp[type_]\n",
    "    pred_file_path = cfg.output_dir + f\"{exp}/t88_{exp}_sub_k30.csv\"\n",
    "    print(type_, pred_file_path)\n",
    "    pred = pd.read_csv(pred_file_path)\n",
    "    pred = pred[pred[\"session_type\"].str.contains(type_)].copy()\n",
    "    dfs.append(pred)\n",
    "preds = pd.concat(dfs)\n",
    "\n",
    "sub = sub.merge(preds, on=\"session_type\", how=\"left\")\n",
    "sub.to_csv(cfg.output_dir + f\"{cfg.exp_name}/t88_{cfg.exp_name}_sub_k30.csv\", index=False)"
   ]
  },
  {
   "cell_type": "code",
   "execution_count": 8,
   "metadata": {},
   "outputs": [
    {
     "data": {
      "text/html": [
       "<div>\n",
       "<style scoped>\n",
       "    .dataframe tbody tr th:only-of-type {\n",
       "        vertical-align: middle;\n",
       "    }\n",
       "\n",
       "    .dataframe tbody tr th {\n",
       "        vertical-align: top;\n",
       "    }\n",
       "\n",
       "    .dataframe thead th {\n",
       "        text-align: right;\n",
       "    }\n",
       "</style>\n",
       "<table border=\"1\" class=\"dataframe\">\n",
       "  <thead>\n",
       "    <tr style=\"text-align: right;\">\n",
       "      <th></th>\n",
       "      <th>session_type</th>\n",
       "      <th>labels</th>\n",
       "    </tr>\n",
       "  </thead>\n",
       "  <tbody>\n",
       "    <tr>\n",
       "      <th>0</th>\n",
       "      <td>12899779_clicks</td>\n",
       "      <td>59625 737445 448688 1340695 941596 601769 1790...</td>\n",
       "    </tr>\n",
       "    <tr>\n",
       "      <th>1</th>\n",
       "      <td>12899779_carts</td>\n",
       "      <td>59625 448688 731692 737445 941596 729915 60176...</td>\n",
       "    </tr>\n",
       "    <tr>\n",
       "      <th>2</th>\n",
       "      <td>12899779_orders</td>\n",
       "      <td>59625 731692 448688 941596 729915 1790770 1340...</td>\n",
       "    </tr>\n",
       "    <tr>\n",
       "      <th>3</th>\n",
       "      <td>12899780_clicks</td>\n",
       "      <td>1142000 736515 582732 487136 889686 1502122 15...</td>\n",
       "    </tr>\n",
       "    <tr>\n",
       "      <th>4</th>\n",
       "      <td>12899780_carts</td>\n",
       "      <td>1142000 582732 736515 973453 1502122 487136 59...</td>\n",
       "    </tr>\n",
       "  </tbody>\n",
       "</table>\n",
       "</div>"
      ],
      "text/plain": [
       "      session_type                                             labels\n",
       "0  12899779_clicks  59625 737445 448688 1340695 941596 601769 1790...\n",
       "1   12899779_carts  59625 448688 731692 737445 941596 729915 60176...\n",
       "2  12899779_orders  59625 731692 448688 941596 729915 1790770 1340...\n",
       "3  12899780_clicks  1142000 736515 582732 487136 889686 1502122 15...\n",
       "4   12899780_carts  1142000 582732 736515 973453 1502122 487136 59..."
      ]
     },
     "execution_count": 8,
     "metadata": {},
     "output_type": "execute_result"
    }
   ],
   "source": [
    "sub.head()"
   ]
  },
  {
   "cell_type": "code",
   "execution_count": 7,
   "metadata": {},
   "outputs": [
    {
     "name": "stdout",
     "output_type": "stream",
     "text": [
      "use_exp :  {'clicks': 'exp053_pl', 'carts': 'exp053_pl', 'orders': 'exp059'}\n",
      "cv_score :  {'clicks': 0.507206, 'carts': 0.354493, 'orders': 0.591674, 'total': '0.512073'}\n"
     ]
    }
   ],
   "source": [
    "print(\"use_exp : \", use_exp)\n",
    "print(\"cv_score : \", cv_score)"
   ]
  }
 ],
 "metadata": {
  "kernelspec": {
   "display_name": "base",
   "language": "python",
   "name": "python3"
  },
  "language_info": {
   "codemirror_mode": {
    "name": "ipython",
    "version": 3
   },
   "file_extension": ".py",
   "mimetype": "text/x-python",
   "name": "python",
   "nbconvert_exporter": "python",
   "pygments_lexer": "ipython3",
   "version": "3.8.13"
  },
  "orig_nbformat": 4,
  "vscode": {
   "interpreter": {
    "hash": "d4d1e4263499bec80672ea0156c357c1ee493ec2b1c70f0acce89fc37c4a6abe"
   }
  }
 },
 "nbformat": 4,
 "nbformat_minor": 2
}
