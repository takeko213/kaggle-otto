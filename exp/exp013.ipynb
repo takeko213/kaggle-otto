{
 "cells": [
  {
   "cell_type": "markdown",
   "metadata": {},
   "source": [
    "# exp013\n",
    "latest+pairのナイーブ予測"
   ]
  },
  {
   "cell_type": "code",
   "execution_count": 1,
   "metadata": {},
   "outputs": [],
   "source": [
    "import os\n",
    "import sys\n",
    "import subprocess\n",
    "from dotenv import load_dotenv\n",
    "load_dotenv\n",
    "sys.path.append(os.getenv('UTILS_PATH'))\n",
    "from tqdm import tqdm\n",
    "import multiprocessing\n",
    "\n",
    "import pandas as pd\n",
    "import numpy as np\n",
    "import itertools"
   ]
  },
  {
   "cell_type": "code",
   "execution_count": 2,
   "metadata": {},
   "outputs": [],
   "source": [
    "EXP_NAME = \"exp013\""
   ]
  },
  {
   "cell_type": "code",
   "execution_count": 3,
   "metadata": {},
   "outputs": [],
   "source": [
    "INPUT_DIR = os.getenv('INPUT_DIR')\n",
    "OUTPUT_DIR = os.getenv('OUTPUT_DIR')\n",
    "PREP_DIR = os.getenv(\"PREP_DIR\")\n",
    "\n",
    "# os.makedirs(os.path.join(OUTPUT_DIR, EXP_NAME), exist_ok=True)"
   ]
  },
  {
   "cell_type": "code",
   "execution_count": 4,
   "metadata": {},
   "outputs": [],
   "source": [
    "def pred(sessions, pair_dict):\n",
    "    session_ids = sessions[\"session\"].unique().tolist()\n",
    "\n",
    "    # sessionごとの最頻値\n",
    "    session_latest_aid = sessions.sort_values([\"session\", \"ts\"], ascending=(True, False)).drop_duplicates(subset=[\"session\", \"aid\"])\n",
    "    session_latest_aid = session_latest_aid.groupby(\"session\").head(20)\n",
    "\n",
    "    # sessionごとの最頻値のペア\n",
    "    session_latest_aid_pair = session_latest_aid.copy()\n",
    "    session_latest_aid_pair[\"aid\"] = session_latest_aid_pair[\"aid\"].map(pair_dict)\n",
    "    session_latest_aid_pair = session_latest_aid_pair.dropna(subset=[\"aid\"])\n",
    "\n",
    "    # 全体の最頻値\n",
    "    total_aid_cnt = sessions.groupby(\"aid\").agg(cnt=(\"ts\", \"count\")).reset_index()\n",
    "    total_aid_cnt = total_aid_cnt.sort_values(\"cnt\", ascending=False)\n",
    "    total_aid_cnt = total_aid_cnt.head(20)\n",
    "    most_freq_aid = total_aid_cnt[\"aid\"].tolist()\n",
    "    total_frequent = pd.DataFrame(list(itertools.product(session_ids, most_freq_aid)), columns=[\"session\", \"aid\"])\n",
    "    \n",
    "    # 予測作成\n",
    "    recom = pd.concat([session_latest_aid[[\"session\", \"aid\"]],\n",
    "                       session_latest_aid_pair[[\"session\", \"aid\"]],\n",
    "                       total_frequent[[\"session\", \"aid\"]]])\n",
    "\n",
    "    recom = recom.groupby(\"session\").head(20)\n",
    "    recom = recom.groupby(\"session\")[\"aid\"].apply(list).reset_index()\n",
    "\n",
    "    return recom"
   ]
  },
  {
   "cell_type": "code",
   "execution_count": 5,
   "metadata": {},
   "outputs": [],
   "source": [
    "def evaluate(click_labels, carts_labels, orders_labels, \n",
    "             click_preds, carts_preds, orders_preds, k=20):\n",
    "\n",
    "    num_clicks = 0\n",
    "    num_carts = 0\n",
    "    num_orders = 0\n",
    "    hit_clicks = 0\n",
    "    hit_carts = 0\n",
    "    hit_orders = 0\n",
    "\n",
    "    for i in range(len(labels)):\n",
    "        click_label = click_labels[i]\n",
    "        carts_label = carts_labels[i]\n",
    "        orders_label = orders_labels[i]\n",
    "        click_pred = click_preds[i][:k]\n",
    "        carts_pred = carts_preds[i][:k]\n",
    "        orders_pred = orders_preds[i][:k]\n",
    "\n",
    "        if not np.isnan(click_label):\n",
    "            num_clicks += 1\n",
    "            hit_clicks += int(click_label in click_pred)\n",
    "\n",
    "        if type(carts_label) == list:\n",
    "            num_carts += min(len(carts_label), k)\n",
    "            hit_carts += len(set(carts_pred) & set(carts_label))\n",
    "            \n",
    "        if type(orders_label) == list:\n",
    "            num_orders += min(len(orders_label), k)\n",
    "            hit_orders += len(set(orders_pred) & set(orders_label))\n",
    "\n",
    "\n",
    "    recall_clicks = hit_clicks / num_clicks\n",
    "    recall_carts = hit_carts / num_carts\n",
    "    recall_orders = hit_orders / num_orders\n",
    "    score = (recall_clicks * 0.10) + (recall_carts * 0.30) + (recall_orders * 0.60)\n",
    "\n",
    "    results = {}\n",
    "    results[\"num_clicks\"] = num_clicks\n",
    "    results[\"hit_clicks\"] = hit_clicks\n",
    "    results[\"recall_clicks\"] = recall_clicks\n",
    "    results[\"num_carts\"] = num_carts\n",
    "    results[\"hit_carts\"] = hit_carts\n",
    "    results[\"recall_carts\"] = recall_carts\n",
    "    results[\"num_orders\"] = num_orders\n",
    "    results[\"hit_orders\"] = hit_orders\n",
    "    results[\"recall_orders\"] = recall_orders\n",
    "    results[\"score\"] = score\n",
    "\n",
    "    return results"
   ]
  },
  {
   "cell_type": "code",
   "execution_count": 6,
   "metadata": {},
   "outputs": [],
   "source": [
    "# データ読み込み\n",
    "train_sessions = pd.read_pickle(PREP_DIR + \"train_sessions_week1.pkl\")\n",
    "labels = pd.read_pickle(PREP_DIR + \"labels_week1.pkl\")"
   ]
  },
  {
   "cell_type": "code",
   "execution_count": 7,
   "metadata": {},
   "outputs": [],
   "source": [
    "train_sessions = train_sessions.drop(columns=[\"type\"])"
   ]
  },
  {
   "cell_type": "code",
   "execution_count": 8,
   "metadata": {},
   "outputs": [],
   "source": [
    "pair_df = pd.read_pickle(PREP_DIR + \"co_visitation_matrix.pkl\")\n",
    "pair_df = pair_df[pair_df[\"cnt\"] > 3].copy()\n",
    "pair_df = pair_df.sort_values([\"aid_x\", \"cnt\"], ascending=(True, False))\n",
    "pair_df = pair_df.groupby(\"aid_x\").head(1)[[\"aid_x\", \"aid_y\"]]\n",
    "pair_dict = {k: v for k, v in zip(pair_df[\"aid_x\"].tolist(), pair_df[\"aid_y\"].tolist())}"
   ]
  },
  {
   "cell_type": "code",
   "execution_count": 9,
   "metadata": {},
   "outputs": [],
   "source": [
    "recom = pred(train_sessions, pair_dict)"
   ]
  },
  {
   "cell_type": "code",
   "execution_count": 10,
   "metadata": {},
   "outputs": [],
   "source": [
    "click_preds = recom[\"aid\"].tolist()\n",
    "carts_preds = recom[\"aid\"].tolist()\n",
    "orders_preds = recom[\"aid\"].tolist()"
   ]
  },
  {
   "cell_type": "code",
   "execution_count": 11,
   "metadata": {},
   "outputs": [],
   "source": [
    "click_labels = labels[\"clicks_labels\"].tolist()\n",
    "carts_labels = labels[\"carts_labels\"].tolist()\n",
    "orders_labels = labels[\"orders_labels\"].tolist()"
   ]
  },
  {
   "cell_type": "code",
   "execution_count": 12,
   "metadata": {},
   "outputs": [
    {
     "data": {
      "text/plain": [
       "{'num_clicks': 4320369,\n",
       " 'hit_clicks': 1508346,\n",
       " 'recall_clicks': 0.3491243456288109,\n",
       " 'num_carts': 1831983,\n",
       " 'hit_carts': 525125,\n",
       " 'recall_carts': 0.28664294373910676,\n",
       " 'num_orders': 885029,\n",
       " 'hit_orders': 471016,\n",
       " 'recall_orders': 0.5322040294724806,\n",
       " 'score': 0.44022773536810145}"
      ]
     },
     "execution_count": 12,
     "metadata": {},
     "output_type": "execute_result"
    }
   ],
   "source": [
    "evaluate(click_labels=labels[\"clicks_labels\"].tolist(),\n",
    "         carts_labels=labels[\"carts_labels\"].tolist(),\n",
    "         orders_labels=labels[\"orders_labels\"].tolist(),\n",
    "         click_preds=recom[\"aid\"].tolist(),\n",
    "         carts_preds=recom[\"aid\"].tolist(),\n",
    "         orders_preds=recom[\"aid\"].tolist())"
   ]
  }
 ],
 "metadata": {
  "kernelspec": {
   "display_name": "Python 3.8.13 ('base')",
   "language": "python",
   "name": "python3"
  },
  "language_info": {
   "codemirror_mode": {
    "name": "ipython",
    "version": 3
   },
   "file_extension": ".py",
   "mimetype": "text/x-python",
   "name": "python",
   "nbconvert_exporter": "python",
   "pygments_lexer": "ipython3",
   "version": "3.8.13"
  },
  "orig_nbformat": 4,
  "vscode": {
   "interpreter": {
    "hash": "d4d1e4263499bec80672ea0156c357c1ee493ec2b1c70f0acce89fc37c4a6abe"
   }
  }
 },
 "nbformat": 4,
 "nbformat_minor": 2
}
