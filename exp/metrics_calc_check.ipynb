{
 "cells": [
  {
   "attachments": {},
   "cell_type": "markdown",
   "metadata": {},
   "source": [
    "自前のスコア計算にバグがないか確認  \n",
    "https://www.kaggle.com/code/cdeotte/compute-validation-score-cv-565/notebook  "
   ]
  },
  {
   "cell_type": "code",
   "execution_count": 1,
   "metadata": {},
   "outputs": [],
   "source": [
    "import os\n",
    "import sys\n",
    "import traceback\n",
    "import gc\n",
    "import random\n",
    "import pickle\n",
    "import pathlib\n",
    "import subprocess\n",
    "from dataclasses import dataclass\n",
    "from dotenv import load_dotenv\n",
    "load_dotenv\n",
    "sys.path.append(os.getenv('UTILS_PATH'))\n",
    "from tqdm import tqdm\n",
    "import multiprocessing\n",
    "import inspect\n",
    "\n",
    "import pandas as pd\n",
    "import numpy as np\n",
    "import itertools\n",
    "import cudf\n",
    "import lightgbm as lgb\n",
    "import matplotlib.pyplot as plt\n",
    "import seaborn as sns\n",
    "import line_notify\n",
    "import my_logger\n",
    "from noglobal import noglobal"
   ]
  },
  {
   "cell_type": "markdown",
   "metadata": {},
   "source": [
    "# 設定"
   ]
  },
  {
   "cell_type": "code",
   "execution_count": 2,
   "metadata": {},
   "outputs": [],
   "source": [
    "@dataclass\n",
    "class Cfg:\n",
    "    loglevel = \"INFO\"\n",
    "    exp_name = \"exp053\"\n",
    "    seed = 42\n",
    "    k = 20\n",
    "    cand_n = 15\n",
    "    negative_sample = 1\n",
    "    train_chunk_n = 1\n",
    "    test_chunk_n = 2\n",
    "    type2id = {\"clicks\":0, \"carts\":1, \"orders\":2}\n",
    "    id2type = {0:\"clicks\", 1:\"carts\", 2:\"orders\"}\n",
    "    train_weeks = [\"week3\"]\n",
    "    valid_week = \"week4\"\n",
    "    valid_session_n = 100_000\n",
    "    input_dir = os.getenv('INPUT_DIR')\n",
    "    output_dir = os.getenv('OUTPUT_DIR')\n",
    "    prep_dir = os.getenv(\"PREP_DIR\")\n",
    "\n",
    "    clicks_params = {'objective': 'binary', 'boosting': 'gbdt', 'learning_rate': 0.1, 'metric': 'binary_logloss', 'seed': 42, 'feature_pre_filter': False, 'lambda_l1': 5.485903737168179, 'lambda_l2': 0.005594683492536064, 'num_leaves': 79, 'feature_fraction': 0.552, 'bagging_fraction': 0.9295272232672004, 'bagging_freq': 2, 'min_child_samples': 10}\n",
    "    carts_params = {'objective': 'binary', 'boosting': 'gbdt', 'learning_rate': 0.1, 'metric': 'binary_logloss', 'seed': 42, 'feature_pre_filter': False, 'lambda_l1': 8.709050252544463, 'lambda_l2': 0.06935262036337767, 'num_leaves': 252, 'feature_fraction': 0.4, 'bagging_fraction': 1.0, 'bagging_freq': 0, 'min_child_samples': 5}\n",
    "    orders_params = {'objective': 'binary', 'boosting': 'gbdt', 'learning_rate': 0.1, 'metric': 'binary_logloss', 'seed': 42, 'feature_pre_filter': False, 'lambda_l1': 9.356310279757256, 'lambda_l2': 1.3120983078968551e-08, 'num_leaves': 174, 'feature_fraction': 0.5, 'bagging_fraction': 1.0, 'bagging_freq': 0, 'min_child_samples': 20}\n",
    "\n",
    "cfg = Cfg()"
   ]
  },
  {
   "cell_type": "code",
   "execution_count": 101,
   "metadata": {},
   "outputs": [],
   "source": [
    "@noglobal(excepts=[\"cfg\", \"logger\"])\n",
    "def evaluate(clicks_labels, carts_labels, orders_labels, \n",
    "             clicks_preds, carts_preds, orders_preds, k=20):\n",
    "\n",
    "    num_clicks = 0\n",
    "    num_carts = 0\n",
    "    num_orders = 0\n",
    "    hit_clicks = 0\n",
    "    hit_carts = 0\n",
    "    hit_orders = 0\n",
    "\n",
    "    for i in range(len(clicks_labels)):\n",
    "        clicks_label = clicks_labels[i]\n",
    "        carts_label = carts_labels[i]\n",
    "        orders_label = orders_labels[i]\n",
    "        clicks_pred = clicks_preds[i]\n",
    "        carts_pred = carts_preds[i]\n",
    "        orders_pred = orders_preds[i]\n",
    "\n",
    "        if type(clicks_pred) == list:\n",
    "            clicks_pred = clicks_pred[:k]\n",
    "        else:\n",
    "            clicks_pred = []\n",
    "        if type(carts_pred) == list:\n",
    "            carts_pred = carts_pred[:k]\n",
    "        else:\n",
    "            carts_pred = []    \n",
    "        if type(orders_pred) == list:\n",
    "            orders_pred = orders_pred[:k]\n",
    "        else:\n",
    "            orders_pred = []\n",
    "\n",
    "        if not np.isnan(clicks_label):\n",
    "            num_clicks += 1\n",
    "            hit_clicks += int(clicks_label[0] in clicks_pred)\n",
    "\n",
    "        if type(carts_label) == np.ndarray:\n",
    "            num_carts += min(len(carts_label), k)\n",
    "            hit_carts += len(set(carts_pred) & set(carts_label))\n",
    "            \n",
    "        if type(orders_label) == np.ndarray:\n",
    "            num_orders += min(len(orders_label), k)\n",
    "            hit_orders += len(set(orders_pred) & set(orders_label))\n",
    "\n",
    "\n",
    "    recall_clicks = hit_clicks / num_clicks\n",
    "    recall_carts = hit_carts / num_carts\n",
    "    recall_orders = hit_orders / num_orders\n",
    "    w_recall_clicks = recall_clicks * 0.10\n",
    "    w_recall_carts = recall_carts * 0.30\n",
    "    w_recall_orders = recall_orders * 0.60\n",
    "    score = w_recall_clicks + w_recall_carts + w_recall_orders\n",
    "\n",
    "    results = {}\n",
    "    results[\"num_clicks\"] = num_clicks\n",
    "    results[\"hit_clicks\"] = hit_clicks\n",
    "    results[\"num_carts\"] = num_carts\n",
    "    results[\"hit_carts\"] = hit_carts\n",
    "    results[\"num_orders\"] = num_orders\n",
    "    results[\"hit_orders\"] = hit_orders\n",
    "    results[\"recall_clicks\"] = format(recall_clicks, \".3f\")\n",
    "    results[\"recall_carts\"] = format(recall_carts, \".3f\")\n",
    "    results[\"recall_orders\"] = format(recall_orders, \".3f\")\n",
    "    results[\"w_recall_clicks\"] = format(w_recall_clicks, \".3f\")\n",
    "    results[\"w_recall_carts\"] = format(w_recall_carts, \".3f\")\n",
    "    results[\"w_recall_orders\"] = format(w_recall_orders, \".3f\")\n",
    "    results[\"score\"] = format(score, \".3f\")\n",
    "\n",
    "    return results"
   ]
  },
  {
   "cell_type": "code",
   "execution_count": 4,
   "metadata": {},
   "outputs": [],
   "source": [
    "pred_df = pd.read_csv(cfg.output_dir + \"chris_valid/validation_preds.csv\")"
   ]
  },
  {
   "cell_type": "code",
   "execution_count": 5,
   "metadata": {},
   "outputs": [
    {
     "name": "stdout",
     "output_type": "stream",
     "text": [
      "clicks recall = 0.5255597442145808\n",
      "carts recall = 0.4093328152483512\n",
      "orders recall = 0.6487936598117477\n",
      "=============\n",
      "Overall Recall = 0.5646320148830121\n",
      "=============\n"
     ]
    }
   ],
   "source": [
    "score = 0\n",
    "weights = {'clicks': 0.10, 'carts': 0.30, 'orders': 0.60}\n",
    "gts = {}\n",
    "preds = {}\n",
    "\n",
    "for t in ['clicks','carts','orders']:\n",
    "    sub = pred_df.loc[pred_df.session_type.str.contains(t)].copy()\n",
    "    sub['session'] = sub.session_type.apply(lambda x: int(x.split('_')[0]))\n",
    "    sub.labels = sub.labels.apply(lambda x: [int(i) for i in x.split(' ')[:20]])\n",
    "    test_labels = pd.read_parquet(cfg.output_dir + \"chris_valid/test_labels.parquet\")\n",
    "    test_labels = test_labels.loc[test_labels['type']==t]\n",
    "    test_labels = test_labels.merge(sub, how='left', on=['session'])\n",
    "    test_labels['hits'] = test_labels.apply(lambda df: len(set(df.ground_truth).intersection(set(df.labels))), axis=1)\n",
    "    test_labels['gt_count'] = test_labels.ground_truth.str.len().clip(0,20)\n",
    "    recall = test_labels['hits'].sum() / test_labels['gt_count'].sum()\n",
    "    score += weights[t]*recall\n",
    "    print(f'{t} recall =',recall)\n",
    "    gts[t] = test_labels[\"ground_truth\"].to_list()\n",
    "    preds[t] = test_labels[\"labels\"].to_list()\n",
    "\n",
    "    \n",
    "print('=============')\n",
    "print('Overall Recall =',score)\n",
    "print('=============')"
   ]
  },
  {
   "cell_type": "code",
   "execution_count": 48,
   "metadata": {},
   "outputs": [],
   "source": [
    "pred_df = pd.read_csv(cfg.output_dir + \"chris_valid/validation_preds.csv\")\n",
    "test_labels = pd.read_parquet(cfg.output_dir + \"chris_valid/test_labels.parquet\")\n",
    "\n",
    "pred_df.labels = pred_df.labels.apply(lambda x: [int(i) for i in x.split(' ')[:20]])\n",
    "test_labels[\"session_type\"] = test_labels[\"session\"].astype(str) + \"_\" + test_labels[\"type\"] \n",
    "\n",
    "pred_df = pred_df.merge(test_labels, on=[\"session_type\"], how=\"left\")"
   ]
  },
  {
   "cell_type": "code",
   "execution_count": 100,
   "metadata": {},
   "outputs": [
    {
     "data": {
      "text/plain": [
       "True"
      ]
     },
     "execution_count": 100,
     "metadata": {},
     "output_type": "execute_result"
    }
   ],
   "source": [
    "type(pred_df[pred_df[\"session_type\"].str.contains(\"carts\")][\"ground_truth\"].to_list()[0]) == np.ndarray"
   ]
  },
  {
   "cell_type": "code",
   "execution_count": 102,
   "metadata": {},
   "outputs": [
    {
     "data": {
      "text/plain": [
       "{'num_clicks': 1755534,\n",
       " 'hit_clicks': 922638,\n",
       " 'num_carts': 576482,\n",
       " 'hit_carts': 235973,\n",
       " 'num_orders': 313303,\n",
       " 'hit_orders': 203269,\n",
       " 'recall_clicks': '0.526',\n",
       " 'recall_carts': '0.409',\n",
       " 'recall_orders': '0.649',\n",
       " 'w_recall_clicks': '0.053',\n",
       " 'w_recall_carts': '0.123',\n",
       " 'w_recall_orders': '0.389',\n",
       " 'score': '0.565'}"
      ]
     },
     "execution_count": 102,
     "metadata": {},
     "output_type": "execute_result"
    }
   ],
   "source": [
    "evaluate(clicks_labels=pred_df[pred_df[\"session_type\"].str.contains(\"clicks\")][\"ground_truth\"].to_list(), \n",
    "         carts_labels=pred_df[pred_df[\"session_type\"].str.contains(\"carts\")][\"ground_truth\"].to_list(), \n",
    "         orders_labels=pred_df[pred_df[\"session_type\"].str.contains(\"orders\")][\"ground_truth\"].to_list(), \n",
    "         clicks_preds=pred_df[pred_df[\"session_type\"].str.contains(\"clicks\")][\"labels\"].to_list(),\n",
    "         carts_preds=pred_df[pred_df[\"session_type\"].str.contains(\"carts\")][\"labels\"].to_list(), \n",
    "         orders_preds=pred_df[pred_df[\"session_type\"].str.contains(\"orders\")][\"labels\"].to_list(), \n",
    "         k=20)"
   ]
  },
  {
   "cell_type": "code",
   "execution_count": 78,
   "metadata": {},
   "outputs": [
    {
     "data": {
      "text/html": [
       "<div>\n",
       "<style scoped>\n",
       "    .dataframe tbody tr th:only-of-type {\n",
       "        vertical-align: middle;\n",
       "    }\n",
       "\n",
       "    .dataframe tbody tr th {\n",
       "        vertical-align: top;\n",
       "    }\n",
       "\n",
       "    .dataframe thead th {\n",
       "        text-align: right;\n",
       "    }\n",
       "</style>\n",
       "<table border=\"1\" class=\"dataframe\">\n",
       "  <thead>\n",
       "    <tr style=\"text-align: right;\">\n",
       "      <th></th>\n",
       "      <th>session</th>\n",
       "      <th>clicks_labels</th>\n",
       "      <th>carts_labels</th>\n",
       "      <th>orders_labels</th>\n",
       "    </tr>\n",
       "  </thead>\n",
       "  <tbody>\n",
       "    <tr>\n",
       "      <th>0</th>\n",
       "      <td>0</td>\n",
       "      <td>536842.0</td>\n",
       "      <td>[974651, 280978, 1521766, 1760145, 275288, 543...</td>\n",
       "      <td>[1199474, 543308]</td>\n",
       "    </tr>\n",
       "    <tr>\n",
       "      <th>1</th>\n",
       "      <td>1</td>\n",
       "      <td>1628317.0</td>\n",
       "      <td>None</td>\n",
       "      <td>None</td>\n",
       "    </tr>\n",
       "    <tr>\n",
       "      <th>2</th>\n",
       "      <td>2</td>\n",
       "      <td>477910.0</td>\n",
       "      <td>None</td>\n",
       "      <td>None</td>\n",
       "    </tr>\n",
       "    <tr>\n",
       "      <th>3</th>\n",
       "      <td>4</td>\n",
       "      <td>1838173.0</td>\n",
       "      <td>[1554752, 917213, 758750]</td>\n",
       "      <td>None</td>\n",
       "    </tr>\n",
       "    <tr>\n",
       "      <th>4</th>\n",
       "      <td>6</td>\n",
       "      <td>1292948.0</td>\n",
       "      <td>None</td>\n",
       "      <td>None</td>\n",
       "    </tr>\n",
       "    <tr>\n",
       "      <th>...</th>\n",
       "      <td>...</td>\n",
       "      <td>...</td>\n",
       "      <td>...</td>\n",
       "      <td>...</td>\n",
       "    </tr>\n",
       "    <tr>\n",
       "      <th>4356192</th>\n",
       "      <td>12899774</td>\n",
       "      <td>1399483.0</td>\n",
       "      <td>None</td>\n",
       "      <td>None</td>\n",
       "    </tr>\n",
       "    <tr>\n",
       "      <th>4356193</th>\n",
       "      <td>12899775</td>\n",
       "      <td>1760714.0</td>\n",
       "      <td>None</td>\n",
       "      <td>None</td>\n",
       "    </tr>\n",
       "    <tr>\n",
       "      <th>4356194</th>\n",
       "      <td>12899776</td>\n",
       "      <td>1737908.0</td>\n",
       "      <td>None</td>\n",
       "      <td>None</td>\n",
       "    </tr>\n",
       "    <tr>\n",
       "      <th>4356195</th>\n",
       "      <td>12899777</td>\n",
       "      <td>384045.0</td>\n",
       "      <td>None</td>\n",
       "      <td>None</td>\n",
       "    </tr>\n",
       "    <tr>\n",
       "      <th>4356196</th>\n",
       "      <td>12899778</td>\n",
       "      <td>32070.0</td>\n",
       "      <td>None</td>\n",
       "      <td>None</td>\n",
       "    </tr>\n",
       "  </tbody>\n",
       "</table>\n",
       "<p>4356197 rows × 4 columns</p>\n",
       "</div>"
      ],
      "text/plain": [
       "          session  clicks_labels  \\\n",
       "0               0       536842.0   \n",
       "1               1      1628317.0   \n",
       "2               2       477910.0   \n",
       "3               4      1838173.0   \n",
       "4               6      1292948.0   \n",
       "...           ...            ...   \n",
       "4356192  12899774      1399483.0   \n",
       "4356193  12899775      1760714.0   \n",
       "4356194  12899776      1737908.0   \n",
       "4356195  12899777       384045.0   \n",
       "4356196  12899778        32070.0   \n",
       "\n",
       "                                              carts_labels      orders_labels  \n",
       "0        [974651, 280978, 1521766, 1760145, 275288, 543...  [1199474, 543308]  \n",
       "1                                                     None               None  \n",
       "2                                                     None               None  \n",
       "3                                [1554752, 917213, 758750]               None  \n",
       "4                                                     None               None  \n",
       "...                                                    ...                ...  \n",
       "4356192                                               None               None  \n",
       "4356193                                               None               None  \n",
       "4356194                                               None               None  \n",
       "4356195                                               None               None  \n",
       "4356196                                               None               None  \n",
       "\n",
       "[4356197 rows x 4 columns]"
      ]
     },
     "execution_count": 78,
     "metadata": {},
     "output_type": "execute_result"
    }
   ],
   "source": [
    "sessions_label"
   ]
  },
  {
   "cell_type": "code",
   "execution_count": 39,
   "metadata": {},
   "outputs": [
    {
     "data": {
      "text/html": [
       "<div>\n",
       "<style scoped>\n",
       "    .dataframe tbody tr th:only-of-type {\n",
       "        vertical-align: middle;\n",
       "    }\n",
       "\n",
       "    .dataframe tbody tr th {\n",
       "        vertical-align: top;\n",
       "    }\n",
       "\n",
       "    .dataframe thead th {\n",
       "        text-align: right;\n",
       "    }\n",
       "</style>\n",
       "<table border=\"1\" class=\"dataframe\">\n",
       "  <thead>\n",
       "    <tr style=\"text-align: right;\">\n",
       "      <th></th>\n",
       "      <th>session_type</th>\n",
       "      <th>labels</th>\n",
       "      <th>session</th>\n",
       "    </tr>\n",
       "  </thead>\n",
       "  <tbody>\n",
       "    <tr>\n",
       "      <th>0</th>\n",
       "      <td>11098528_clicks</td>\n",
       "      <td>[11830, 588923, 1732105, 571762, 884502, 11578...</td>\n",
       "      <td>11098528</td>\n",
       "    </tr>\n",
       "    <tr>\n",
       "      <th>1</th>\n",
       "      <td>11098529_clicks</td>\n",
       "      <td>[1105029, 459126, 1339838, 1544564, 217742, 16...</td>\n",
       "      <td>11098529</td>\n",
       "    </tr>\n",
       "    <tr>\n",
       "      <th>2</th>\n",
       "      <td>11098530_clicks</td>\n",
       "      <td>[409236, 264500, 1603001, 963957, 254154, 5830...</td>\n",
       "      <td>11098530</td>\n",
       "    </tr>\n",
       "    <tr>\n",
       "      <th>3</th>\n",
       "      <td>11098531_clicks</td>\n",
       "      <td>[396199, 1271998, 452188, 1728212, 1365569, 62...</td>\n",
       "      <td>11098531</td>\n",
       "    </tr>\n",
       "    <tr>\n",
       "      <th>4</th>\n",
       "      <td>11098532_clicks</td>\n",
       "      <td>[876469, 7651, 108125, 1202618, 1159379, 77906...</td>\n",
       "      <td>11098532</td>\n",
       "    </tr>\n",
       "    <tr>\n",
       "      <th>...</th>\n",
       "      <td>...</td>\n",
       "      <td>...</td>\n",
       "      <td>...</td>\n",
       "    </tr>\n",
       "    <tr>\n",
       "      <th>5403748</th>\n",
       "      <td>12899774_carts</td>\n",
       "      <td>[33035, 1539309, 819288, 95488, 270852, 771913...</td>\n",
       "      <td>12899774</td>\n",
       "    </tr>\n",
       "    <tr>\n",
       "      <th>5403749</th>\n",
       "      <td>12899775_carts</td>\n",
       "      <td>[1743151, 1760714, 1163166, 1255910, 1498443, ...</td>\n",
       "      <td>12899775</td>\n",
       "    </tr>\n",
       "    <tr>\n",
       "      <th>5403750</th>\n",
       "      <td>12899776_carts</td>\n",
       "      <td>[548599, 1401030, 1150130, 1440959, 1144446, 1...</td>\n",
       "      <td>12899776</td>\n",
       "    </tr>\n",
       "    <tr>\n",
       "      <th>5403751</th>\n",
       "      <td>12899777_carts</td>\n",
       "      <td>[384045, 1308634, 395762, 1688215, 703474, 148...</td>\n",
       "      <td>12899777</td>\n",
       "    </tr>\n",
       "    <tr>\n",
       "      <th>5403752</th>\n",
       "      <td>12899778_carts</td>\n",
       "      <td>[561560, 1167224, 13942, 566042, 570506, 82872...</td>\n",
       "      <td>12899778</td>\n",
       "    </tr>\n",
       "  </tbody>\n",
       "</table>\n",
       "<p>5403753 rows × 3 columns</p>\n",
       "</div>"
      ],
      "text/plain": [
       "            session_type                                             labels  \\\n",
       "0        11098528_clicks  [11830, 588923, 1732105, 571762, 884502, 11578...   \n",
       "1        11098529_clicks  [1105029, 459126, 1339838, 1544564, 217742, 16...   \n",
       "2        11098530_clicks  [409236, 264500, 1603001, 963957, 254154, 5830...   \n",
       "3        11098531_clicks  [396199, 1271998, 452188, 1728212, 1365569, 62...   \n",
       "4        11098532_clicks  [876469, 7651, 108125, 1202618, 1159379, 77906...   \n",
       "...                  ...                                                ...   \n",
       "5403748   12899774_carts  [33035, 1539309, 819288, 95488, 270852, 771913...   \n",
       "5403749   12899775_carts  [1743151, 1760714, 1163166, 1255910, 1498443, ...   \n",
       "5403750   12899776_carts  [548599, 1401030, 1150130, 1440959, 1144446, 1...   \n",
       "5403751   12899777_carts  [384045, 1308634, 395762, 1688215, 703474, 148...   \n",
       "5403752   12899778_carts  [561560, 1167224, 13942, 566042, 570506, 82872...   \n",
       "\n",
       "          session  \n",
       "0        11098528  \n",
       "1        11098529  \n",
       "2        11098530  \n",
       "3        11098531  \n",
       "4        11098532  \n",
       "...           ...  \n",
       "5403748  12899774  \n",
       "5403749  12899775  \n",
       "5403750  12899776  \n",
       "5403751  12899777  \n",
       "5403752  12899778  \n",
       "\n",
       "[5403753 rows x 3 columns]"
      ]
     },
     "execution_count": 39,
     "metadata": {},
     "output_type": "execute_result"
    }
   ],
   "source": [
    "df = df.merge(pred_df, on=[\"session_type\"], how=\"left\")\n",
    "df = df.merge(test_labels, )"
   ]
  },
  {
   "cell_type": "code",
   "execution_count": 38,
   "metadata": {},
   "outputs": [
    {
     "data": {
      "text/html": [
       "<div>\n",
       "<style scoped>\n",
       "    .dataframe tbody tr th:only-of-type {\n",
       "        vertical-align: middle;\n",
       "    }\n",
       "\n",
       "    .dataframe tbody tr th {\n",
       "        vertical-align: top;\n",
       "    }\n",
       "\n",
       "    .dataframe thead th {\n",
       "        text-align: right;\n",
       "    }\n",
       "</style>\n",
       "<table border=\"1\" class=\"dataframe\">\n",
       "  <thead>\n",
       "    <tr style=\"text-align: right;\">\n",
       "      <th></th>\n",
       "      <th>session</th>\n",
       "    </tr>\n",
       "  </thead>\n",
       "  <tbody>\n",
       "    <tr>\n",
       "      <th>0</th>\n",
       "      <td>11098528_clicks</td>\n",
       "    </tr>\n",
       "    <tr>\n",
       "      <th>1</th>\n",
       "      <td>11098529_clicks</td>\n",
       "    </tr>\n",
       "    <tr>\n",
       "      <th>2</th>\n",
       "      <td>11098530_clicks</td>\n",
       "    </tr>\n",
       "    <tr>\n",
       "      <th>3</th>\n",
       "      <td>11098531_clicks</td>\n",
       "    </tr>\n",
       "    <tr>\n",
       "      <th>4</th>\n",
       "      <td>11098532_clicks</td>\n",
       "    </tr>\n",
       "    <tr>\n",
       "      <th>...</th>\n",
       "      <td>...</td>\n",
       "    </tr>\n",
       "    <tr>\n",
       "      <th>1801246</th>\n",
       "      <td>12899774_orders</td>\n",
       "    </tr>\n",
       "    <tr>\n",
       "      <th>1801247</th>\n",
       "      <td>12899775_orders</td>\n",
       "    </tr>\n",
       "    <tr>\n",
       "      <th>1801248</th>\n",
       "      <td>12899776_orders</td>\n",
       "    </tr>\n",
       "    <tr>\n",
       "      <th>1801249</th>\n",
       "      <td>12899777_orders</td>\n",
       "    </tr>\n",
       "    <tr>\n",
       "      <th>1801250</th>\n",
       "      <td>12899778_orders</td>\n",
       "    </tr>\n",
       "  </tbody>\n",
       "</table>\n",
       "<p>5403753 rows × 1 columns</p>\n",
       "</div>"
      ],
      "text/plain": [
       "                 session\n",
       "0        11098528_clicks\n",
       "1        11098529_clicks\n",
       "2        11098530_clicks\n",
       "3        11098531_clicks\n",
       "4        11098532_clicks\n",
       "...                  ...\n",
       "1801246  12899774_orders\n",
       "1801247  12899775_orders\n",
       "1801248  12899776_orders\n",
       "1801249  12899777_orders\n",
       "1801250  12899778_orders\n",
       "\n",
       "[5403753 rows x 1 columns]"
      ]
     },
     "execution_count": 38,
     "metadata": {},
     "output_type": "execute_result"
    }
   ],
   "source": [
    "df"
   ]
  },
  {
   "cell_type": "code",
   "execution_count": 28,
   "metadata": {},
   "outputs": [],
   "source": [
    "df = df.merge(test_labels, on=\"session\", how=\"left\")"
   ]
  },
  {
   "cell_type": "code",
   "execution_count": 30,
   "metadata": {},
   "outputs": [
    {
     "data": {
      "text/plain": [
       "session         0\n",
       "type            0\n",
       "ground_truth    0\n",
       "dtype: int64"
      ]
     },
     "execution_count": 30,
     "metadata": {},
     "output_type": "execute_result"
    }
   ],
   "source": [
    "df.isnull().sum()"
   ]
  },
  {
   "cell_type": "code",
   "execution_count": null,
   "metadata": {},
   "outputs": [],
   "source": []
  },
  {
   "cell_type": "code",
   "execution_count": 15,
   "metadata": {},
   "outputs": [
    {
     "data": {
      "text/plain": [
       "1801251"
      ]
     },
     "execution_count": 15,
     "metadata": {},
     "output_type": "execute_result"
    }
   ],
   "source": [
    "test_labels[\"session\"].nunique()"
   ]
  },
  {
   "cell_type": "code",
   "execution_count": 9,
   "metadata": {},
   "outputs": [
    {
     "ename": "IndexError",
     "evalue": "list index out of range",
     "output_type": "error",
     "traceback": [
      "\u001b[0;31m---------------------------------------------------------------------------\u001b[0m",
      "\u001b[0;31mIndexError\u001b[0m                                Traceback (most recent call last)",
      "Cell \u001b[0;32mIn [9], line 1\u001b[0m\n\u001b[0;32m----> 1\u001b[0m evaluate(clicks_labels\u001b[39m=\u001b[39;49mgts[\u001b[39m\"\u001b[39;49m\u001b[39mclicks\u001b[39;49m\u001b[39m\"\u001b[39;49m],\n\u001b[1;32m      2\u001b[0m          carts_labels\u001b[39m=\u001b[39;49mgts[\u001b[39m\"\u001b[39;49m\u001b[39mcarts\u001b[39;49m\u001b[39m\"\u001b[39;49m],\n\u001b[1;32m      3\u001b[0m          orders_labels\u001b[39m=\u001b[39;49mgts[\u001b[39m\"\u001b[39;49m\u001b[39morders\u001b[39;49m\u001b[39m\"\u001b[39;49m], \n\u001b[1;32m      4\u001b[0m          clicks_preds\u001b[39m=\u001b[39;49mpreds[\u001b[39m\"\u001b[39;49m\u001b[39mclicks\u001b[39;49m\u001b[39m\"\u001b[39;49m], \n\u001b[1;32m      5\u001b[0m          carts_preds\u001b[39m=\u001b[39;49mpreds[\u001b[39m\"\u001b[39;49m\u001b[39mcarts\u001b[39;49m\u001b[39m\"\u001b[39;49m],\n\u001b[1;32m      6\u001b[0m          orders_preds\u001b[39m=\u001b[39;49mpreds[\u001b[39m\"\u001b[39;49m\u001b[39morders\u001b[39;49m\u001b[39m\"\u001b[39;49m], \n\u001b[1;32m      7\u001b[0m          k\u001b[39m=\u001b[39;49m\u001b[39m20\u001b[39;49m)\n",
      "Cell \u001b[0;32mIn [3], line 15\u001b[0m, in \u001b[0;36mevaluate\u001b[0;34m(clicks_labels, carts_labels, orders_labels, clicks_preds, carts_preds, orders_preds, k)\u001b[0m\n\u001b[1;32m     13\u001b[0m clicks_label \u001b[39m=\u001b[39m clicks_labels[i]\n\u001b[1;32m     14\u001b[0m carts_label \u001b[39m=\u001b[39m carts_labels[i]\n\u001b[0;32m---> 15\u001b[0m orders_label \u001b[39m=\u001b[39m orders_labels[i]\n\u001b[1;32m     16\u001b[0m clicks_pred \u001b[39m=\u001b[39m clicks_preds[i]\n\u001b[1;32m     17\u001b[0m carts_pred \u001b[39m=\u001b[39m carts_preds[i]\n",
      "\u001b[0;31mIndexError\u001b[0m: list index out of range"
     ]
    }
   ],
   "source": [
    "evaluate(clicks_labels=gts[\"clicks\"],\n",
    "         carts_labels=gts[\"carts\"],\n",
    "         orders_labels=gts[\"orders\"], \n",
    "         clicks_preds=preds[\"clicks\"], \n",
    "         carts_preds=preds[\"carts\"],\n",
    "         orders_preds=preds[\"orders\"], \n",
    "         k=20)"
   ]
  },
  {
   "cell_type": "code",
   "execution_count": null,
   "metadata": {},
   "outputs": [],
   "source": []
  }
 ],
 "metadata": {
  "kernelspec": {
   "display_name": "base",
   "language": "python",
   "name": "python3"
  },
  "language_info": {
   "codemirror_mode": {
    "name": "ipython",
    "version": 3
   },
   "file_extension": ".py",
   "mimetype": "text/x-python",
   "name": "python",
   "nbconvert_exporter": "python",
   "pygments_lexer": "ipython3",
   "version": "3.8.13 | packaged by conda-forge | (default, Mar 25 2022, 06:04:10) \n[GCC 10.3.0]"
  },
  "orig_nbformat": 4,
  "vscode": {
   "interpreter": {
    "hash": "d4d1e4263499bec80672ea0156c357c1ee493ec2b1c70f0acce89fc37c4a6abe"
   }
  }
 },
 "nbformat": 4,
 "nbformat_minor": 2
}
