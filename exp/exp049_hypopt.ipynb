{
 "cells": [
  {
   "attachments": {},
   "cell_type": "markdown",
   "metadata": {},
   "source": [
    "# exp049\n",
    "co_visit rank追加"
   ]
  },
  {
   "cell_type": "code",
   "execution_count": 1,
   "metadata": {},
   "outputs": [],
   "source": [
    "import os\n",
    "import sys\n",
    "import traceback\n",
    "import gc\n",
    "import random\n",
    "import pickle\n",
    "import pathlib\n",
    "import subprocess\n",
    "from dataclasses import dataclass\n",
    "from dotenv import load_dotenv\n",
    "load_dotenv\n",
    "sys.path.append(os.getenv('UTILS_PATH'))\n",
    "from tqdm import tqdm\n",
    "import multiprocessing\n",
    "import inspect\n",
    "\n",
    "import pandas as pd\n",
    "import numpy as np\n",
    "import itertools\n",
    "import cudf\n",
    "import lightgbm as lgb\n",
    "import optuna.integration.lightgbm as optuna_lgb\n",
    "import matplotlib.pyplot as plt\n",
    "import seaborn as sns\n",
    "import line_notify\n",
    "import my_logger\n",
    "from noglobal import noglobal"
   ]
  },
  {
   "cell_type": "markdown",
   "metadata": {},
   "source": [
    "# 設定"
   ]
  },
  {
   "cell_type": "code",
   "execution_count": 2,
   "metadata": {},
   "outputs": [],
   "source": [
    "@dataclass\n",
    "class Cfg:\n",
    "    loglevel = \"INFO\"\n",
    "    exp_name = \"exp049_hypopt\"\n",
    "    seed = 42\n",
    "    k = 20\n",
    "    cand_n = 15\n",
    "    negative_sample = 1\n",
    "    train_chunk_n = 1\n",
    "    type2id = {\"clicks\":0, \"carts\":1, \"orders\":2}\n",
    "    id2type = {0:\"clicks\", 1:\"carts\", 2:\"orders\"}\n",
    "    train_weeks = [\"week3\"]\n",
    "    valid_week = \"week4\"\n",
    "    valid_session_n = 100_000\n",
    "    input_dir = os.getenv('INPUT_DIR')\n",
    "    output_dir = os.getenv('OUTPUT_DIR')\n",
    "    prep_dir = os.getenv(\"PREP_DIR\")\n",
    "\n",
    "cfg = Cfg()\n",
    "os.makedirs(os.path.join(cfg.output_dir, cfg.exp_name), exist_ok=True)\n",
    "os.makedirs(os.path.join(cfg.output_dir, cfg.exp_name, \"cache\"), exist_ok=True)\n",
    "random.seed(cfg.seed)\n",
    "\n",
    "logger = my_logger.init_logger(cfg.exp_name)"
   ]
  },
  {
   "cell_type": "code",
   "execution_count": 3,
   "metadata": {},
   "outputs": [],
   "source": [
    "params = {'objective': 'binary', \n",
    "        'boosting': 'gbdt', \n",
    "        'learning_rate': 0.1, \n",
    "        'metric': 'binary_logloss', \n",
    "        'seed': cfg.seed\n",
    "        }"
   ]
  },
  {
   "cell_type": "code",
   "execution_count": 4,
   "metadata": {},
   "outputs": [
    {
     "name": "stderr",
     "output_type": "stream",
     "text": [
      "\u001b[32m[I 2022-12-19 02:38:27,981]\u001b[0m A new study created in memory with name: no-name-52834cfc-cfd5-495a-99ac-8b4f02738a55\u001b[0m\n",
      "feature_fraction, val_score: inf:   0%|          | 0/7 [00:00<?, ?it/s]/home/kaggler/.local/lib/python3.8/site-packages/lightgbm/engine.py:181: UserWarning: 'early_stopping_rounds' argument is deprecated and will be removed in a future release of LightGBM. Pass 'early_stopping()' callback via 'callbacks' argument instead.\n",
      "  _log_warning(\"'early_stopping_rounds' argument is deprecated and will be removed in a future release of LightGBM. \"\n",
      "/home/kaggler/.local/lib/python3.8/site-packages/lightgbm/engine.py:239: UserWarning: 'verbose_eval' argument is deprecated and will be removed in a future release of LightGBM. Pass 'log_evaluation()' callback via 'callbacks' argument instead.\n",
      "  _log_warning(\"'verbose_eval' argument is deprecated and will be removed in a future release of LightGBM. \"\n"
     ]
    },
    {
     "name": "stdout",
     "output_type": "stream",
     "text": [
      "[LightGBM] [Info] Number of positive: 2634664, number of negative: 2634664\n",
      "[LightGBM] [Warning] Auto-choosing row-wise multi-threading, the overhead of testing was 0.490492 seconds.\n",
      "You can set `force_row_wise=true` to remove the overhead.\n",
      "And if memory is not enough, you can set `force_col_wise=true`.\n",
      "[LightGBM] [Info] Total Bins 11905\n",
      "[LightGBM] [Info] Number of data points in the train set: 5269328, number of used features: 55\n",
      "[LightGBM] [Info] [binary:BoostFromScore]: pavg=0.500000 -> initscore=0.000000\n",
      "Training until validation scores don't improve for 100 rounds\n",
      "[100]\tvalid_0's binary_logloss: 0.3506\tvalid_1's binary_logloss: 0.345325\n",
      "[200]\tvalid_0's binary_logloss: 0.348191\tvalid_1's binary_logloss: 0.343654\n",
      "[300]\tvalid_0's binary_logloss: 0.346838\tvalid_1's binary_logloss: 0.342893\n",
      "[400]\tvalid_0's binary_logloss: 0.345765\tvalid_1's binary_logloss: 0.342279\n",
      "[500]\tvalid_0's binary_logloss: 0.344773\tvalid_1's binary_logloss: 0.341766\n",
      "[600]\tvalid_0's binary_logloss: 0.343927\tvalid_1's binary_logloss: 0.341501\n",
      "[700]\tvalid_0's binary_logloss: 0.343143\tvalid_1's binary_logloss: 0.341141\n",
      "[800]\tvalid_0's binary_logloss: 0.342385\tvalid_1's binary_logloss: 0.340896\n",
      "[900]\tvalid_0's binary_logloss: 0.341691\tvalid_1's binary_logloss: 0.340754\n",
      "[1000]\tvalid_0's binary_logloss: 0.341048\tvalid_1's binary_logloss: 0.340592\n",
      "[1100]\tvalid_0's binary_logloss: 0.340358\tvalid_1's binary_logloss: 0.340419\n",
      "[1200]\tvalid_0's binary_logloss: 0.339772\tvalid_1's binary_logloss: 0.340317\n",
      "[1300]\tvalid_0's binary_logloss: 0.339126\tvalid_1's binary_logloss: 0.340203\n",
      "[1400]\tvalid_0's binary_logloss: 0.338522\tvalid_1's binary_logloss: 0.340109\n",
      "[1500]\tvalid_0's binary_logloss: 0.337974\tvalid_1's binary_logloss: 0.340056\n",
      "[1600]\tvalid_0's binary_logloss: 0.337426\tvalid_1's binary_logloss: 0.34001\n",
      "[1700]\tvalid_0's binary_logloss: 0.336907\tvalid_1's binary_logloss: 0.339974\n",
      "[1800]\tvalid_0's binary_logloss: 0.336363\tvalid_1's binary_logloss: 0.339935\n",
      "[1900]\tvalid_0's binary_logloss: 0.335797\tvalid_1's binary_logloss: 0.339892\n",
      "[2000]\tvalid_0's binary_logloss: 0.335291\tvalid_1's binary_logloss: 0.339913\n"
     ]
    },
    {
     "name": "stderr",
     "output_type": "stream",
     "text": [
      "feature_fraction, val_score: 0.339872:  14%|#4        | 1/7 [04:47<28:47, 288.00s/it]\u001b[32m[I 2022-12-19 02:43:15,984]\u001b[0m Trial 0 finished with value: 0.33987192244331393 and parameters: {'feature_fraction': 1.0}. Best is trial 0 with value: 0.33987192244331393.\u001b[0m\n",
      "feature_fraction, val_score: 0.339872:  14%|#4        | 1/7 [04:47<28:47, 288.00s/it]"
     ]
    },
    {
     "name": "stdout",
     "output_type": "stream",
     "text": [
      "Early stopping, best iteration is:\n",
      "[1956]\tvalid_0's binary_logloss: 0.335521\tvalid_1's binary_logloss: 0.339872\n",
      "[LightGBM] [Info] Number of positive: 2634664, number of negative: 2634664\n",
      "[LightGBM] [Warning] Auto-choosing row-wise multi-threading, the overhead of testing was 0.368909 seconds.\n",
      "You can set `force_row_wise=true` to remove the overhead.\n",
      "And if memory is not enough, you can set `force_col_wise=true`.\n",
      "[LightGBM] [Info] Total Bins 11905\n",
      "[LightGBM] [Info] Number of data points in the train set: 5269328, number of used features: 55\n",
      "[LightGBM] [Info] [binary:BoostFromScore]: pavg=0.500000 -> initscore=0.000000\n",
      "Training until validation scores don't improve for 100 rounds\n",
      "[100]\tvalid_0's binary_logloss: 0.351532\tvalid_1's binary_logloss: 0.345934\n",
      "[200]\tvalid_0's binary_logloss: 0.348549\tvalid_1's binary_logloss: 0.343735\n",
      "[300]\tvalid_0's binary_logloss: 0.34729\tvalid_1's binary_logloss: 0.342962\n",
      "[400]\tvalid_0's binary_logloss: 0.346265\tvalid_1's binary_logloss: 0.342455\n",
      "[500]\tvalid_0's binary_logloss: 0.345377\tvalid_1's binary_logloss: 0.34204\n",
      "[600]\tvalid_0's binary_logloss: 0.344608\tvalid_1's binary_logloss: 0.341647\n",
      "[700]\tvalid_0's binary_logloss: 0.343849\tvalid_1's binary_logloss: 0.341409\n",
      "[800]\tvalid_0's binary_logloss: 0.343174\tvalid_1's binary_logloss: 0.341217\n",
      "[900]\tvalid_0's binary_logloss: 0.342533\tvalid_1's binary_logloss: 0.34099\n",
      "[1000]\tvalid_0's binary_logloss: 0.341955\tvalid_1's binary_logloss: 0.340839\n",
      "[1100]\tvalid_0's binary_logloss: 0.341333\tvalid_1's binary_logloss: 0.34059\n",
      "[1200]\tvalid_0's binary_logloss: 0.340763\tvalid_1's binary_logloss: 0.340458\n",
      "[1300]\tvalid_0's binary_logloss: 0.340221\tvalid_1's binary_logloss: 0.340367\n",
      "[1400]\tvalid_0's binary_logloss: 0.33966\tvalid_1's binary_logloss: 0.340234\n",
      "[1500]\tvalid_0's binary_logloss: 0.339154\tvalid_1's binary_logloss: 0.340183\n",
      "[1600]\tvalid_0's binary_logloss: 0.338669\tvalid_1's binary_logloss: 0.34012\n",
      "[1700]\tvalid_0's binary_logloss: 0.338189\tvalid_1's binary_logloss: 0.340081\n",
      "[1800]\tvalid_0's binary_logloss: 0.337694\tvalid_1's binary_logloss: 0.340017\n",
      "[1900]\tvalid_0's binary_logloss: 0.337268\tvalid_1's binary_logloss: 0.34001\n",
      "[2000]\tvalid_0's binary_logloss: 0.336836\tvalid_1's binary_logloss: 0.339981\n",
      "[2100]\tvalid_0's binary_logloss: 0.336386\tvalid_1's binary_logloss: 0.339926\n",
      "[2200]\tvalid_0's binary_logloss: 0.335927\tvalid_1's binary_logloss: 0.339865\n",
      "[2300]\tvalid_0's binary_logloss: 0.335477\tvalid_1's binary_logloss: 0.339829\n",
      "[2400]\tvalid_0's binary_logloss: 0.335039\tvalid_1's binary_logloss: 0.339782\n",
      "[2500]\tvalid_0's binary_logloss: 0.334613\tvalid_1's binary_logloss: 0.339766\n",
      "[2600]\tvalid_0's binary_logloss: 0.33418\tvalid_1's binary_logloss: 0.339747\n",
      "[2700]\tvalid_0's binary_logloss: 0.333765\tvalid_1's binary_logloss: 0.339735\n"
     ]
    },
    {
     "name": "stderr",
     "output_type": "stream",
     "text": [
      "feature_fraction, val_score: 0.339731:  29%|##8       | 2/7 [11:46<30:24, 364.90s/it]\u001b[32m[I 2022-12-19 02:50:14,711]\u001b[0m Trial 1 finished with value: 0.33973113070677813 and parameters: {'feature_fraction': 0.4}. Best is trial 1 with value: 0.33973113070677813.\u001b[0m\n",
      "feature_fraction, val_score: 0.339731:  29%|##8       | 2/7 [11:46<30:24, 364.90s/it]"
     ]
    },
    {
     "name": "stdout",
     "output_type": "stream",
     "text": [
      "Early stopping, best iteration is:\n",
      "[2663]\tvalid_0's binary_logloss: 0.33391\tvalid_1's binary_logloss: 0.339731\n",
      "[LightGBM] [Info] Number of positive: 2634664, number of negative: 2634664\n",
      "[LightGBM] [Warning] Auto-choosing row-wise multi-threading, the overhead of testing was 0.411411 seconds.\n",
      "You can set `force_row_wise=true` to remove the overhead.\n",
      "And if memory is not enough, you can set `force_col_wise=true`.\n",
      "[LightGBM] [Info] Total Bins 11905\n",
      "[LightGBM] [Info] Number of data points in the train set: 5269328, number of used features: 55\n",
      "[LightGBM] [Info] [binary:BoostFromScore]: pavg=0.500000 -> initscore=0.000000\n",
      "Training until validation scores don't improve for 100 rounds\n",
      "[100]\tvalid_0's binary_logloss: 0.350969\tvalid_1's binary_logloss: 0.345484\n",
      "[200]\tvalid_0's binary_logloss: 0.348284\tvalid_1's binary_logloss: 0.343557\n",
      "[300]\tvalid_0's binary_logloss: 0.347038\tvalid_1's binary_logloss: 0.342824\n",
      "[400]\tvalid_0's binary_logloss: 0.34605\tvalid_1's binary_logloss: 0.342379\n",
      "[500]\tvalid_0's binary_logloss: 0.345143\tvalid_1's binary_logloss: 0.341965\n",
      "[600]\tvalid_0's binary_logloss: 0.344348\tvalid_1's binary_logloss: 0.341581\n",
      "[700]\tvalid_0's binary_logloss: 0.343626\tvalid_1's binary_logloss: 0.341333\n",
      "[800]\tvalid_0's binary_logloss: 0.342914\tvalid_1's binary_logloss: 0.341109\n",
      "[900]\tvalid_0's binary_logloss: 0.342296\tvalid_1's binary_logloss: 0.340929\n",
      "[1000]\tvalid_0's binary_logloss: 0.341666\tvalid_1's binary_logloss: 0.340779\n",
      "[1100]\tvalid_0's binary_logloss: 0.341054\tvalid_1's binary_logloss: 0.340591\n",
      "[1200]\tvalid_0's binary_logloss: 0.340504\tvalid_1's binary_logloss: 0.34051\n",
      "[1300]\tvalid_0's binary_logloss: 0.339926\tvalid_1's binary_logloss: 0.34039\n",
      "[1400]\tvalid_0's binary_logloss: 0.339409\tvalid_1's binary_logloss: 0.340324\n",
      "[1500]\tvalid_0's binary_logloss: 0.338912\tvalid_1's binary_logloss: 0.340257\n",
      "[1600]\tvalid_0's binary_logloss: 0.338372\tvalid_1's binary_logloss: 0.340166\n",
      "[1700]\tvalid_0's binary_logloss: 0.337855\tvalid_1's binary_logloss: 0.34009\n",
      "[1800]\tvalid_0's binary_logloss: 0.337365\tvalid_1's binary_logloss: 0.340045\n",
      "[1900]\tvalid_0's binary_logloss: 0.336872\tvalid_1's binary_logloss: 0.339985\n",
      "[2000]\tvalid_0's binary_logloss: 0.336401\tvalid_1's binary_logloss: 0.339964\n",
      "[2100]\tvalid_0's binary_logloss: 0.335924\tvalid_1's binary_logloss: 0.339903\n",
      "[2200]\tvalid_0's binary_logloss: 0.335464\tvalid_1's binary_logloss: 0.339887\n",
      "[2300]\tvalid_0's binary_logloss: 0.33503\tvalid_1's binary_logloss: 0.33987\n",
      "[2400]\tvalid_0's binary_logloss: 0.334617\tvalid_1's binary_logloss: 0.339832\n",
      "[2500]\tvalid_0's binary_logloss: 0.334197\tvalid_1's binary_logloss: 0.339828\n",
      "[2600]\tvalid_0's binary_logloss: 0.33377\tvalid_1's binary_logloss: 0.339805\n",
      "[2700]\tvalid_0's binary_logloss: 0.333321\tvalid_1's binary_logloss: 0.339791\n",
      "[2800]\tvalid_0's binary_logloss: 0.332887\tvalid_1's binary_logloss: 0.33978\n",
      "[2900]\tvalid_0's binary_logloss: 0.332458\tvalid_1's binary_logloss: 0.339752\n",
      "[3000]\tvalid_0's binary_logloss: 0.332046\tvalid_1's binary_logloss: 0.339742\n",
      "[3100]\tvalid_0's binary_logloss: 0.331646\tvalid_1's binary_logloss: 0.339732\n",
      "[3200]\tvalid_0's binary_logloss: 0.331228\tvalid_1's binary_logloss: 0.339699\n",
      "[3300]\tvalid_0's binary_logloss: 0.330813\tvalid_1's binary_logloss: 0.339679\n",
      "[3400]\tvalid_0's binary_logloss: 0.33039\tvalid_1's binary_logloss: 0.339655\n",
      "[3500]\tvalid_0's binary_logloss: 0.33\tvalid_1's binary_logloss: 0.339668\n"
     ]
    },
    {
     "name": "stderr",
     "output_type": "stream",
     "text": [
      "feature_fraction, val_score: 0.339650:  43%|####2     | 3/7 [20:55<29:56, 449.06s/it]\u001b[32m[I 2022-12-19 02:59:23,921]\u001b[0m Trial 2 finished with value: 0.33965028193775976 and parameters: {'feature_fraction': 0.5}. Best is trial 2 with value: 0.33965028193775976.\u001b[0m\n",
      "feature_fraction, val_score: 0.339650:  43%|####2     | 3/7 [20:55<29:56, 449.06s/it]"
     ]
    },
    {
     "name": "stdout",
     "output_type": "stream",
     "text": [
      "Early stopping, best iteration is:\n",
      "[3404]\tvalid_0's binary_logloss: 0.330374\tvalid_1's binary_logloss: 0.33965\n",
      "[LightGBM] [Info] Number of positive: 2634664, number of negative: 2634664\n",
      "[LightGBM] [Warning] Auto-choosing row-wise multi-threading, the overhead of testing was 0.444398 seconds.\n",
      "You can set `force_row_wise=true` to remove the overhead.\n",
      "And if memory is not enough, you can set `force_col_wise=true`.\n",
      "[LightGBM] [Info] Total Bins 11905\n",
      "[LightGBM] [Info] Number of data points in the train set: 5269328, number of used features: 55\n",
      "[LightGBM] [Info] [binary:BoostFromScore]: pavg=0.500000 -> initscore=0.000000\n",
      "Training until validation scores don't improve for 100 rounds\n",
      "[100]\tvalid_0's binary_logloss: 0.350632\tvalid_1's binary_logloss: 0.345346\n",
      "[200]\tvalid_0's binary_logloss: 0.348214\tvalid_1's binary_logloss: 0.343567\n",
      "[300]\tvalid_0's binary_logloss: 0.346917\tvalid_1's binary_logloss: 0.342847\n",
      "[400]\tvalid_0's binary_logloss: 0.345844\tvalid_1's binary_logloss: 0.34234\n",
      "[500]\tvalid_0's binary_logloss: 0.344892\tvalid_1's binary_logloss: 0.341905\n",
      "[600]\tvalid_0's binary_logloss: 0.344066\tvalid_1's binary_logloss: 0.341621\n",
      "[700]\tvalid_0's binary_logloss: 0.343322\tvalid_1's binary_logloss: 0.341351\n",
      "[800]\tvalid_0's binary_logloss: 0.342564\tvalid_1's binary_logloss: 0.341024\n",
      "[900]\tvalid_0's binary_logloss: 0.341854\tvalid_1's binary_logloss: 0.34082\n",
      "[1000]\tvalid_0's binary_logloss: 0.341205\tvalid_1's binary_logloss: 0.34065\n",
      "[1100]\tvalid_0's binary_logloss: 0.340607\tvalid_1's binary_logloss: 0.340504\n",
      "[1200]\tvalid_0's binary_logloss: 0.339994\tvalid_1's binary_logloss: 0.340378\n",
      "[1300]\tvalid_0's binary_logloss: 0.339387\tvalid_1's binary_logloss: 0.340269\n",
      "[1400]\tvalid_0's binary_logloss: 0.338816\tvalid_1's binary_logloss: 0.340212\n",
      "[1500]\tvalid_0's binary_logloss: 0.338289\tvalid_1's binary_logloss: 0.340154\n",
      "[1600]\tvalid_0's binary_logloss: 0.337748\tvalid_1's binary_logloss: 0.340078\n",
      "[1700]\tvalid_0's binary_logloss: 0.337247\tvalid_1's binary_logloss: 0.340068\n"
     ]
    },
    {
     "name": "stderr",
     "output_type": "stream",
     "text": [
      "feature_fraction, val_score: 0.339650:  57%|#####7    | 4/7 [25:12<18:38, 372.99s/it]\u001b[32m[I 2022-12-19 03:03:40,311]\u001b[0m Trial 3 finished with value: 0.34005759207317526 and parameters: {'feature_fraction': 0.8}. Best is trial 2 with value: 0.33965028193775976.\u001b[0m\n",
      "feature_fraction, val_score: 0.339650:  57%|#####7    | 4/7 [25:12<18:38, 372.99s/it]"
     ]
    },
    {
     "name": "stdout",
     "output_type": "stream",
     "text": [
      "Early stopping, best iteration is:\n",
      "[1668]\tvalid_0's binary_logloss: 0.337399\tvalid_1's binary_logloss: 0.340058\n",
      "[LightGBM] [Info] Number of positive: 2634664, number of negative: 2634664\n",
      "[LightGBM] [Warning] Auto-choosing row-wise multi-threading, the overhead of testing was 0.416513 seconds.\n",
      "You can set `force_row_wise=true` to remove the overhead.\n",
      "And if memory is not enough, you can set `force_col_wise=true`.\n",
      "[LightGBM] [Info] Total Bins 11905\n",
      "[LightGBM] [Info] Number of data points in the train set: 5269328, number of used features: 55\n",
      "[LightGBM] [Info] [binary:BoostFromScore]: pavg=0.500000 -> initscore=0.000000\n",
      "Training until validation scores don't improve for 100 rounds\n",
      "[100]\tvalid_0's binary_logloss: 0.350707\tvalid_1's binary_logloss: 0.34536\n",
      "[200]\tvalid_0's binary_logloss: 0.348237\tvalid_1's binary_logloss: 0.343555\n",
      "[300]\tvalid_0's binary_logloss: 0.346895\tvalid_1's binary_logloss: 0.342747\n",
      "[400]\tvalid_0's binary_logloss: 0.345826\tvalid_1's binary_logloss: 0.342236\n",
      "[500]\tvalid_0's binary_logloss: 0.344876\tvalid_1's binary_logloss: 0.341686\n",
      "[600]\tvalid_0's binary_logloss: 0.344016\tvalid_1's binary_logloss: 0.341306\n",
      "[700]\tvalid_0's binary_logloss: 0.343331\tvalid_1's binary_logloss: 0.341102\n",
      "[800]\tvalid_0's binary_logloss: 0.342644\tvalid_1's binary_logloss: 0.340886\n",
      "[900]\tvalid_0's binary_logloss: 0.341936\tvalid_1's binary_logloss: 0.340707\n",
      "[1000]\tvalid_0's binary_logloss: 0.341242\tvalid_1's binary_logloss: 0.340553\n",
      "[1100]\tvalid_0's binary_logloss: 0.340627\tvalid_1's binary_logloss: 0.340445\n",
      "[1200]\tvalid_0's binary_logloss: 0.340052\tvalid_1's binary_logloss: 0.340339\n",
      "[1300]\tvalid_0's binary_logloss: 0.339456\tvalid_1's binary_logloss: 0.340226\n",
      "[1400]\tvalid_0's binary_logloss: 0.338905\tvalid_1's binary_logloss: 0.340133\n",
      "[1500]\tvalid_0's binary_logloss: 0.338369\tvalid_1's binary_logloss: 0.340081\n",
      "[1600]\tvalid_0's binary_logloss: 0.337854\tvalid_1's binary_logloss: 0.340018\n",
      "[1700]\tvalid_0's binary_logloss: 0.337376\tvalid_1's binary_logloss: 0.340003\n",
      "[1800]\tvalid_0's binary_logloss: 0.336878\tvalid_1's binary_logloss: 0.33996\n",
      "[1900]\tvalid_0's binary_logloss: 0.336403\tvalid_1's binary_logloss: 0.339938\n",
      "[2000]\tvalid_0's binary_logloss: 0.33594\tvalid_1's binary_logloss: 0.33991\n",
      "[2100]\tvalid_0's binary_logloss: 0.335449\tvalid_1's binary_logloss: 0.339881\n",
      "[2200]\tvalid_0's binary_logloss: 0.334921\tvalid_1's binary_logloss: 0.339828\n",
      "[2300]\tvalid_0's binary_logloss: 0.334473\tvalid_1's binary_logloss: 0.33982\n"
     ]
    },
    {
     "name": "stderr",
     "output_type": "stream",
     "text": [
      "feature_fraction, val_score: 0.339650:  71%|#######1  | 5/7 [30:47<11:59, 359.51s/it]\u001b[32m[I 2022-12-19 03:09:15,919]\u001b[0m Trial 4 finished with value: 0.33981125365413273 and parameters: {'feature_fraction': 0.7}. Best is trial 2 with value: 0.33965028193775976.\u001b[0m\n",
      "feature_fraction, val_score: 0.339650:  71%|#######1  | 5/7 [30:47<11:59, 359.51s/it]"
     ]
    },
    {
     "name": "stdout",
     "output_type": "stream",
     "text": [
      "Early stopping, best iteration is:\n",
      "[2271]\tvalid_0's binary_logloss: 0.334585\tvalid_1's binary_logloss: 0.339811\n",
      "[LightGBM] [Info] Number of positive: 2634664, number of negative: 2634664\n",
      "[LightGBM] [Warning] Auto-choosing col-wise multi-threading, the overhead of testing was 0.647325 seconds.\n",
      "You can set `force_col_wise=true` to remove the overhead.\n",
      "[LightGBM] [Info] Total Bins 11905\n",
      "[LightGBM] [Info] Number of data points in the train set: 5269328, number of used features: 55\n",
      "[LightGBM] [Info] [binary:BoostFromScore]: pavg=0.500000 -> initscore=0.000000\n",
      "Training until validation scores don't improve for 100 rounds\n",
      "[100]\tvalid_0's binary_logloss: 0.350961\tvalid_1's binary_logloss: 0.345642\n",
      "[200]\tvalid_0's binary_logloss: 0.348367\tvalid_1's binary_logloss: 0.343747\n",
      "[300]\tvalid_0's binary_logloss: 0.34706\tvalid_1's binary_logloss: 0.343\n",
      "[400]\tvalid_0's binary_logloss: 0.346017\tvalid_1's binary_logloss: 0.342437\n",
      "[500]\tvalid_0's binary_logloss: 0.34503\tvalid_1's binary_logloss: 0.341872\n",
      "[600]\tvalid_0's binary_logloss: 0.344262\tvalid_1's binary_logloss: 0.341527\n",
      "[700]\tvalid_0's binary_logloss: 0.343528\tvalid_1's binary_logloss: 0.341298\n",
      "[800]\tvalid_0's binary_logloss: 0.342818\tvalid_1's binary_logloss: 0.341072\n",
      "[900]\tvalid_0's binary_logloss: 0.342151\tvalid_1's binary_logloss: 0.340866\n",
      "[1000]\tvalid_0's binary_logloss: 0.341508\tvalid_1's binary_logloss: 0.340665\n",
      "[1100]\tvalid_0's binary_logloss: 0.340828\tvalid_1's binary_logloss: 0.340492\n",
      "[1200]\tvalid_0's binary_logloss: 0.340255\tvalid_1's binary_logloss: 0.340395\n",
      "[1300]\tvalid_0's binary_logloss: 0.339686\tvalid_1's binary_logloss: 0.340286\n",
      "[1400]\tvalid_0's binary_logloss: 0.339044\tvalid_1's binary_logloss: 0.340114\n",
      "[1500]\tvalid_0's binary_logloss: 0.338488\tvalid_1's binary_logloss: 0.340023\n",
      "[1600]\tvalid_0's binary_logloss: 0.337987\tvalid_1's binary_logloss: 0.33996\n",
      "[1700]\tvalid_0's binary_logloss: 0.337471\tvalid_1's binary_logloss: 0.339906\n",
      "[1800]\tvalid_0's binary_logloss: 0.336952\tvalid_1's binary_logloss: 0.33987\n",
      "[1900]\tvalid_0's binary_logloss: 0.336501\tvalid_1's binary_logloss: 0.339825\n",
      "[2000]\tvalid_0's binary_logloss: 0.336026\tvalid_1's binary_logloss: 0.339795\n",
      "[2100]\tvalid_0's binary_logloss: 0.33557\tvalid_1's binary_logloss: 0.339747\n",
      "[2200]\tvalid_0's binary_logloss: 0.335126\tvalid_1's binary_logloss: 0.339721\n",
      "[2300]\tvalid_0's binary_logloss: 0.334705\tvalid_1's binary_logloss: 0.339695\n",
      "[2400]\tvalid_0's binary_logloss: 0.33424\tvalid_1's binary_logloss: 0.339652\n",
      "[2500]\tvalid_0's binary_logloss: 0.333764\tvalid_1's binary_logloss: 0.33963\n",
      "[2600]\tvalid_0's binary_logloss: 0.333332\tvalid_1's binary_logloss: 0.339616\n",
      "[2700]\tvalid_0's binary_logloss: 0.332919\tvalid_1's binary_logloss: 0.339605\n",
      "[2800]\tvalid_0's binary_logloss: 0.3325\tvalid_1's binary_logloss: 0.339597\n",
      "[2900]\tvalid_0's binary_logloss: 0.332096\tvalid_1's binary_logloss: 0.339597\n"
     ]
    },
    {
     "name": "stderr",
     "output_type": "stream",
     "text": [
      "feature_fraction, val_score: 0.339592:  86%|########5 | 6/7 [38:27<06:33, 393.65s/it]\u001b[32m[I 2022-12-19 03:16:55,837]\u001b[0m Trial 5 finished with value: 0.33959194294334893 and parameters: {'feature_fraction': 0.6}. Best is trial 5 with value: 0.33959194294334893.\u001b[0m\n",
      "feature_fraction, val_score: 0.339592:  86%|########5 | 6/7 [38:27<06:33, 393.65s/it]"
     ]
    },
    {
     "name": "stdout",
     "output_type": "stream",
     "text": [
      "Early stopping, best iteration is:\n",
      "[2823]\tvalid_0's binary_logloss: 0.332402\tvalid_1's binary_logloss: 0.339592\n",
      "[LightGBM] [Info] Number of positive: 2634664, number of negative: 2634664\n",
      "[LightGBM] [Warning] Auto-choosing col-wise multi-threading, the overhead of testing was 0.637948 seconds.\n",
      "You can set `force_col_wise=true` to remove the overhead.\n",
      "[LightGBM] [Info] Total Bins 11905\n",
      "[LightGBM] [Info] Number of data points in the train set: 5269328, number of used features: 55\n",
      "[LightGBM] [Info] [binary:BoostFromScore]: pavg=0.500000 -> initscore=0.000000\n",
      "Training until validation scores don't improve for 100 rounds\n",
      "[100]\tvalid_0's binary_logloss: 0.350651\tvalid_1's binary_logloss: 0.345349\n",
      "[200]\tvalid_0's binary_logloss: 0.348261\tvalid_1's binary_logloss: 0.343633\n",
      "[300]\tvalid_0's binary_logloss: 0.346992\tvalid_1's binary_logloss: 0.342996\n",
      "[400]\tvalid_0's binary_logloss: 0.345896\tvalid_1's binary_logloss: 0.342467\n",
      "[500]\tvalid_0's binary_logloss: 0.344904\tvalid_1's binary_logloss: 0.342017\n",
      "[600]\tvalid_0's binary_logloss: 0.344018\tvalid_1's binary_logloss: 0.341608\n",
      "[700]\tvalid_0's binary_logloss: 0.343254\tvalid_1's binary_logloss: 0.341323\n",
      "[800]\tvalid_0's binary_logloss: 0.34252\tvalid_1's binary_logloss: 0.341136\n",
      "[900]\tvalid_0's binary_logloss: 0.341829\tvalid_1's binary_logloss: 0.340977\n",
      "[1000]\tvalid_0's binary_logloss: 0.341124\tvalid_1's binary_logloss: 0.340733\n",
      "[1100]\tvalid_0's binary_logloss: 0.340477\tvalid_1's binary_logloss: 0.340576\n",
      "[1200]\tvalid_0's binary_logloss: 0.33985\tvalid_1's binary_logloss: 0.340441\n",
      "[1300]\tvalid_0's binary_logloss: 0.339213\tvalid_1's binary_logloss: 0.340322\n",
      "[1400]\tvalid_0's binary_logloss: 0.338649\tvalid_1's binary_logloss: 0.340263\n",
      "[1500]\tvalid_0's binary_logloss: 0.33811\tvalid_1's binary_logloss: 0.340232\n",
      "[1600]\tvalid_0's binary_logloss: 0.337564\tvalid_1's binary_logloss: 0.340191\n",
      "[1700]\tvalid_0's binary_logloss: 0.337032\tvalid_1's binary_logloss: 0.340127\n",
      "[1800]\tvalid_0's binary_logloss: 0.336521\tvalid_1's binary_logloss: 0.340129\n",
      "[1900]\tvalid_0's binary_logloss: 0.336019\tvalid_1's binary_logloss: 0.340102\n",
      "[2000]\tvalid_0's binary_logloss: 0.335504\tvalid_1's binary_logloss: 0.340065\n",
      "[2100]\tvalid_0's binary_logloss: 0.33501\tvalid_1's binary_logloss: 0.340016\n",
      "[2200]\tvalid_0's binary_logloss: 0.334585\tvalid_1's binary_logloss: 0.340027\n"
     ]
    },
    {
     "name": "stderr",
     "output_type": "stream",
     "text": [
      "feature_fraction, val_score: 0.339592: 100%|##########| 7/7 [44:33<00:00, 384.41s/it]\u001b[32m[I 2022-12-19 03:23:01,224]\u001b[0m Trial 6 finished with value: 0.34000669806294953 and parameters: {'feature_fraction': 0.8999999999999999}. Best is trial 5 with value: 0.33959194294334893.\u001b[0m\n",
      "feature_fraction, val_score: 0.339592: 100%|##########| 7/7 [44:33<00:00, 381.89s/it]\n"
     ]
    },
    {
     "name": "stdout",
     "output_type": "stream",
     "text": [
      "Early stopping, best iteration is:\n",
      "[2116]\tvalid_0's binary_logloss: 0.33493\tvalid_1's binary_logloss: 0.340007\n"
     ]
    },
    {
     "name": "stderr",
     "output_type": "stream",
     "text": [
      "num_leaves, val_score: 0.339592:   0%|          | 0/20 [00:00<?, ?it/s]"
     ]
    },
    {
     "name": "stdout",
     "output_type": "stream",
     "text": [
      "[LightGBM] [Info] Number of positive: 2634664, number of negative: 2634664\n",
      "[LightGBM] [Warning] Auto-choosing row-wise multi-threading, the overhead of testing was 0.422045 seconds.\n",
      "You can set `force_row_wise=true` to remove the overhead.\n",
      "And if memory is not enough, you can set `force_col_wise=true`.\n",
      "[LightGBM] [Info] Total Bins 11905\n",
      "[LightGBM] [Info] Number of data points in the train set: 5269328, number of used features: 55\n",
      "[LightGBM] [Info] [binary:BoostFromScore]: pavg=0.500000 -> initscore=0.000000\n",
      "Training until validation scores don't improve for 100 rounds\n",
      "[100]\tvalid_0's binary_logloss: 0.342884\tvalid_1's binary_logloss: 0.341116\n",
      "[200]\tvalid_0's binary_logloss: 0.33801\tvalid_1's binary_logloss: 0.340291\n",
      "[300]\tvalid_0's binary_logloss: 0.334177\tvalid_1's binary_logloss: 0.340093\n",
      "[400]\tvalid_0's binary_logloss: 0.33075\tvalid_1's binary_logloss: 0.33996\n"
     ]
    },
    {
     "name": "stderr",
     "output_type": "stream",
     "text": [
      "num_leaves, val_score: 0.339592:   5%|5         | 1/20 [02:47<52:56, 167.19s/it]\u001b[32m[I 2022-12-19 03:25:48,420]\u001b[0m Trial 7 finished with value: 0.33991758726100296 and parameters: {'num_leaves': 243}. Best is trial 7 with value: 0.33991758726100296.\u001b[0m\n",
      "num_leaves, val_score: 0.339592:   5%|5         | 1/20 [02:47<52:56, 167.19s/it]"
     ]
    },
    {
     "name": "stdout",
     "output_type": "stream",
     "text": [
      "Early stopping, best iteration is:\n",
      "[368]\tvalid_0's binary_logloss: 0.331792\tvalid_1's binary_logloss: 0.339918\n",
      "[LightGBM] [Info] Number of positive: 2634664, number of negative: 2634664\n",
      "[LightGBM] [Warning] Auto-choosing row-wise multi-threading, the overhead of testing was 0.440658 seconds.\n",
      "You can set `force_row_wise=true` to remove the overhead.\n",
      "And if memory is not enough, you can set `force_col_wise=true`.\n",
      "[LightGBM] [Info] Total Bins 11905\n",
      "[LightGBM] [Info] Number of data points in the train set: 5269328, number of used features: 55\n",
      "[LightGBM] [Info] [binary:BoostFromScore]: pavg=0.500000 -> initscore=0.000000\n",
      "Training until validation scores don't improve for 100 rounds\n",
      "[100]\tvalid_0's binary_logloss: 0.352233\tvalid_1's binary_logloss: 0.346372\n",
      "[200]\tvalid_0's binary_logloss: 0.349601\tvalid_1's binary_logloss: 0.344384\n",
      "[300]\tvalid_0's binary_logloss: 0.34833\tvalid_1's binary_logloss: 0.343536\n",
      "[400]\tvalid_0's binary_logloss: 0.347439\tvalid_1's binary_logloss: 0.343073\n",
      "[500]\tvalid_0's binary_logloss: 0.346638\tvalid_1's binary_logloss: 0.342616\n",
      "[600]\tvalid_0's binary_logloss: 0.345874\tvalid_1's binary_logloss: 0.342179\n",
      "[700]\tvalid_0's binary_logloss: 0.345177\tvalid_1's binary_logloss: 0.341871\n",
      "[800]\tvalid_0's binary_logloss: 0.344607\tvalid_1's binary_logloss: 0.341624\n",
      "[900]\tvalid_0's binary_logloss: 0.344018\tvalid_1's binary_logloss: 0.341343\n",
      "[1000]\tvalid_0's binary_logloss: 0.343499\tvalid_1's binary_logloss: 0.341129\n",
      "[1100]\tvalid_0's binary_logloss: 0.342959\tvalid_1's binary_logloss: 0.340911\n",
      "[1200]\tvalid_0's binary_logloss: 0.342483\tvalid_1's binary_logloss: 0.340781\n",
      "[1300]\tvalid_0's binary_logloss: 0.341981\tvalid_1's binary_logloss: 0.340616\n",
      "[1400]\tvalid_0's binary_logloss: 0.341551\tvalid_1's binary_logloss: 0.34051\n",
      "[1500]\tvalid_0's binary_logloss: 0.341149\tvalid_1's binary_logloss: 0.340416\n",
      "[1600]\tvalid_0's binary_logloss: 0.340735\tvalid_1's binary_logloss: 0.340322\n",
      "[1700]\tvalid_0's binary_logloss: 0.340344\tvalid_1's binary_logloss: 0.340266\n",
      "[1800]\tvalid_0's binary_logloss: 0.339966\tvalid_1's binary_logloss: 0.340208\n",
      "[1900]\tvalid_0's binary_logloss: 0.339555\tvalid_1's binary_logloss: 0.340101\n",
      "[2000]\tvalid_0's binary_logloss: 0.339203\tvalid_1's binary_logloss: 0.340083\n",
      "[2100]\tvalid_0's binary_logloss: 0.338863\tvalid_1's binary_logloss: 0.340057\n",
      "[2200]\tvalid_0's binary_logloss: 0.338503\tvalid_1's binary_logloss: 0.340019\n",
      "[2300]\tvalid_0's binary_logloss: 0.338155\tvalid_1's binary_logloss: 0.339996\n",
      "[2400]\tvalid_0's binary_logloss: 0.337811\tvalid_1's binary_logloss: 0.33996\n",
      "[2500]\tvalid_0's binary_logloss: 0.337485\tvalid_1's binary_logloss: 0.339931\n",
      "[2600]\tvalid_0's binary_logloss: 0.337129\tvalid_1's binary_logloss: 0.339905\n",
      "[2700]\tvalid_0's binary_logloss: 0.336784\tvalid_1's binary_logloss: 0.339888\n",
      "[2800]\tvalid_0's binary_logloss: 0.336473\tvalid_1's binary_logloss: 0.339878\n",
      "[2900]\tvalid_0's binary_logloss: 0.336143\tvalid_1's binary_logloss: 0.339874\n",
      "[3000]\tvalid_0's binary_logloss: 0.335817\tvalid_1's binary_logloss: 0.339858\n",
      "[3100]\tvalid_0's binary_logloss: 0.335496\tvalid_1's binary_logloss: 0.339825\n",
      "[3200]\tvalid_0's binary_logloss: 0.335166\tvalid_1's binary_logloss: 0.339806\n",
      "[3300]\tvalid_0's binary_logloss: 0.334861\tvalid_1's binary_logloss: 0.339808\n",
      "[3400]\tvalid_0's binary_logloss: 0.33455\tvalid_1's binary_logloss: 0.339763\n"
     ]
    },
    {
     "name": "stderr",
     "output_type": "stream",
     "text": [
      "num_leaves, val_score: 0.339592:  10%|#         | 2/20 [10:52<1:46:13, 354.10s/it]\u001b[32m[I 2022-12-19 03:33:53,363]\u001b[0m Trial 8 finished with value: 0.33975621886407187 and parameters: {'num_leaves': 22}. Best is trial 8 with value: 0.33975621886407187.\u001b[0m\n",
      "num_leaves, val_score: 0.339592:  10%|#         | 2/20 [10:52<1:46:13, 354.10s/it]"
     ]
    },
    {
     "name": "stdout",
     "output_type": "stream",
     "text": [
      "Early stopping, best iteration is:\n",
      "[3367]\tvalid_0's binary_logloss: 0.334647\tvalid_1's binary_logloss: 0.339756\n",
      "[LightGBM] [Info] Number of positive: 2634664, number of negative: 2634664\n",
      "[LightGBM] [Warning] Auto-choosing col-wise multi-threading, the overhead of testing was 0.709885 seconds.\n",
      "You can set `force_col_wise=true` to remove the overhead.\n",
      "[LightGBM] [Info] Total Bins 11905\n",
      "[LightGBM] [Info] Number of data points in the train set: 5269328, number of used features: 55\n",
      "[LightGBM] [Info] [binary:BoostFromScore]: pavg=0.500000 -> initscore=0.000000\n",
      "Training until validation scores don't improve for 100 rounds\n",
      "[100]\tvalid_0's binary_logloss: 0.352166\tvalid_1's binary_logloss: 0.346488\n",
      "[200]\tvalid_0's binary_logloss: 0.349474\tvalid_1's binary_logloss: 0.344348\n",
      "[300]\tvalid_0's binary_logloss: 0.348186\tvalid_1's binary_logloss: 0.343595\n",
      "[400]\tvalid_0's binary_logloss: 0.347257\tvalid_1's binary_logloss: 0.343052\n",
      "[500]\tvalid_0's binary_logloss: 0.346462\tvalid_1's binary_logloss: 0.342645\n",
      "[600]\tvalid_0's binary_logloss: 0.345746\tvalid_1's binary_logloss: 0.342266\n",
      "[700]\tvalid_0's binary_logloss: 0.345125\tvalid_1's binary_logloss: 0.341967\n",
      "[800]\tvalid_0's binary_logloss: 0.344485\tvalid_1's binary_logloss: 0.341635\n",
      "[900]\tvalid_0's binary_logloss: 0.343923\tvalid_1's binary_logloss: 0.341442\n",
      "[1000]\tvalid_0's binary_logloss: 0.343363\tvalid_1's binary_logloss: 0.341224\n",
      "[1100]\tvalid_0's binary_logloss: 0.34286\tvalid_1's binary_logloss: 0.341065\n",
      "[1200]\tvalid_0's binary_logloss: 0.342393\tvalid_1's binary_logloss: 0.340921\n",
      "[1300]\tvalid_0's binary_logloss: 0.341939\tvalid_1's binary_logloss: 0.340829\n",
      "[1400]\tvalid_0's binary_logloss: 0.341461\tvalid_1's binary_logloss: 0.340714\n",
      "[1500]\tvalid_0's binary_logloss: 0.341013\tvalid_1's binary_logloss: 0.340594\n",
      "[1600]\tvalid_0's binary_logloss: 0.340595\tvalid_1's binary_logloss: 0.340504\n",
      "[1700]\tvalid_0's binary_logloss: 0.34015\tvalid_1's binary_logloss: 0.340385\n",
      "[1800]\tvalid_0's binary_logloss: 0.339744\tvalid_1's binary_logloss: 0.340305\n",
      "[1900]\tvalid_0's binary_logloss: 0.339363\tvalid_1's binary_logloss: 0.340262\n",
      "[2000]\tvalid_0's binary_logloss: 0.338962\tvalid_1's binary_logloss: 0.340198\n",
      "[2100]\tvalid_0's binary_logloss: 0.338593\tvalid_1's binary_logloss: 0.340161\n",
      "[2200]\tvalid_0's binary_logloss: 0.33823\tvalid_1's binary_logloss: 0.340136\n",
      "[2300]\tvalid_0's binary_logloss: 0.337832\tvalid_1's binary_logloss: 0.340082\n",
      "[2400]\tvalid_0's binary_logloss: 0.337476\tvalid_1's binary_logloss: 0.340048\n",
      "[2500]\tvalid_0's binary_logloss: 0.337134\tvalid_1's binary_logloss: 0.340009\n",
      "[2600]\tvalid_0's binary_logloss: 0.336776\tvalid_1's binary_logloss: 0.339931\n",
      "[2700]\tvalid_0's binary_logloss: 0.336442\tvalid_1's binary_logloss: 0.339891\n",
      "[2800]\tvalid_0's binary_logloss: 0.33608\tvalid_1's binary_logloss: 0.339844\n",
      "[2900]\tvalid_0's binary_logloss: 0.335735\tvalid_1's binary_logloss: 0.33982\n",
      "[3000]\tvalid_0's binary_logloss: 0.335401\tvalid_1's binary_logloss: 0.339799\n",
      "[3100]\tvalid_0's binary_logloss: 0.335075\tvalid_1's binary_logloss: 0.339776\n",
      "[3200]\tvalid_0's binary_logloss: 0.334751\tvalid_1's binary_logloss: 0.339764\n",
      "[3300]\tvalid_0's binary_logloss: 0.334421\tvalid_1's binary_logloss: 0.339726\n",
      "[3400]\tvalid_0's binary_logloss: 0.334099\tvalid_1's binary_logloss: 0.339703\n",
      "[3500]\tvalid_0's binary_logloss: 0.3338\tvalid_1's binary_logloss: 0.339672\n",
      "[3600]\tvalid_0's binary_logloss: 0.333501\tvalid_1's binary_logloss: 0.339653\n",
      "[3700]\tvalid_0's binary_logloss: 0.33318\tvalid_1's binary_logloss: 0.339638\n",
      "[3800]\tvalid_0's binary_logloss: 0.33286\tvalid_1's binary_logloss: 0.339634\n",
      "[3900]\tvalid_0's binary_logloss: 0.332554\tvalid_1's binary_logloss: 0.339611\n",
      "[4000]\tvalid_0's binary_logloss: 0.332238\tvalid_1's binary_logloss: 0.339609\n"
     ]
    },
    {
     "name": "stderr",
     "output_type": "stream",
     "text": [
      "num_leaves, val_score: 0.339592:  15%|#5        | 3/20 [20:18<2:07:50, 451.19s/it]\u001b[32m[I 2022-12-19 03:43:20,080]\u001b[0m Trial 9 finished with value: 0.3395993855369032 and parameters: {'num_leaves': 23}. Best is trial 9 with value: 0.3395993855369032.\u001b[0m\n",
      "num_leaves, val_score: 0.339592:  15%|#5        | 3/20 [20:18<2:07:50, 451.19s/it]"
     ]
    },
    {
     "name": "stdout",
     "output_type": "stream",
     "text": [
      "Early stopping, best iteration is:\n",
      "[3916]\tvalid_0's binary_logloss: 0.332497\tvalid_1's binary_logloss: 0.339599\n",
      "[LightGBM] [Info] Number of positive: 2634664, number of negative: 2634664\n",
      "[LightGBM] [Warning] Auto-choosing row-wise multi-threading, the overhead of testing was 0.394622 seconds.\n",
      "You can set `force_row_wise=true` to remove the overhead.\n",
      "And if memory is not enough, you can set `force_col_wise=true`.\n",
      "[LightGBM] [Info] Total Bins 11905\n",
      "[LightGBM] [Info] Number of data points in the train set: 5269328, number of used features: 55\n",
      "[LightGBM] [Info] [binary:BoostFromScore]: pavg=0.500000 -> initscore=0.000000\n",
      "Training until validation scores don't improve for 100 rounds\n",
      "[100]\tvalid_0's binary_logloss: 0.34943\tvalid_1's binary_logloss: 0.344464\n",
      "[200]\tvalid_0's binary_logloss: 0.346788\tvalid_1's binary_logloss: 0.342669\n",
      "[300]\tvalid_0's binary_logloss: 0.345219\tvalid_1's binary_logloss: 0.34193\n",
      "[400]\tvalid_0's binary_logloss: 0.344035\tvalid_1's binary_logloss: 0.34154\n",
      "[500]\tvalid_0's binary_logloss: 0.342936\tvalid_1's binary_logloss: 0.341086\n",
      "[600]\tvalid_0's binary_logloss: 0.34192\tvalid_1's binary_logloss: 0.340809\n",
      "[700]\tvalid_0's binary_logloss: 0.340979\tvalid_1's binary_logloss: 0.340585\n",
      "[800]\tvalid_0's binary_logloss: 0.340047\tvalid_1's binary_logloss: 0.340376\n",
      "[900]\tvalid_0's binary_logloss: 0.339227\tvalid_1's binary_logloss: 0.340285\n",
      "[1000]\tvalid_0's binary_logloss: 0.338361\tvalid_1's binary_logloss: 0.340103\n",
      "[1100]\tvalid_0's binary_logloss: 0.33754\tvalid_1's binary_logloss: 0.339955\n",
      "[1200]\tvalid_0's binary_logloss: 0.33677\tvalid_1's binary_logloss: 0.339917\n",
      "[1300]\tvalid_0's binary_logloss: 0.336021\tvalid_1's binary_logloss: 0.339855\n",
      "[1400]\tvalid_0's binary_logloss: 0.335275\tvalid_1's binary_logloss: 0.339811\n",
      "[1500]\tvalid_0's binary_logloss: 0.334551\tvalid_1's binary_logloss: 0.339774\n",
      "[1600]\tvalid_0's binary_logloss: 0.333881\tvalid_1's binary_logloss: 0.339755\n",
      "[1700]\tvalid_0's binary_logloss: 0.333149\tvalid_1's binary_logloss: 0.339721\n",
      "[1800]\tvalid_0's binary_logloss: 0.332487\tvalid_1's binary_logloss: 0.33969\n",
      "[1900]\tvalid_0's binary_logloss: 0.331775\tvalid_1's binary_logloss: 0.339654\n",
      "[2000]\tvalid_0's binary_logloss: 0.331063\tvalid_1's binary_logloss: 0.339646\n"
     ]
    },
    {
     "name": "stderr",
     "output_type": "stream",
     "text": [
      "num_leaves, val_score: 0.339592:  20%|##        | 4/20 [26:03<1:49:05, 409.07s/it]\u001b[32m[I 2022-12-19 03:49:04,584]\u001b[0m Trial 10 finished with value: 0.33963660252253025 and parameters: {'num_leaves': 47}. Best is trial 9 with value: 0.3395993855369032.\u001b[0m\n",
      "num_leaves, val_score: 0.339592:  20%|##        | 4/20 [26:03<1:49:05, 409.07s/it]"
     ]
    },
    {
     "name": "stdout",
     "output_type": "stream",
     "text": [
      "Early stopping, best iteration is:\n",
      "[1923]\tvalid_0's binary_logloss: 0.331589\tvalid_1's binary_logloss: 0.339637\n",
      "[LightGBM] [Info] Number of positive: 2634664, number of negative: 2634664\n",
      "[LightGBM] [Warning] Auto-choosing col-wise multi-threading, the overhead of testing was 0.641874 seconds.\n",
      "You can set `force_col_wise=true` to remove the overhead.\n",
      "[LightGBM] [Info] Total Bins 11905\n",
      "[LightGBM] [Info] Number of data points in the train set: 5269328, number of used features: 55\n",
      "[LightGBM] [Info] [binary:BoostFromScore]: pavg=0.500000 -> initscore=0.000000\n",
      "Training until validation scores don't improve for 100 rounds\n",
      "[100]\tvalid_0's binary_logloss: 0.347454\tvalid_1's binary_logloss: 0.343086\n",
      "[200]\tvalid_0's binary_logloss: 0.344615\tvalid_1's binary_logloss: 0.341645\n",
      "[300]\tvalid_0's binary_logloss: 0.342726\tvalid_1's binary_logloss: 0.341069\n",
      "[400]\tvalid_0's binary_logloss: 0.341148\tvalid_1's binary_logloss: 0.340721\n",
      "[500]\tvalid_0's binary_logloss: 0.339645\tvalid_1's binary_logloss: 0.340458\n",
      "[600]\tvalid_0's binary_logloss: 0.338196\tvalid_1's binary_logloss: 0.340223\n",
      "[700]\tvalid_0's binary_logloss: 0.336841\tvalid_1's binary_logloss: 0.340087\n",
      "[800]\tvalid_0's binary_logloss: 0.335476\tvalid_1's binary_logloss: 0.339969\n",
      "[900]\tvalid_0's binary_logloss: 0.334239\tvalid_1's binary_logloss: 0.339896\n",
      "[1000]\tvalid_0's binary_logloss: 0.332985\tvalid_1's binary_logloss: 0.339785\n",
      "[1100]\tvalid_0's binary_logloss: 0.331822\tvalid_1's binary_logloss: 0.339746\n"
     ]
    },
    {
     "name": "stderr",
     "output_type": "stream",
     "text": [
      "num_leaves, val_score: 0.339592:  25%|##5       | 5/20 [30:13<1:27:54, 351.65s/it]\u001b[32m[I 2022-12-19 03:53:14,436]\u001b[0m Trial 11 finished with value: 0.33973430390195947 and parameters: {'num_leaves': 81}. Best is trial 9 with value: 0.3395993855369032.\u001b[0m\n",
      "num_leaves, val_score: 0.339592:  25%|##5       | 5/20 [30:13<1:27:54, 351.65s/it]"
     ]
    },
    {
     "name": "stdout",
     "output_type": "stream",
     "text": [
      "Early stopping, best iteration is:\n",
      "[1042]\tvalid_0's binary_logloss: 0.332478\tvalid_1's binary_logloss: 0.339734\n",
      "[LightGBM] [Info] Number of positive: 2634664, number of negative: 2634664\n",
      "[LightGBM] [Warning] Auto-choosing row-wise multi-threading, the overhead of testing was 0.406352 seconds.\n",
      "You can set `force_row_wise=true` to remove the overhead.\n",
      "And if memory is not enough, you can set `force_col_wise=true`.\n",
      "[LightGBM] [Info] Total Bins 11905\n",
      "[LightGBM] [Info] Number of data points in the train set: 5269328, number of used features: 55\n",
      "[LightGBM] [Info] [binary:BoostFromScore]: pavg=0.500000 -> initscore=0.000000\n",
      "Training until validation scores don't improve for 100 rounds\n",
      "[100]\tvalid_0's binary_logloss: 0.346202\tvalid_1's binary_logloss: 0.342343\n",
      "[200]\tvalid_0's binary_logloss: 0.342971\tvalid_1's binary_logloss: 0.341166\n",
      "[300]\tvalid_0's binary_logloss: 0.340464\tvalid_1's binary_logloss: 0.34054\n",
      "[400]\tvalid_0's binary_logloss: 0.338417\tvalid_1's binary_logloss: 0.340364\n",
      "[500]\tvalid_0's binary_logloss: 0.336494\tvalid_1's binary_logloss: 0.3402\n",
      "[600]\tvalid_0's binary_logloss: 0.334569\tvalid_1's binary_logloss: 0.340084\n",
      "[700]\tvalid_0's binary_logloss: 0.332836\tvalid_1's binary_logloss: 0.339919\n",
      "[800]\tvalid_0's binary_logloss: 0.331235\tvalid_1's binary_logloss: 0.339866\n",
      "[900]\tvalid_0's binary_logloss: 0.329691\tvalid_1's binary_logloss: 0.339805\n",
      "[1000]\tvalid_0's binary_logloss: 0.328222\tvalid_1's binary_logloss: 0.339792\n",
      "[1100]\tvalid_0's binary_logloss: 0.3267\tvalid_1's binary_logloss: 0.339788\n",
      "[1200]\tvalid_0's binary_logloss: 0.325205\tvalid_1's binary_logloss: 0.339748\n",
      "[1300]\tvalid_0's binary_logloss: 0.323629\tvalid_1's binary_logloss: 0.339725\n"
     ]
    },
    {
     "name": "stderr",
     "output_type": "stream",
     "text": [
      "num_leaves, val_score: 0.339592:  30%|###       | 6/20 [35:36<1:19:46, 341.89s/it]\u001b[32m[I 2022-12-19 03:58:37,375]\u001b[0m Trial 12 finished with value: 0.33971736820399273 and parameters: {'num_leaves': 115}. Best is trial 9 with value: 0.3395993855369032.\u001b[0m\n",
      "num_leaves, val_score: 0.339592:  30%|###       | 6/20 [35:36<1:19:46, 341.89s/it]"
     ]
    },
    {
     "name": "stdout",
     "output_type": "stream",
     "text": [
      "Early stopping, best iteration is:\n",
      "[1280]\tvalid_0's binary_logloss: 0.323946\tvalid_1's binary_logloss: 0.339717\n",
      "[LightGBM] [Info] Number of positive: 2634664, number of negative: 2634664\n",
      "[LightGBM] [Warning] Auto-choosing row-wise multi-threading, the overhead of testing was 0.388804 seconds.\n",
      "You can set `force_row_wise=true` to remove the overhead.\n",
      "And if memory is not enough, you can set `force_col_wise=true`.\n",
      "[LightGBM] [Info] Total Bins 11905\n",
      "[LightGBM] [Info] Number of data points in the train set: 5269328, number of used features: 55\n",
      "[LightGBM] [Info] [binary:BoostFromScore]: pavg=0.500000 -> initscore=0.000000\n",
      "Training until validation scores don't improve for 100 rounds\n",
      "[100]\tvalid_0's binary_logloss: 0.348378\tvalid_1's binary_logloss: 0.343617\n",
      "[200]\tvalid_0's binary_logloss: 0.34564\tvalid_1's binary_logloss: 0.342128\n",
      "[300]\tvalid_0's binary_logloss: 0.344009\tvalid_1's binary_logloss: 0.341503\n",
      "[400]\tvalid_0's binary_logloss: 0.342562\tvalid_1's binary_logloss: 0.341062\n",
      "[500]\tvalid_0's binary_logloss: 0.341298\tvalid_1's binary_logloss: 0.340739\n",
      "[600]\tvalid_0's binary_logloss: 0.34006\tvalid_1's binary_logloss: 0.340448\n",
      "[700]\tvalid_0's binary_logloss: 0.338917\tvalid_1's binary_logloss: 0.340265\n",
      "[800]\tvalid_0's binary_logloss: 0.33781\tvalid_1's binary_logloss: 0.340093\n",
      "[900]\tvalid_0's binary_logloss: 0.336782\tvalid_1's binary_logloss: 0.339994\n",
      "[1000]\tvalid_0's binary_logloss: 0.335771\tvalid_1's binary_logloss: 0.339921\n",
      "[1100]\tvalid_0's binary_logloss: 0.334786\tvalid_1's binary_logloss: 0.339845\n",
      "[1200]\tvalid_0's binary_logloss: 0.333797\tvalid_1's binary_logloss: 0.339736\n",
      "[1300]\tvalid_0's binary_logloss: 0.332868\tvalid_1's binary_logloss: 0.3397\n",
      "[1400]\tvalid_0's binary_logloss: 0.331873\tvalid_1's binary_logloss: 0.339657\n",
      "[1500]\tvalid_0's binary_logloss: 0.330956\tvalid_1's binary_logloss: 0.339623\n",
      "[1600]\tvalid_0's binary_logloss: 0.330081\tvalid_1's binary_logloss: 0.339602\n",
      "[1700]\tvalid_0's binary_logloss: 0.329251\tvalid_1's binary_logloss: 0.339581\n",
      "[1800]\tvalid_0's binary_logloss: 0.328384\tvalid_1's binary_logloss: 0.339544\n"
     ]
    },
    {
     "name": "stderr",
     "output_type": "stream",
     "text": [
      "num_leaves, val_score: 0.339539:  35%|###5      | 7/20 [41:08<1:13:23, 338.75s/it]\u001b[32m[I 2022-12-19 04:04:09,651]\u001b[0m Trial 13 finished with value: 0.3395385730924676 and parameters: {'num_leaves': 63}. Best is trial 13 with value: 0.3395385730924676.\u001b[0m\n",
      "num_leaves, val_score: 0.339539:  35%|###5      | 7/20 [41:08<1:13:23, 338.75s/it]"
     ]
    },
    {
     "name": "stdout",
     "output_type": "stream",
     "text": [
      "Early stopping, best iteration is:\n",
      "[1752]\tvalid_0's binary_logloss: 0.328795\tvalid_1's binary_logloss: 0.339539\n",
      "[LightGBM] [Info] Number of positive: 2634664, number of negative: 2634664\n",
      "[LightGBM] [Warning] Auto-choosing row-wise multi-threading, the overhead of testing was 0.407004 seconds.\n",
      "You can set `force_row_wise=true` to remove the overhead.\n",
      "And if memory is not enough, you can set `force_col_wise=true`.\n",
      "[LightGBM] [Info] Total Bins 11905\n",
      "[LightGBM] [Info] Number of data points in the train set: 5269328, number of used features: 55\n",
      "[LightGBM] [Info] [binary:BoostFromScore]: pavg=0.500000 -> initscore=0.000000\n",
      "Training until validation scores don't improve for 100 rounds\n",
      "[100]\tvalid_0's binary_logloss: 0.34431\tvalid_1's binary_logloss: 0.341541\n",
      "[200]\tvalid_0's binary_logloss: 0.340222\tvalid_1's binary_logloss: 0.340487\n",
      "[300]\tvalid_0's binary_logloss: 0.337013\tvalid_1's binary_logloss: 0.340172\n",
      "[400]\tvalid_0's binary_logloss: 0.334184\tvalid_1's binary_logloss: 0.340024\n",
      "[500]\tvalid_0's binary_logloss: 0.331593\tvalid_1's binary_logloss: 0.339974\n",
      "[600]\tvalid_0's binary_logloss: 0.32896\tvalid_1's binary_logloss: 0.339947\n",
      "[700]\tvalid_0's binary_logloss: 0.326427\tvalid_1's binary_logloss: 0.339829\n",
      "[800]\tvalid_0's binary_logloss: 0.324045\tvalid_1's binary_logloss: 0.339838\n"
     ]
    },
    {
     "name": "stderr",
     "output_type": "stream",
     "text": [
      "num_leaves, val_score: 0.339539:  40%|####      | 8/20 [45:10<1:01:35, 307.96s/it]\u001b[32m[I 2022-12-19 04:08:11,679]\u001b[0m Trial 14 finished with value: 0.33981454986789067 and parameters: {'num_leaves': 183}. Best is trial 13 with value: 0.3395385730924676.\u001b[0m\n",
      "num_leaves, val_score: 0.339539:  40%|####      | 8/20 [45:10<1:01:35, 307.96s/it]"
     ]
    },
    {
     "name": "stdout",
     "output_type": "stream",
     "text": [
      "Early stopping, best iteration is:\n",
      "[748]\tvalid_0's binary_logloss: 0.32529\tvalid_1's binary_logloss: 0.339815\n",
      "[LightGBM] [Info] Number of positive: 2634664, number of negative: 2634664\n",
      "[LightGBM] [Warning] Auto-choosing col-wise multi-threading, the overhead of testing was 0.696672 seconds.\n",
      "You can set `force_col_wise=true` to remove the overhead.\n",
      "[LightGBM] [Info] Total Bins 11905\n",
      "[LightGBM] [Info] Number of data points in the train set: 5269328, number of used features: 55\n",
      "[LightGBM] [Info] [binary:BoostFromScore]: pavg=0.500000 -> initscore=0.000000\n",
      "Training until validation scores don't improve for 100 rounds\n",
      "[100]\tvalid_0's binary_logloss: 0.354215\tvalid_1's binary_logloss: 0.348049\n",
      "[200]\tvalid_0's binary_logloss: 0.35121\tvalid_1's binary_logloss: 0.345461\n",
      "[300]\tvalid_0's binary_logloss: 0.34979\tvalid_1's binary_logloss: 0.344469\n",
      "[400]\tvalid_0's binary_logloss: 0.348846\tvalid_1's binary_logloss: 0.343806\n",
      "[500]\tvalid_0's binary_logloss: 0.348121\tvalid_1's binary_logloss: 0.343374\n",
      "[600]\tvalid_0's binary_logloss: 0.347463\tvalid_1's binary_logloss: 0.342914\n",
      "[700]\tvalid_0's binary_logloss: 0.346917\tvalid_1's binary_logloss: 0.342595\n",
      "[800]\tvalid_0's binary_logloss: 0.346423\tvalid_1's binary_logloss: 0.342324\n",
      "[900]\tvalid_0's binary_logloss: 0.345959\tvalid_1's binary_logloss: 0.342099\n",
      "[1000]\tvalid_0's binary_logloss: 0.34546\tvalid_1's binary_logloss: 0.341868\n",
      "[1100]\tvalid_0's binary_logloss: 0.345036\tvalid_1's binary_logloss: 0.341652\n",
      "[1200]\tvalid_0's binary_logloss: 0.344662\tvalid_1's binary_logloss: 0.341511\n",
      "[1300]\tvalid_0's binary_logloss: 0.344315\tvalid_1's binary_logloss: 0.341345\n",
      "[1400]\tvalid_0's binary_logloss: 0.343935\tvalid_1's binary_logloss: 0.341173\n",
      "[1500]\tvalid_0's binary_logloss: 0.343599\tvalid_1's binary_logloss: 0.341073\n",
      "[1600]\tvalid_0's binary_logloss: 0.343284\tvalid_1's binary_logloss: 0.340969\n",
      "[1700]\tvalid_0's binary_logloss: 0.34299\tvalid_1's binary_logloss: 0.340893\n",
      "[1800]\tvalid_0's binary_logloss: 0.342682\tvalid_1's binary_logloss: 0.340801\n",
      "[1900]\tvalid_0's binary_logloss: 0.342379\tvalid_1's binary_logloss: 0.340716\n",
      "[2000]\tvalid_0's binary_logloss: 0.342102\tvalid_1's binary_logloss: 0.340666\n",
      "[2100]\tvalid_0's binary_logloss: 0.341828\tvalid_1's binary_logloss: 0.340597\n",
      "[2200]\tvalid_0's binary_logloss: 0.341566\tvalid_1's binary_logloss: 0.34056\n",
      "[2300]\tvalid_0's binary_logloss: 0.341278\tvalid_1's binary_logloss: 0.340487\n",
      "[2400]\tvalid_0's binary_logloss: 0.34102\tvalid_1's binary_logloss: 0.340458\n",
      "[2500]\tvalid_0's binary_logloss: 0.340774\tvalid_1's binary_logloss: 0.340402\n",
      "[2600]\tvalid_0's binary_logloss: 0.34053\tvalid_1's binary_logloss: 0.340361\n",
      "[2700]\tvalid_0's binary_logloss: 0.340283\tvalid_1's binary_logloss: 0.340333\n",
      "[2800]\tvalid_0's binary_logloss: 0.34006\tvalid_1's binary_logloss: 0.340303\n",
      "[2900]\tvalid_0's binary_logloss: 0.339824\tvalid_1's binary_logloss: 0.34025\n",
      "[3000]\tvalid_0's binary_logloss: 0.339586\tvalid_1's binary_logloss: 0.340221\n",
      "[3100]\tvalid_0's binary_logloss: 0.339343\tvalid_1's binary_logloss: 0.340187\n",
      "[3200]\tvalid_0's binary_logloss: 0.339096\tvalid_1's binary_logloss: 0.340135\n",
      "[3300]\tvalid_0's binary_logloss: 0.338881\tvalid_1's binary_logloss: 0.340109\n",
      "[3400]\tvalid_0's binary_logloss: 0.338656\tvalid_1's binary_logloss: 0.340091\n",
      "[3500]\tvalid_0's binary_logloss: 0.33844\tvalid_1's binary_logloss: 0.34007\n",
      "[3600]\tvalid_0's binary_logloss: 0.33823\tvalid_1's binary_logloss: 0.340056\n"
     ]
    },
    {
     "name": "stderr",
     "output_type": "stream",
     "text": [
      "num_leaves, val_score: 0.339539:  45%|####5     | 9/20 [53:18<1:06:46, 364.23s/it]\u001b[32m[I 2022-12-19 04:16:19,636]\u001b[0m Trial 15 finished with value: 0.3400524535057256 and parameters: {'num_leaves': 15}. Best is trial 13 with value: 0.3395385730924676.\u001b[0m\n",
      "num_leaves, val_score: 0.339539:  45%|####5     | 9/20 [53:18<1:06:46, 364.23s/it]"
     ]
    },
    {
     "name": "stdout",
     "output_type": "stream",
     "text": [
      "Early stopping, best iteration is:\n",
      "[3531]\tvalid_0's binary_logloss: 0.338374\tvalid_1's binary_logloss: 0.340052\n",
      "[LightGBM] [Info] Number of positive: 2634664, number of negative: 2634664\n",
      "[LightGBM] [Warning] Auto-choosing col-wise multi-threading, the overhead of testing was 0.663696 seconds.\n",
      "You can set `force_col_wise=true` to remove the overhead.\n",
      "[LightGBM] [Info] Total Bins 11905\n",
      "[LightGBM] [Info] Number of data points in the train set: 5269328, number of used features: 55\n",
      "[LightGBM] [Info] [binary:BoostFromScore]: pavg=0.500000 -> initscore=0.000000\n",
      "Training until validation scores don't improve for 100 rounds\n",
      "[100]\tvalid_0's binary_logloss: 0.342874\tvalid_1's binary_logloss: 0.341112\n",
      "[200]\tvalid_0's binary_logloss: 0.337934\tvalid_1's binary_logloss: 0.340247\n",
      "[300]\tvalid_0's binary_logloss: 0.33412\tvalid_1's binary_logloss: 0.340044\n",
      "[400]\tvalid_0's binary_logloss: 0.330733\tvalid_1's binary_logloss: 0.339964\n",
      "[500]\tvalid_0's binary_logloss: 0.327465\tvalid_1's binary_logloss: 0.339859\n",
      "[600]\tvalid_0's binary_logloss: 0.324375\tvalid_1's binary_logloss: 0.339846\n",
      "[700]\tvalid_0's binary_logloss: 0.321441\tvalid_1's binary_logloss: 0.339867\n"
     ]
    },
    {
     "name": "stderr",
     "output_type": "stream",
     "text": [
      "num_leaves, val_score: 0.339539:  50%|#####     | 10/20 [57:35<55:11, 331.19s/it] \u001b[32m[I 2022-12-19 04:20:36,844]\u001b[0m Trial 16 finished with value: 0.33982715371945627 and parameters: {'num_leaves': 244}. Best is trial 13 with value: 0.3395385730924676.\u001b[0m\n",
      "num_leaves, val_score: 0.339539:  50%|#####     | 10/20 [57:35<55:11, 331.19s/it]"
     ]
    },
    {
     "name": "stdout",
     "output_type": "stream",
     "text": [
      "Early stopping, best iteration is:\n",
      "[613]\tvalid_0's binary_logloss: 0.32396\tvalid_1's binary_logloss: 0.339827\n",
      "[LightGBM] [Info] Number of positive: 2634664, number of negative: 2634664\n",
      "[LightGBM] [Warning] Auto-choosing col-wise multi-threading, the overhead of testing was 0.784100 seconds.\n",
      "You can set `force_col_wise=true` to remove the overhead.\n",
      "[LightGBM] [Info] Total Bins 11905\n",
      "[LightGBM] [Info] Number of data points in the train set: 5269328, number of used features: 55\n",
      "[LightGBM] [Info] [binary:BoostFromScore]: pavg=0.500000 -> initscore=0.000000\n",
      "Training until validation scores don't improve for 100 rounds\n",
      "[100]\tvalid_0's binary_logloss: 0.345496\tvalid_1's binary_logloss: 0.342027\n",
      "[200]\tvalid_0's binary_logloss: 0.342092\tvalid_1's binary_logloss: 0.341047\n",
      "[300]\tvalid_0's binary_logloss: 0.339424\tvalid_1's binary_logloss: 0.340617\n",
      "[400]\tvalid_0's binary_logloss: 0.337067\tvalid_1's binary_logloss: 0.34026\n",
      "[500]\tvalid_0's binary_logloss: 0.334792\tvalid_1's binary_logloss: 0.340092\n",
      "[600]\tvalid_0's binary_logloss: 0.332682\tvalid_1's binary_logloss: 0.339963\n",
      "[700]\tvalid_0's binary_logloss: 0.330725\tvalid_1's binary_logloss: 0.33992\n",
      "[800]\tvalid_0's binary_logloss: 0.32886\tvalid_1's binary_logloss: 0.339929\n"
     ]
    },
    {
     "name": "stderr",
     "output_type": "stream",
     "text": [
      "num_leaves, val_score: 0.339539:  55%|#####5    | 11/20 [1:01:23<44:55, 299.49s/it]\u001b[32m[I 2022-12-19 04:24:24,473]\u001b[0m Trial 17 finished with value: 0.3398823132738833 and parameters: {'num_leaves': 138}. Best is trial 13 with value: 0.3395385730924676.\u001b[0m\n",
      "num_leaves, val_score: 0.339539:  55%|#####5    | 11/20 [1:01:23<44:55, 299.49s/it]"
     ]
    },
    {
     "name": "stdout",
     "output_type": "stream",
     "text": [
      "Early stopping, best iteration is:\n",
      "[748]\tvalid_0's binary_logloss: 0.329822\tvalid_1's binary_logloss: 0.339882\n",
      "[LightGBM] [Info] Number of positive: 2634664, number of negative: 2634664\n",
      "[LightGBM] [Warning] Auto-choosing col-wise multi-threading, the overhead of testing was 0.733484 seconds.\n",
      "You can set `force_col_wise=true` to remove the overhead.\n",
      "[LightGBM] [Info] Total Bins 11905\n",
      "[LightGBM] [Info] Number of data points in the train set: 5269328, number of used features: 55\n",
      "[LightGBM] [Info] [binary:BoostFromScore]: pavg=0.500000 -> initscore=0.000000\n",
      "Training until validation scores don't improve for 100 rounds\n",
      "[100]\tvalid_0's binary_logloss: 0.348094\tvalid_1's binary_logloss: 0.343576\n",
      "[200]\tvalid_0's binary_logloss: 0.345319\tvalid_1's binary_logloss: 0.341999\n",
      "[300]\tvalid_0's binary_logloss: 0.343573\tvalid_1's binary_logloss: 0.341291\n",
      "[400]\tvalid_0's binary_logloss: 0.342018\tvalid_1's binary_logloss: 0.34084\n",
      "[500]\tvalid_0's binary_logloss: 0.340596\tvalid_1's binary_logloss: 0.340455\n",
      "[600]\tvalid_0's binary_logloss: 0.33928\tvalid_1's binary_logloss: 0.340167\n",
      "[700]\tvalid_0's binary_logloss: 0.338081\tvalid_1's binary_logloss: 0.339961\n",
      "[800]\tvalid_0's binary_logloss: 0.336959\tvalid_1's binary_logloss: 0.339901\n",
      "[900]\tvalid_0's binary_logloss: 0.335811\tvalid_1's binary_logloss: 0.339789\n",
      "[1000]\tvalid_0's binary_logloss: 0.33471\tvalid_1's binary_logloss: 0.339711\n",
      "[1100]\tvalid_0's binary_logloss: 0.333608\tvalid_1's binary_logloss: 0.339627\n",
      "[1200]\tvalid_0's binary_logloss: 0.332617\tvalid_1's binary_logloss: 0.339583\n",
      "[1300]\tvalid_0's binary_logloss: 0.331647\tvalid_1's binary_logloss: 0.339547\n"
     ]
    },
    {
     "name": "stderr",
     "output_type": "stream",
     "text": [
      "num_leaves, val_score: 0.339539:  60%|######    | 12/20 [1:06:14<39:35, 297.00s/it]\u001b[32m[I 2022-12-19 04:29:15,769]\u001b[0m Trial 18 finished with value: 0.3395462869548551 and parameters: {'num_leaves': 69}. Best is trial 13 with value: 0.3395385730924676.\u001b[0m\n",
      "num_leaves, val_score: 0.339539:  60%|######    | 12/20 [1:06:14<39:35, 297.00s/it]"
     ]
    },
    {
     "name": "stdout",
     "output_type": "stream",
     "text": [
      "Early stopping, best iteration is:\n",
      "[1298]\tvalid_0's binary_logloss: 0.331664\tvalid_1's binary_logloss: 0.339546\n",
      "[LightGBM] [Info] Number of positive: 2634664, number of negative: 2634664\n",
      "[LightGBM] [Warning] Auto-choosing col-wise multi-threading, the overhead of testing was 0.715427 seconds.\n",
      "You can set `force_col_wise=true` to remove the overhead.\n",
      "[LightGBM] [Info] Total Bins 11905\n",
      "[LightGBM] [Info] Number of data points in the train set: 5269328, number of used features: 55\n",
      "[LightGBM] [Info] [binary:BoostFromScore]: pavg=0.500000 -> initscore=0.000000\n",
      "Training until validation scores don't improve for 100 rounds\n",
      "[100]\tvalid_0's binary_logloss: 0.347292\tvalid_1's binary_logloss: 0.342985\n",
      "[200]\tvalid_0's binary_logloss: 0.344409\tvalid_1's binary_logloss: 0.341627\n",
      "[300]\tvalid_0's binary_logloss: 0.342445\tvalid_1's binary_logloss: 0.341089\n",
      "[400]\tvalid_0's binary_logloss: 0.340798\tvalid_1's binary_logloss: 0.340755\n",
      "[500]\tvalid_0's binary_logloss: 0.339206\tvalid_1's binary_logloss: 0.340551\n",
      "[600]\tvalid_0's binary_logloss: 0.337798\tvalid_1's binary_logloss: 0.34033\n",
      "[700]\tvalid_0's binary_logloss: 0.336309\tvalid_1's binary_logloss: 0.340189\n",
      "[800]\tvalid_0's binary_logloss: 0.33497\tvalid_1's binary_logloss: 0.340089\n",
      "[900]\tvalid_0's binary_logloss: 0.333733\tvalid_1's binary_logloss: 0.339943\n",
      "[1000]\tvalid_0's binary_logloss: 0.332434\tvalid_1's binary_logloss: 0.339939\n",
      "[1100]\tvalid_0's binary_logloss: 0.33125\tvalid_1's binary_logloss: 0.33992\n",
      "[1200]\tvalid_0's binary_logloss: 0.33002\tvalid_1's binary_logloss: 0.339822\n",
      "[1300]\tvalid_0's binary_logloss: 0.328861\tvalid_1's binary_logloss: 0.33979\n",
      "[1400]\tvalid_0's binary_logloss: 0.327642\tvalid_1's binary_logloss: 0.339785\n",
      "[1500]\tvalid_0's binary_logloss: 0.326514\tvalid_1's binary_logloss: 0.339783\n"
     ]
    },
    {
     "name": "stderr",
     "output_type": "stream",
     "text": [
      "num_leaves, val_score: 0.339539:  65%|######5   | 13/20 [1:11:27<35:12, 301.78s/it]\u001b[32m[I 2022-12-19 04:34:28,542]\u001b[0m Trial 19 finished with value: 0.3397727661069081 and parameters: {'num_leaves': 85}. Best is trial 13 with value: 0.3395385730924676.\u001b[0m\n",
      "num_leaves, val_score: 0.339539:  65%|######5   | 13/20 [1:11:27<35:12, 301.78s/it]"
     ]
    },
    {
     "name": "stdout",
     "output_type": "stream",
     "text": [
      "Early stopping, best iteration is:\n",
      "[1419]\tvalid_0's binary_logloss: 0.327446\tvalid_1's binary_logloss: 0.339773\n",
      "[LightGBM] [Info] Number of positive: 2634664, number of negative: 2634664\n",
      "[LightGBM] [Warning] Auto-choosing col-wise multi-threading, the overhead of testing was 0.641116 seconds.\n",
      "You can set `force_col_wise=true` to remove the overhead.\n",
      "[LightGBM] [Info] Total Bins 11905\n",
      "[LightGBM] [Info] Number of data points in the train set: 5269328, number of used features: 55\n",
      "[LightGBM] [Info] [binary:BoostFromScore]: pavg=0.500000 -> initscore=0.000000\n",
      "Training until validation scores don't improve for 100 rounds\n",
      "[100]\tvalid_0's binary_logloss: 0.34824\tvalid_1's binary_logloss: 0.343607\n",
      "[200]\tvalid_0's binary_logloss: 0.345539\tvalid_1's binary_logloss: 0.342076\n",
      "[300]\tvalid_0's binary_logloss: 0.343861\tvalid_1's binary_logloss: 0.341469\n",
      "[400]\tvalid_0's binary_logloss: 0.342316\tvalid_1's binary_logloss: 0.340939\n",
      "[500]\tvalid_0's binary_logloss: 0.340904\tvalid_1's binary_logloss: 0.34056\n",
      "[600]\tvalid_0's binary_logloss: 0.339622\tvalid_1's binary_logloss: 0.340251\n",
      "[700]\tvalid_0's binary_logloss: 0.338446\tvalid_1's binary_logloss: 0.340017\n",
      "[800]\tvalid_0's binary_logloss: 0.337315\tvalid_1's binary_logloss: 0.339832\n",
      "[900]\tvalid_0's binary_logloss: 0.336215\tvalid_1's binary_logloss: 0.33976\n",
      "[1000]\tvalid_0's binary_logloss: 0.335196\tvalid_1's binary_logloss: 0.339697\n",
      "[1100]\tvalid_0's binary_logloss: 0.334197\tvalid_1's binary_logloss: 0.339649\n",
      "[1200]\tvalid_0's binary_logloss: 0.3332\tvalid_1's binary_logloss: 0.339571\n",
      "[1300]\tvalid_0's binary_logloss: 0.332212\tvalid_1's binary_logloss: 0.339519\n",
      "[1400]\tvalid_0's binary_logloss: 0.331259\tvalid_1's binary_logloss: 0.339493\n",
      "[1500]\tvalid_0's binary_logloss: 0.330346\tvalid_1's binary_logloss: 0.339477\n",
      "[1600]\tvalid_0's binary_logloss: 0.329408\tvalid_1's binary_logloss: 0.339454\n"
     ]
    },
    {
     "name": "stderr",
     "output_type": "stream",
     "text": [
      "num_leaves, val_score: 0.339443:  70%|#######   | 14/20 [1:16:55<30:58, 309.78s/it]\u001b[32m[I 2022-12-19 04:39:56,820]\u001b[0m Trial 20 finished with value: 0.3394427597847088 and parameters: {'num_leaves': 66}. Best is trial 20 with value: 0.3394427597847088.\u001b[0m\n",
      "num_leaves, val_score: 0.339443:  70%|#######   | 14/20 [1:16:55<30:58, 309.78s/it]"
     ]
    },
    {
     "name": "stdout",
     "output_type": "stream",
     "text": [
      "Early stopping, best iteration is:\n",
      "[1536]\tvalid_0's binary_logloss: 0.329989\tvalid_1's binary_logloss: 0.339443\n",
      "[LightGBM] [Info] Number of positive: 2634664, number of negative: 2634664\n",
      "[LightGBM] [Warning] Auto-choosing row-wise multi-threading, the overhead of testing was 0.435121 seconds.\n",
      "You can set `force_row_wise=true` to remove the overhead.\n",
      "And if memory is not enough, you can set `force_col_wise=true`.\n",
      "[LightGBM] [Info] Total Bins 11905\n",
      "[LightGBM] [Info] Number of data points in the train set: 5269328, number of used features: 55\n",
      "[LightGBM] [Info] [binary:BoostFromScore]: pavg=0.500000 -> initscore=0.000000\n",
      "Training until validation scores don't improve for 100 rounds\n",
      "[100]\tvalid_0's binary_logloss: 0.345846\tvalid_1's binary_logloss: 0.342232\n",
      "[200]\tvalid_0's binary_logloss: 0.342464\tvalid_1's binary_logloss: 0.341091\n",
      "[300]\tvalid_0's binary_logloss: 0.34\tvalid_1's binary_logloss: 0.340703\n",
      "[400]\tvalid_0's binary_logloss: 0.337836\tvalid_1's binary_logloss: 0.340413\n",
      "[500]\tvalid_0's binary_logloss: 0.335817\tvalid_1's binary_logloss: 0.34024\n",
      "[600]\tvalid_0's binary_logloss: 0.333952\tvalid_1's binary_logloss: 0.340094\n",
      "[700]\tvalid_0's binary_logloss: 0.332151\tvalid_1's binary_logloss: 0.339958\n",
      "[800]\tvalid_0's binary_logloss: 0.330391\tvalid_1's binary_logloss: 0.339943\n",
      "[900]\tvalid_0's binary_logloss: 0.328529\tvalid_1's binary_logloss: 0.339799\n",
      "[1000]\tvalid_0's binary_logloss: 0.326777\tvalid_1's binary_logloss: 0.339776\n",
      "[1100]\tvalid_0's binary_logloss: 0.325104\tvalid_1's binary_logloss: 0.339757\n"
     ]
    },
    {
     "name": "stderr",
     "output_type": "stream",
     "text": [
      "num_leaves, val_score: 0.339443:  75%|#######5  | 15/20 [1:21:49<25:24, 304.85s/it]\u001b[32m[I 2022-12-19 04:44:50,253]\u001b[0m Trial 21 finished with value: 0.3397416140209959 and parameters: {'num_leaves': 126}. Best is trial 20 with value: 0.3394427597847088.\u001b[0m\n",
      "num_leaves, val_score: 0.339443:  75%|#######5  | 15/20 [1:21:49<25:24, 304.85s/it]"
     ]
    },
    {
     "name": "stdout",
     "output_type": "stream",
     "text": [
      "Early stopping, best iteration is:\n",
      "[1022]\tvalid_0's binary_logloss: 0.326396\tvalid_1's binary_logloss: 0.339742\n",
      "[LightGBM] [Info] Number of positive: 2634664, number of negative: 2634664\n",
      "[LightGBM] [Warning] Auto-choosing row-wise multi-threading, the overhead of testing was 0.458540 seconds.\n",
      "You can set `force_row_wise=true` to remove the overhead.\n",
      "And if memory is not enough, you can set `force_col_wise=true`.\n",
      "[LightGBM] [Info] Total Bins 11905\n",
      "[LightGBM] [Info] Number of data points in the train set: 5269328, number of used features: 55\n",
      "[LightGBM] [Info] [binary:BoostFromScore]: pavg=0.500000 -> initscore=0.000000\n",
      "Training until validation scores don't improve for 100 rounds\n",
      "[100]\tvalid_0's binary_logloss: 0.344528\tvalid_1's binary_logloss: 0.341617\n",
      "[200]\tvalid_0's binary_logloss: 0.340607\tvalid_1's binary_logloss: 0.340661\n",
      "[300]\tvalid_0's binary_logloss: 0.337644\tvalid_1's binary_logloss: 0.340368\n",
      "[400]\tvalid_0's binary_logloss: 0.334801\tvalid_1's binary_logloss: 0.339989\n",
      "[500]\tvalid_0's binary_logloss: 0.332354\tvalid_1's binary_logloss: 0.339855\n",
      "[600]\tvalid_0's binary_logloss: 0.3299\tvalid_1's binary_logloss: 0.339897\n"
     ]
    },
    {
     "name": "stderr",
     "output_type": "stream",
     "text": [
      "num_leaves, val_score: 0.339443:  80%|########  | 16/20 [1:24:45<17:45, 266.35s/it]\u001b[32m[I 2022-12-19 04:47:47,177]\u001b[0m Trial 22 finished with value: 0.3397864302361537 and parameters: {'num_leaves': 173}. Best is trial 20 with value: 0.3394427597847088.\u001b[0m\n",
      "num_leaves, val_score: 0.339443:  80%|########  | 16/20 [1:24:45<17:45, 266.35s/it]"
     ]
    },
    {
     "name": "stdout",
     "output_type": "stream",
     "text": [
      "Early stopping, best iteration is:\n",
      "[513]\tvalid_0's binary_logloss: 0.331926\tvalid_1's binary_logloss: 0.339786\n",
      "[LightGBM] [Info] Number of positive: 2634664, number of negative: 2634664\n",
      "[LightGBM] [Warning] Auto-choosing col-wise multi-threading, the overhead of testing was 0.673829 seconds.\n",
      "You can set `force_col_wise=true` to remove the overhead.\n",
      "[LightGBM] [Info] Total Bins 11905\n",
      "[LightGBM] [Info] Number of data points in the train set: 5269328, number of used features: 55\n",
      "[LightGBM] [Info] [binary:BoostFromScore]: pavg=0.500000 -> initscore=0.000000\n",
      "Training until validation scores don't improve for 100 rounds\n",
      "[100]\tvalid_0's binary_logloss: 0.349018\tvalid_1's binary_logloss: 0.344185\n",
      "[200]\tvalid_0's binary_logloss: 0.346414\tvalid_1's binary_logloss: 0.34253\n",
      "[300]\tvalid_0's binary_logloss: 0.34491\tvalid_1's binary_logloss: 0.341892\n",
      "[400]\tvalid_0's binary_logloss: 0.343608\tvalid_1's binary_logloss: 0.341422\n",
      "[500]\tvalid_0's binary_logloss: 0.342347\tvalid_1's binary_logloss: 0.340982\n",
      "[600]\tvalid_0's binary_logloss: 0.341205\tvalid_1's binary_logloss: 0.340669\n",
      "[700]\tvalid_0's binary_logloss: 0.34027\tvalid_1's binary_logloss: 0.340534\n",
      "[800]\tvalid_0's binary_logloss: 0.33928\tvalid_1's binary_logloss: 0.340394\n",
      "[900]\tvalid_0's binary_logloss: 0.338367\tvalid_1's binary_logloss: 0.340266\n",
      "[1000]\tvalid_0's binary_logloss: 0.337385\tvalid_1's binary_logloss: 0.340143\n",
      "[1100]\tvalid_0's binary_logloss: 0.336493\tvalid_1's binary_logloss: 0.340044\n",
      "[1200]\tvalid_0's binary_logloss: 0.335617\tvalid_1's binary_logloss: 0.339993\n",
      "[1300]\tvalid_0's binary_logloss: 0.334788\tvalid_1's binary_logloss: 0.339923\n",
      "[1400]\tvalid_0's binary_logloss: 0.333985\tvalid_1's binary_logloss: 0.339859\n",
      "[1500]\tvalid_0's binary_logloss: 0.333193\tvalid_1's binary_logloss: 0.339808\n",
      "[1600]\tvalid_0's binary_logloss: 0.332377\tvalid_1's binary_logloss: 0.339744\n",
      "[1700]\tvalid_0's binary_logloss: 0.33159\tvalid_1's binary_logloss: 0.339713\n",
      "[1800]\tvalid_0's binary_logloss: 0.330839\tvalid_1's binary_logloss: 0.339685\n",
      "[1900]\tvalid_0's binary_logloss: 0.330054\tvalid_1's binary_logloss: 0.339658\n",
      "[2000]\tvalid_0's binary_logloss: 0.329363\tvalid_1's binary_logloss: 0.339664\n"
     ]
    },
    {
     "name": "stderr",
     "output_type": "stream",
     "text": [
      "num_leaves, val_score: 0.339443:  85%|########5 | 17/20 [1:30:46<14:44, 294.71s/it]\u001b[32m[I 2022-12-19 04:53:47,854]\u001b[0m Trial 23 finished with value: 0.339637342723986 and parameters: {'num_leaves': 53}. Best is trial 20 with value: 0.3394427597847088.\u001b[0m\n",
      "num_leaves, val_score: 0.339443:  85%|########5 | 17/20 [1:30:46<14:44, 294.71s/it]"
     ]
    },
    {
     "name": "stdout",
     "output_type": "stream",
     "text": [
      "Early stopping, best iteration is:\n",
      "[1928]\tvalid_0's binary_logloss: 0.329847\tvalid_1's binary_logloss: 0.339637\n",
      "[LightGBM] [Info] Number of positive: 2634664, number of negative: 2634664\n",
      "[LightGBM] [Warning] Auto-choosing col-wise multi-threading, the overhead of testing was 0.655295 seconds.\n",
      "You can set `force_col_wise=true` to remove the overhead.\n",
      "[LightGBM] [Info] Total Bins 11905\n",
      "[LightGBM] [Info] Number of data points in the train set: 5269328, number of used features: 55\n",
      "[LightGBM] [Info] [binary:BoostFromScore]: pavg=0.500000 -> initscore=0.000000\n",
      "Training until validation scores don't improve for 100 rounds\n",
      "[100]\tvalid_0's binary_logloss: 0.346987\tvalid_1's binary_logloss: 0.342719\n",
      "[200]\tvalid_0's binary_logloss: 0.344128\tvalid_1's binary_logloss: 0.341561\n",
      "[300]\tvalid_0's binary_logloss: 0.342021\tvalid_1's binary_logloss: 0.341\n",
      "[400]\tvalid_0's binary_logloss: 0.340173\tvalid_1's binary_logloss: 0.340562\n",
      "[500]\tvalid_0's binary_logloss: 0.338505\tvalid_1's binary_logloss: 0.340329\n",
      "[600]\tvalid_0's binary_logloss: 0.336956\tvalid_1's binary_logloss: 0.340188\n",
      "[700]\tvalid_0's binary_logloss: 0.335491\tvalid_1's binary_logloss: 0.340111\n",
      "[800]\tvalid_0's binary_logloss: 0.334038\tvalid_1's binary_logloss: 0.339991\n",
      "[900]\tvalid_0's binary_logloss: 0.332657\tvalid_1's binary_logloss: 0.339938\n",
      "[1000]\tvalid_0's binary_logloss: 0.331334\tvalid_1's binary_logloss: 0.339864\n",
      "[1100]\tvalid_0's binary_logloss: 0.329932\tvalid_1's binary_logloss: 0.339759\n",
      "[1200]\tvalid_0's binary_logloss: 0.328581\tvalid_1's binary_logloss: 0.339682\n",
      "[1300]\tvalid_0's binary_logloss: 0.327374\tvalid_1's binary_logloss: 0.339685\n",
      "[1400]\tvalid_0's binary_logloss: 0.326128\tvalid_1's binary_logloss: 0.339654\n",
      "[1500]\tvalid_0's binary_logloss: 0.324905\tvalid_1's binary_logloss: 0.339622\n"
     ]
    },
    {
     "name": "stderr",
     "output_type": "stream",
     "text": [
      "num_leaves, val_score: 0.339443:  90%|######### | 18/20 [1:36:24<10:15, 307.75s/it]\u001b[32m[I 2022-12-19 04:59:25,955]\u001b[0m Trial 24 finished with value: 0.33962213145799436 and parameters: {'num_leaves': 93}. Best is trial 20 with value: 0.3394427597847088.\u001b[0m\n",
      "num_leaves, val_score: 0.339443:  90%|######### | 18/20 [1:36:24<10:15, 307.75s/it]"
     ]
    },
    {
     "name": "stdout",
     "output_type": "stream",
     "text": [
      "[1600]\tvalid_0's binary_logloss: 0.323762\tvalid_1's binary_logloss: 0.339661\n",
      "Early stopping, best iteration is:\n",
      "[1500]\tvalid_0's binary_logloss: 0.324905\tvalid_1's binary_logloss: 0.339622\n",
      "[LightGBM] [Info] Number of positive: 2634664, number of negative: 2634664\n",
      "[LightGBM] [Warning] Auto-choosing col-wise multi-threading, the overhead of testing was 0.666012 seconds.\n",
      "You can set `force_col_wise=true` to remove the overhead.\n",
      "[LightGBM] [Info] Total Bins 11905\n",
      "[LightGBM] [Info] Number of data points in the train set: 5269328, number of used features: 55\n",
      "[LightGBM] [Info] [binary:BoostFromScore]: pavg=0.500000 -> initscore=0.000000\n",
      "Training until validation scores don't improve for 100 rounds\n",
      "[100]\tvalid_0's binary_logloss: 0.344955\tvalid_1's binary_logloss: 0.341784\n",
      "[200]\tvalid_0's binary_logloss: 0.341297\tvalid_1's binary_logloss: 0.340849\n",
      "[300]\tvalid_0's binary_logloss: 0.338402\tvalid_1's binary_logloss: 0.34028\n",
      "[400]\tvalid_0's binary_logloss: 0.335851\tvalid_1's binary_logloss: 0.340048\n",
      "[500]\tvalid_0's binary_logloss: 0.333673\tvalid_1's binary_logloss: 0.340102\n",
      "[600]\tvalid_0's binary_logloss: 0.331306\tvalid_1's binary_logloss: 0.339818\n",
      "[700]\tvalid_0's binary_logloss: 0.329134\tvalid_1's binary_logloss: 0.339712\n",
      "[800]\tvalid_0's binary_logloss: 0.326956\tvalid_1's binary_logloss: 0.339676\n",
      "[900]\tvalid_0's binary_logloss: 0.324927\tvalid_1's binary_logloss: 0.339711\n"
     ]
    },
    {
     "name": "stderr",
     "output_type": "stream",
     "text": [
      "num_leaves, val_score: 0.339443:  95%|#########5| 19/20 [1:40:36<04:51, 291.03s/it]\u001b[32m[I 2022-12-19 05:03:38,039]\u001b[0m Trial 25 finished with value: 0.33965894434579963 and parameters: {'num_leaves': 156}. Best is trial 20 with value: 0.3394427597847088.\u001b[0m\n",
      "num_leaves, val_score: 0.339443:  95%|#########5| 19/20 [1:40:36<04:51, 291.03s/it]"
     ]
    },
    {
     "name": "stdout",
     "output_type": "stream",
     "text": [
      "Early stopping, best iteration is:\n",
      "[812]\tvalid_0's binary_logloss: 0.326684\tvalid_1's binary_logloss: 0.339659\n",
      "[LightGBM] [Info] Number of positive: 2634664, number of negative: 2634664\n",
      "[LightGBM] [Warning] Auto-choosing row-wise multi-threading, the overhead of testing was 0.393818 seconds.\n",
      "You can set `force_row_wise=true` to remove the overhead.\n",
      "And if memory is not enough, you can set `force_col_wise=true`.\n",
      "[LightGBM] [Info] Total Bins 11905\n",
      "[LightGBM] [Info] Number of data points in the train set: 5269328, number of used features: 55\n",
      "[LightGBM] [Info] [binary:BoostFromScore]: pavg=0.500000 -> initscore=0.000000\n",
      "Training until validation scores don't improve for 100 rounds\n",
      "[100]\tvalid_0's binary_logloss: 0.349239\tvalid_1's binary_logloss: 0.344325\n",
      "[200]\tvalid_0's binary_logloss: 0.346711\tvalid_1's binary_logloss: 0.342652\n",
      "[300]\tvalid_0's binary_logloss: 0.345039\tvalid_1's binary_logloss: 0.341778\n",
      "[400]\tvalid_0's binary_logloss: 0.343785\tvalid_1's binary_logloss: 0.341326\n",
      "[500]\tvalid_0's binary_logloss: 0.342681\tvalid_1's binary_logloss: 0.34102\n",
      "[600]\tvalid_0's binary_logloss: 0.3416\tvalid_1's binary_logloss: 0.340706\n",
      "[700]\tvalid_0's binary_logloss: 0.340626\tvalid_1's binary_logloss: 0.340524\n",
      "[800]\tvalid_0's binary_logloss: 0.339622\tvalid_1's binary_logloss: 0.340279\n",
      "[900]\tvalid_0's binary_logloss: 0.33868\tvalid_1's binary_logloss: 0.340143\n",
      "[1000]\tvalid_0's binary_logloss: 0.337773\tvalid_1's binary_logloss: 0.340046\n",
      "[1100]\tvalid_0's binary_logloss: 0.336962\tvalid_1's binary_logloss: 0.340017\n",
      "[1200]\tvalid_0's binary_logloss: 0.336092\tvalid_1's binary_logloss: 0.339919\n",
      "[1300]\tvalid_0's binary_logloss: 0.335309\tvalid_1's binary_logloss: 0.339855\n",
      "[1400]\tvalid_0's binary_logloss: 0.334561\tvalid_1's binary_logloss: 0.339784\n",
      "[1500]\tvalid_0's binary_logloss: 0.333863\tvalid_1's binary_logloss: 0.339726\n",
      "[1600]\tvalid_0's binary_logloss: 0.333109\tvalid_1's binary_logloss: 0.339671\n",
      "[1700]\tvalid_0's binary_logloss: 0.332383\tvalid_1's binary_logloss: 0.339664\n"
     ]
    },
    {
     "name": "stderr",
     "output_type": "stream",
     "text": [
      "num_leaves, val_score: 0.339443: 100%|##########| 20/20 [1:45:54<00:00, 299.17s/it]\u001b[32m[I 2022-12-19 05:08:56,188]\u001b[0m Trial 26 finished with value: 0.33964646865305304 and parameters: {'num_leaves': 50}. Best is trial 20 with value: 0.3394427597847088.\u001b[0m\n",
      "num_leaves, val_score: 0.339443: 100%|##########| 20/20 [1:45:54<00:00, 317.75s/it]\n"
     ]
    },
    {
     "name": "stdout",
     "output_type": "stream",
     "text": [
      "Early stopping, best iteration is:\n",
      "[1665]\tvalid_0's binary_logloss: 0.332604\tvalid_1's binary_logloss: 0.339646\n"
     ]
    },
    {
     "name": "stderr",
     "output_type": "stream",
     "text": [
      "bagging, val_score: 0.339443:   0%|          | 0/10 [00:00<?, ?it/s]"
     ]
    },
    {
     "name": "stdout",
     "output_type": "stream",
     "text": [
      "[LightGBM] [Info] Number of positive: 2634664, number of negative: 2634664\n",
      "[LightGBM] [Warning] Auto-choosing row-wise multi-threading, the overhead of testing was 0.460735 seconds.\n",
      "You can set `force_row_wise=true` to remove the overhead.\n",
      "And if memory is not enough, you can set `force_col_wise=true`.\n",
      "[LightGBM] [Info] Total Bins 11905\n",
      "[LightGBM] [Info] Number of data points in the train set: 5269328, number of used features: 55\n",
      "[LightGBM] [Info] [binary:BoostFromScore]: pavg=0.500000 -> initscore=0.000000\n",
      "Training until validation scores don't improve for 100 rounds\n",
      "[100]\tvalid_0's binary_logloss: 0.348292\tvalid_1's binary_logloss: 0.343756\n",
      "[200]\tvalid_0's binary_logloss: 0.345691\tvalid_1's binary_logloss: 0.342186\n",
      "[300]\tvalid_0's binary_logloss: 0.343813\tvalid_1's binary_logloss: 0.341796\n",
      "[400]\tvalid_0's binary_logloss: 0.342417\tvalid_1's binary_logloss: 0.341186\n",
      "[500]\tvalid_0's binary_logloss: 0.341083\tvalid_1's binary_logloss: 0.340944\n",
      "[600]\tvalid_0's binary_logloss: 0.339854\tvalid_1's binary_logloss: 0.340946\n"
     ]
    },
    {
     "name": "stderr",
     "output_type": "stream",
     "text": [
      "bagging, val_score: 0.339443:  10%|#         | 1/10 [02:31<22:44, 151.58s/it]\u001b[32m[I 2022-12-19 05:11:27,780]\u001b[0m Trial 27 finished with value: 0.34050953096253794 and parameters: {'bagging_fraction': 0.5673044774367639, 'bagging_freq': 5}. Best is trial 27 with value: 0.34050953096253794.\u001b[0m\n",
      "bagging, val_score: 0.339443:  10%|#         | 1/10 [02:31<22:44, 151.58s/it]"
     ]
    },
    {
     "name": "stdout",
     "output_type": "stream",
     "text": [
      "Early stopping, best iteration is:\n",
      "[560]\tvalid_0's binary_logloss: 0.340343\tvalid_1's binary_logloss: 0.34051\n",
      "[LightGBM] [Info] Number of positive: 2634664, number of negative: 2634664\n",
      "[LightGBM] [Warning] Auto-choosing row-wise multi-threading, the overhead of testing was 0.400092 seconds.\n",
      "You can set `force_row_wise=true` to remove the overhead.\n",
      "And if memory is not enough, you can set `force_col_wise=true`.\n",
      "[LightGBM] [Info] Total Bins 11905\n",
      "[LightGBM] [Info] Number of data points in the train set: 5269328, number of used features: 55\n",
      "[LightGBM] [Info] [binary:BoostFromScore]: pavg=0.500000 -> initscore=0.000000\n",
      "Training until validation scores don't improve for 100 rounds\n",
      "[100]\tvalid_0's binary_logloss: 0.348215\tvalid_1's binary_logloss: 0.343633\n",
      "[200]\tvalid_0's binary_logloss: 0.345441\tvalid_1's binary_logloss: 0.342001\n",
      "[300]\tvalid_0's binary_logloss: 0.34376\tvalid_1's binary_logloss: 0.341381\n",
      "[400]\tvalid_0's binary_logloss: 0.342268\tvalid_1's binary_logloss: 0.340963\n",
      "[500]\tvalid_0's binary_logloss: 0.340958\tvalid_1's binary_logloss: 0.340652\n",
      "[600]\tvalid_0's binary_logloss: 0.339599\tvalid_1's binary_logloss: 0.340338\n",
      "[700]\tvalid_0's binary_logloss: 0.338397\tvalid_1's binary_logloss: 0.340222\n",
      "[800]\tvalid_0's binary_logloss: 0.337235\tvalid_1's binary_logloss: 0.340026\n",
      "[900]\tvalid_0's binary_logloss: 0.336153\tvalid_1's binary_logloss: 0.339957\n",
      "[1000]\tvalid_0's binary_logloss: 0.335142\tvalid_1's binary_logloss: 0.339926\n",
      "[1100]\tvalid_0's binary_logloss: 0.334113\tvalid_1's binary_logloss: 0.339841\n",
      "[1200]\tvalid_0's binary_logloss: 0.33316\tvalid_1's binary_logloss: 0.339775\n",
      "[1300]\tvalid_0's binary_logloss: 0.332129\tvalid_1's binary_logloss: 0.339734\n",
      "[1400]\tvalid_0's binary_logloss: 0.331136\tvalid_1's binary_logloss: 0.339678\n",
      "[1500]\tvalid_0's binary_logloss: 0.330199\tvalid_1's binary_logloss: 0.339652\n",
      "[1600]\tvalid_0's binary_logloss: 0.329295\tvalid_1's binary_logloss: 0.339614\n",
      "[1700]\tvalid_0's binary_logloss: 0.3284\tvalid_1's binary_logloss: 0.33961\n",
      "[1800]\tvalid_0's binary_logloss: 0.327535\tvalid_1's binary_logloss: 0.33958\n",
      "[1900]\tvalid_0's binary_logloss: 0.326611\tvalid_1's binary_logloss: 0.339549\n",
      "[2000]\tvalid_0's binary_logloss: 0.32575\tvalid_1's binary_logloss: 0.339543\n",
      "[2100]\tvalid_0's binary_logloss: 0.324925\tvalid_1's binary_logloss: 0.339536\n"
     ]
    },
    {
     "name": "stderr",
     "output_type": "stream",
     "text": [
      "bagging, val_score: 0.339443:  20%|##        | 2/10 [09:06<39:19, 294.91s/it]\u001b[32m[I 2022-12-19 05:18:03,023]\u001b[0m Trial 28 finished with value: 0.33952939412484573 and parameters: {'bagging_fraction': 0.9976832904743648, 'bagging_freq': 1}. Best is trial 28 with value: 0.33952939412484573.\u001b[0m\n",
      "bagging, val_score: 0.339443:  20%|##        | 2/10 [09:06<39:19, 294.91s/it]"
     ]
    },
    {
     "name": "stdout",
     "output_type": "stream",
     "text": [
      "Early stopping, best iteration is:\n",
      "[2066]\tvalid_0's binary_logloss: 0.325186\tvalid_1's binary_logloss: 0.339529\n",
      "[LightGBM] [Info] Number of positive: 2634664, number of negative: 2634664\n",
      "[LightGBM] [Warning] Auto-choosing row-wise multi-threading, the overhead of testing was 0.436558 seconds.\n",
      "You can set `force_row_wise=true` to remove the overhead.\n",
      "And if memory is not enough, you can set `force_col_wise=true`.\n",
      "[LightGBM] [Info] Total Bins 11905\n",
      "[LightGBM] [Info] Number of data points in the train set: 5269328, number of used features: 55\n",
      "[LightGBM] [Info] [binary:BoostFromScore]: pavg=0.500000 -> initscore=0.000000\n",
      "Training until validation scores don't improve for 100 rounds\n",
      "[100]\tvalid_0's binary_logloss: 0.348378\tvalid_1's binary_logloss: 0.34393\n",
      "[200]\tvalid_0's binary_logloss: 0.345716\tvalid_1's binary_logloss: 0.342271\n",
      "[300]\tvalid_0's binary_logloss: 0.343926\tvalid_1's binary_logloss: 0.34161\n",
      "[400]\tvalid_0's binary_logloss: 0.342445\tvalid_1's binary_logloss: 0.341361\n"
     ]
    },
    {
     "name": "stderr",
     "output_type": "stream",
     "text": [
      "bagging, val_score: 0.339443:  30%|###       | 3/10 [10:33<23:18, 199.73s/it]\u001b[32m[I 2022-12-19 05:19:29,478]\u001b[0m Trial 29 finished with value: 0.3412000780396713 and parameters: {'bagging_fraction': 0.41371126905338695, 'bagging_freq': 3}. Best is trial 28 with value: 0.33952939412484573.\u001b[0m\n",
      "bagging, val_score: 0.339443:  30%|###       | 3/10 [10:33<23:18, 199.73s/it]"
     ]
    },
    {
     "name": "stdout",
     "output_type": "stream",
     "text": [
      "Early stopping, best iteration is:\n",
      "[336]\tvalid_0's binary_logloss: 0.343374\tvalid_1's binary_logloss: 0.3412\n",
      "[LightGBM] [Info] Number of positive: 2634664, number of negative: 2634664\n",
      "[LightGBM] [Warning] Auto-choosing row-wise multi-threading, the overhead of testing was 0.408758 seconds.\n",
      "You can set `force_row_wise=true` to remove the overhead.\n",
      "And if memory is not enough, you can set `force_col_wise=true`.\n",
      "[LightGBM] [Info] Total Bins 11905\n",
      "[LightGBM] [Info] Number of data points in the train set: 5269328, number of used features: 55\n",
      "[LightGBM] [Info] [binary:BoostFromScore]: pavg=0.500000 -> initscore=0.000000\n",
      "Training until validation scores don't improve for 100 rounds\n",
      "[100]\tvalid_0's binary_logloss: 0.348243\tvalid_1's binary_logloss: 0.343602\n",
      "[200]\tvalid_0's binary_logloss: 0.345535\tvalid_1's binary_logloss: 0.341994\n",
      "[300]\tvalid_0's binary_logloss: 0.343779\tvalid_1's binary_logloss: 0.341402\n",
      "[400]\tvalid_0's binary_logloss: 0.342238\tvalid_1's binary_logloss: 0.340955\n",
      "[500]\tvalid_0's binary_logloss: 0.34085\tvalid_1's binary_logloss: 0.340628\n",
      "[600]\tvalid_0's binary_logloss: 0.339658\tvalid_1's binary_logloss: 0.340407\n",
      "[700]\tvalid_0's binary_logloss: 0.338436\tvalid_1's binary_logloss: 0.34024\n",
      "[800]\tvalid_0's binary_logloss: 0.337286\tvalid_1's binary_logloss: 0.340128\n",
      "[900]\tvalid_0's binary_logloss: 0.336134\tvalid_1's binary_logloss: 0.340066\n",
      "[1000]\tvalid_0's binary_logloss: 0.335051\tvalid_1's binary_logloss: 0.340015\n",
      "[1100]\tvalid_0's binary_logloss: 0.334071\tvalid_1's binary_logloss: 0.34003\n",
      "[1200]\tvalid_0's binary_logloss: 0.33302\tvalid_1's binary_logloss: 0.339901\n"
     ]
    },
    {
     "name": "stderr",
     "output_type": "stream",
     "text": [
      "bagging, val_score: 0.339443:  40%|####      | 4/10 [15:15<23:14, 232.36s/it]\u001b[32m[I 2022-12-19 05:24:11,871]\u001b[0m Trial 30 finished with value: 0.33981162510324375 and parameters: {'bagging_fraction': 0.8145286927669058, 'bagging_freq': 2}. Best is trial 28 with value: 0.33952939412484573.\u001b[0m\n",
      "bagging, val_score: 0.339443:  40%|####      | 4/10 [15:15<23:14, 232.36s/it]"
     ]
    },
    {
     "name": "stdout",
     "output_type": "stream",
     "text": [
      "Early stopping, best iteration is:\n",
      "[1172]\tvalid_0's binary_logloss: 0.333311\tvalid_1's binary_logloss: 0.339812\n",
      "[LightGBM] [Info] Number of positive: 2634664, number of negative: 2634664\n",
      "[LightGBM] [Warning] Auto-choosing row-wise multi-threading, the overhead of testing was 0.400978 seconds.\n",
      "You can set `force_row_wise=true` to remove the overhead.\n",
      "And if memory is not enough, you can set `force_col_wise=true`.\n",
      "[LightGBM] [Info] Total Bins 11905\n",
      "[LightGBM] [Info] Number of data points in the train set: 5269328, number of used features: 55\n",
      "[LightGBM] [Info] [binary:BoostFromScore]: pavg=0.500000 -> initscore=0.000000\n",
      "Training until validation scores don't improve for 100 rounds\n",
      "[100]\tvalid_0's binary_logloss: 0.348192\tvalid_1's binary_logloss: 0.343601\n",
      "[200]\tvalid_0's binary_logloss: 0.345529\tvalid_1's binary_logloss: 0.342118\n",
      "[300]\tvalid_0's binary_logloss: 0.3438\tvalid_1's binary_logloss: 0.341402\n",
      "[400]\tvalid_0's binary_logloss: 0.342256\tvalid_1's binary_logloss: 0.340962\n",
      "[500]\tvalid_0's binary_logloss: 0.340861\tvalid_1's binary_logloss: 0.340587\n",
      "[600]\tvalid_0's binary_logloss: 0.339573\tvalid_1's binary_logloss: 0.340429\n",
      "[700]\tvalid_0's binary_logloss: 0.338383\tvalid_1's binary_logloss: 0.340197\n",
      "[800]\tvalid_0's binary_logloss: 0.337228\tvalid_1's binary_logloss: 0.340182\n"
     ]
    },
    {
     "name": "stderr",
     "output_type": "stream",
     "text": [
      "bagging, val_score: 0.339443:  50%|#####     | 5/10 [18:23<18:01, 216.21s/it]\u001b[32m[I 2022-12-19 05:27:19,446]\u001b[0m Trial 31 finished with value: 0.3399377838443976 and parameters: {'bagging_fraction': 0.7767784086116941, 'bagging_freq': 3}. Best is trial 28 with value: 0.33952939412484573.\u001b[0m\n",
      "bagging, val_score: 0.339443:  50%|#####     | 5/10 [18:23<18:01, 216.21s/it]"
     ]
    },
    {
     "name": "stdout",
     "output_type": "stream",
     "text": [
      "Early stopping, best iteration is:\n",
      "[771]\tvalid_0's binary_logloss: 0.337566\tvalid_1's binary_logloss: 0.339938\n",
      "[LightGBM] [Info] Number of positive: 2634664, number of negative: 2634664\n",
      "[LightGBM] [Warning] Auto-choosing row-wise multi-threading, the overhead of testing was 0.395918 seconds.\n",
      "You can set `force_row_wise=true` to remove the overhead.\n",
      "And if memory is not enough, you can set `force_col_wise=true`.\n",
      "[LightGBM] [Info] Total Bins 11905\n",
      "[LightGBM] [Info] Number of data points in the train set: 5269328, number of used features: 55\n",
      "[LightGBM] [Info] [binary:BoostFromScore]: pavg=0.500000 -> initscore=0.000000\n",
      "Training until validation scores don't improve for 100 rounds\n",
      "[100]\tvalid_0's binary_logloss: 0.348407\tvalid_1's binary_logloss: 0.343899\n",
      "[200]\tvalid_0's binary_logloss: 0.345664\tvalid_1's binary_logloss: 0.342272\n",
      "[300]\tvalid_0's binary_logloss: 0.343871\tvalid_1's binary_logloss: 0.341642\n",
      "[400]\tvalid_0's binary_logloss: 0.342416\tvalid_1's binary_logloss: 0.341294\n"
     ]
    },
    {
     "name": "stderr",
     "output_type": "stream",
     "text": [
      "bagging, val_score: 0.339443:  60%|######    | 6/10 [20:08<11:54, 178.54s/it]\u001b[32m[I 2022-12-19 05:29:04,850]\u001b[0m Trial 32 finished with value: 0.3411312946234757 and parameters: {'bagging_fraction': 0.4375123215310209, 'bagging_freq': 3}. Best is trial 28 with value: 0.33952939412484573.\u001b[0m\n",
      "bagging, val_score: 0.339443:  60%|######    | 6/10 [20:08<11:54, 178.54s/it]"
     ]
    },
    {
     "name": "stdout",
     "output_type": "stream",
     "text": [
      "Early stopping, best iteration is:\n",
      "[336]\tvalid_0's binary_logloss: 0.343328\tvalid_1's binary_logloss: 0.341131\n",
      "[LightGBM] [Info] Number of positive: 2634664, number of negative: 2634664\n",
      "[LightGBM] [Warning] Auto-choosing row-wise multi-threading, the overhead of testing was 0.417199 seconds.\n",
      "You can set `force_row_wise=true` to remove the overhead.\n",
      "And if memory is not enough, you can set `force_col_wise=true`.\n",
      "[LightGBM] [Info] Total Bins 11905\n",
      "[LightGBM] [Info] Number of data points in the train set: 5269328, number of used features: 55\n",
      "[LightGBM] [Info] [binary:BoostFromScore]: pavg=0.500000 -> initscore=0.000000\n",
      "Training until validation scores don't improve for 100 rounds\n",
      "[100]\tvalid_0's binary_logloss: 0.348222\tvalid_1's binary_logloss: 0.343585\n",
      "[200]\tvalid_0's binary_logloss: 0.345414\tvalid_1's binary_logloss: 0.341909\n",
      "[300]\tvalid_0's binary_logloss: 0.343687\tvalid_1's binary_logloss: 0.341388\n",
      "[400]\tvalid_0's binary_logloss: 0.342221\tvalid_1's binary_logloss: 0.34099\n",
      "[500]\tvalid_0's binary_logloss: 0.340904\tvalid_1's binary_logloss: 0.340714\n",
      "[600]\tvalid_0's binary_logloss: 0.339651\tvalid_1's binary_logloss: 0.340404\n",
      "[700]\tvalid_0's binary_logloss: 0.338491\tvalid_1's binary_logloss: 0.340276\n"
     ]
    },
    {
     "name": "stderr",
     "output_type": "stream",
     "text": [
      "bagging, val_score: 0.339443:  70%|#######   | 7/10 [23:03<08:52, 177.48s/it]\u001b[32m[I 2022-12-19 05:32:00,170]\u001b[0m Trial 33 finished with value: 0.3402384939310923 and parameters: {'bagging_fraction': 0.701239240989264, 'bagging_freq': 2}. Best is trial 28 with value: 0.33952939412484573.\u001b[0m\n",
      "bagging, val_score: 0.339443:  70%|#######   | 7/10 [23:03<08:52, 177.48s/it]"
     ]
    },
    {
     "name": "stdout",
     "output_type": "stream",
     "text": [
      "Early stopping, best iteration is:\n",
      "[668]\tvalid_0's binary_logloss: 0.338858\tvalid_1's binary_logloss: 0.340238\n",
      "[LightGBM] [Info] Number of positive: 2634664, number of negative: 2634664\n",
      "[LightGBM] [Warning] Auto-choosing col-wise multi-threading, the overhead of testing was 0.738037 seconds.\n",
      "You can set `force_col_wise=true` to remove the overhead.\n",
      "[LightGBM] [Info] Total Bins 11905\n",
      "[LightGBM] [Info] Number of data points in the train set: 5269328, number of used features: 55\n",
      "[LightGBM] [Info] [binary:BoostFromScore]: pavg=0.500000 -> initscore=0.000000\n",
      "Training until validation scores don't improve for 100 rounds\n",
      "[100]\tvalid_0's binary_logloss: 0.34822\tvalid_1's binary_logloss: 0.343615\n",
      "[200]\tvalid_0's binary_logloss: 0.345473\tvalid_1's binary_logloss: 0.342094\n",
      "[300]\tvalid_0's binary_logloss: 0.343712\tvalid_1's binary_logloss: 0.341404\n",
      "[400]\tvalid_0's binary_logloss: 0.342194\tvalid_1's binary_logloss: 0.340967\n",
      "[500]\tvalid_0's binary_logloss: 0.3409\tvalid_1's binary_logloss: 0.340866\n",
      "[600]\tvalid_0's binary_logloss: 0.339659\tvalid_1's binary_logloss: 0.340735\n",
      "[700]\tvalid_0's binary_logloss: 0.338475\tvalid_1's binary_logloss: 0.340484\n",
      "[800]\tvalid_0's binary_logloss: 0.337348\tvalid_1's binary_logloss: 0.340559\n"
     ]
    },
    {
     "name": "stderr",
     "output_type": "stream",
     "text": [
      "bagging, val_score: 0.339443:  80%|########  | 8/10 [26:05<05:57, 178.90s/it]\u001b[32m[I 2022-12-19 05:35:02,099]\u001b[0m Trial 34 finished with value: 0.3402564645487056 and parameters: {'bagging_fraction': 0.7193043601779832, 'bagging_freq': 3}. Best is trial 28 with value: 0.33952939412484573.\u001b[0m\n",
      "bagging, val_score: 0.339443:  80%|########  | 8/10 [26:05<05:57, 178.90s/it]"
     ]
    },
    {
     "name": "stdout",
     "output_type": "stream",
     "text": [
      "Early stopping, best iteration is:\n",
      "[771]\tvalid_0's binary_logloss: 0.337686\tvalid_1's binary_logloss: 0.340256\n",
      "[LightGBM] [Info] Number of positive: 2634664, number of negative: 2634664\n",
      "[LightGBM] [Warning] Auto-choosing row-wise multi-threading, the overhead of testing was 0.482692 seconds.\n",
      "You can set `force_row_wise=true` to remove the overhead.\n",
      "And if memory is not enough, you can set `force_col_wise=true`.\n",
      "[LightGBM] [Info] Total Bins 11905\n",
      "[LightGBM] [Info] Number of data points in the train set: 5269328, number of used features: 55\n",
      "[LightGBM] [Info] [binary:BoostFromScore]: pavg=0.500000 -> initscore=0.000000\n",
      "Training until validation scores don't improve for 100 rounds\n",
      "[100]\tvalid_0's binary_logloss: 0.348229\tvalid_1's binary_logloss: 0.34366\n",
      "[200]\tvalid_0's binary_logloss: 0.345494\tvalid_1's binary_logloss: 0.342164\n",
      "[300]\tvalid_0's binary_logloss: 0.343738\tvalid_1's binary_logloss: 0.341394\n",
      "[400]\tvalid_0's binary_logloss: 0.342328\tvalid_1's binary_logloss: 0.34104\n",
      "[500]\tvalid_0's binary_logloss: 0.340972\tvalid_1's binary_logloss: 0.340857\n",
      "[600]\tvalid_0's binary_logloss: 0.339744\tvalid_1's binary_logloss: 0.340664\n",
      "[700]\tvalid_0's binary_logloss: 0.33858\tvalid_1's binary_logloss: 0.340522\n",
      "[800]\tvalid_0's binary_logloss: 0.337419\tvalid_1's binary_logloss: 0.34056\n",
      "[900]\tvalid_0's binary_logloss: 0.336298\tvalid_1's binary_logloss: 0.34019\n",
      "[1000]\tvalid_0's binary_logloss: 0.335257\tvalid_1's binary_logloss: 0.340074\n"
     ]
    },
    {
     "name": "stderr",
     "output_type": "stream",
     "text": [
      "bagging, val_score: 0.339443:  90%|######### | 9/10 [29:52<03:13, 193.81s/it]\u001b[32m[I 2022-12-19 05:38:48,692]\u001b[0m Trial 35 finished with value: 0.34004288113807246 and parameters: {'bagging_fraction': 0.7121403388262548, 'bagging_freq': 3}. Best is trial 28 with value: 0.33952939412484573.\u001b[0m\n",
      "bagging, val_score: 0.339443:  90%|######### | 9/10 [29:52<03:13, 193.81s/it]"
     ]
    },
    {
     "name": "stdout",
     "output_type": "stream",
     "text": [
      "Early stopping, best iteration is:\n",
      "[996]\tvalid_0's binary_logloss: 0.335297\tvalid_1's binary_logloss: 0.340043\n",
      "[LightGBM] [Info] Number of positive: 2634664, number of negative: 2634664\n",
      "[LightGBM] [Warning] Auto-choosing col-wise multi-threading, the overhead of testing was 0.677363 seconds.\n",
      "You can set `force_col_wise=true` to remove the overhead.\n",
      "[LightGBM] [Info] Total Bins 11905\n",
      "[LightGBM] [Info] Number of data points in the train set: 5269328, number of used features: 55\n",
      "[LightGBM] [Info] [binary:BoostFromScore]: pavg=0.500000 -> initscore=0.000000\n",
      "Training until validation scores don't improve for 100 rounds\n",
      "[100]\tvalid_0's binary_logloss: 0.348282\tvalid_1's binary_logloss: 0.34375\n",
      "[200]\tvalid_0's binary_logloss: 0.345569\tvalid_1's binary_logloss: 0.342253\n",
      "[300]\tvalid_0's binary_logloss: 0.343955\tvalid_1's binary_logloss: 0.341738\n",
      "[400]\tvalid_0's binary_logloss: 0.342369\tvalid_1's binary_logloss: 0.341258\n",
      "[500]\tvalid_0's binary_logloss: 0.34102\tvalid_1's binary_logloss: 0.340862\n",
      "[600]\tvalid_0's binary_logloss: 0.339802\tvalid_1's binary_logloss: 0.340661\n",
      "[700]\tvalid_0's binary_logloss: 0.338691\tvalid_1's binary_logloss: 0.340424\n",
      "[800]\tvalid_0's binary_logloss: 0.337534\tvalid_1's binary_logloss: 0.340415\n",
      "[900]\tvalid_0's binary_logloss: 0.336434\tvalid_1's binary_logloss: 0.34038\n",
      "[1000]\tvalid_0's binary_logloss: 0.335394\tvalid_1's binary_logloss: 0.34032\n",
      "[1100]\tvalid_0's binary_logloss: 0.33436\tvalid_1's binary_logloss: 0.340305\n",
      "[1200]\tvalid_0's binary_logloss: 0.333322\tvalid_1's binary_logloss: 0.340344\n",
      "[1300]\tvalid_0's binary_logloss: 0.332343\tvalid_1's binary_logloss: 0.340175\n"
     ]
    },
    {
     "name": "stderr",
     "output_type": "stream",
     "text": [
      "bagging, val_score: 0.339443: 100%|##########| 10/10 [33:56<00:00, 209.21s/it]\u001b[32m[I 2022-12-19 05:42:52,398]\u001b[0m Trial 36 finished with value: 0.3400041210260805 and parameters: {'bagging_fraction': 0.7539773536141432, 'bagging_freq': 6}. Best is trial 28 with value: 0.33952939412484573.\u001b[0m\n",
      "bagging, val_score: 0.339443: 100%|##########| 10/10 [33:56<00:00, 203.62s/it]\n"
     ]
    },
    {
     "name": "stdout",
     "output_type": "stream",
     "text": [
      "Early stopping, best iteration is:\n",
      "[1248]\tvalid_0's binary_logloss: 0.332842\tvalid_1's binary_logloss: 0.340004\n"
     ]
    },
    {
     "name": "stderr",
     "output_type": "stream",
     "text": [
      "feature_fraction_stage2, val_score: 0.339443:   0%|          | 0/6 [00:00<?, ?it/s]"
     ]
    },
    {
     "name": "stdout",
     "output_type": "stream",
     "text": [
      "[LightGBM] [Info] Number of positive: 2634664, number of negative: 2634664\n",
      "[LightGBM] [Warning] Auto-choosing row-wise multi-threading, the overhead of testing was 0.433522 seconds.\n",
      "You can set `force_row_wise=true` to remove the overhead.\n",
      "And if memory is not enough, you can set `force_col_wise=true`.\n",
      "[LightGBM] [Info] Total Bins 11905\n",
      "[LightGBM] [Info] Number of data points in the train set: 5269328, number of used features: 55\n",
      "[LightGBM] [Info] [binary:BoostFromScore]: pavg=0.500000 -> initscore=0.000000\n",
      "Training until validation scores don't improve for 100 rounds\n",
      "[100]\tvalid_0's binary_logloss: 0.348169\tvalid_1's binary_logloss: 0.343572\n",
      "[200]\tvalid_0's binary_logloss: 0.345531\tvalid_1's binary_logloss: 0.342017\n",
      "[300]\tvalid_0's binary_logloss: 0.343712\tvalid_1's binary_logloss: 0.341225\n",
      "[400]\tvalid_0's binary_logloss: 0.342193\tvalid_1's binary_logloss: 0.340758\n",
      "[500]\tvalid_0's binary_logloss: 0.340879\tvalid_1's binary_logloss: 0.340523\n",
      "[600]\tvalid_0's binary_logloss: 0.339719\tvalid_1's binary_logloss: 0.340361\n",
      "[700]\tvalid_0's binary_logloss: 0.338526\tvalid_1's binary_logloss: 0.340168\n",
      "[800]\tvalid_0's binary_logloss: 0.337384\tvalid_1's binary_logloss: 0.340018\n",
      "[900]\tvalid_0's binary_logloss: 0.336287\tvalid_1's binary_logloss: 0.339907\n",
      "[1000]\tvalid_0's binary_logloss: 0.335214\tvalid_1's binary_logloss: 0.339816\n",
      "[1100]\tvalid_0's binary_logloss: 0.334125\tvalid_1's binary_logloss: 0.339685\n",
      "[1200]\tvalid_0's binary_logloss: 0.333144\tvalid_1's binary_logloss: 0.339655\n",
      "[1300]\tvalid_0's binary_logloss: 0.332187\tvalid_1's binary_logloss: 0.339598\n",
      "[1400]\tvalid_0's binary_logloss: 0.33123\tvalid_1's binary_logloss: 0.339542\n",
      "[1500]\tvalid_0's binary_logloss: 0.33026\tvalid_1's binary_logloss: 0.339487\n",
      "[1600]\tvalid_0's binary_logloss: 0.329275\tvalid_1's binary_logloss: 0.339447\n",
      "[1700]\tvalid_0's binary_logloss: 0.328419\tvalid_1's binary_logloss: 0.33945\n"
     ]
    },
    {
     "name": "stderr",
     "output_type": "stream",
     "text": [
      "feature_fraction_stage2, val_score: 0.339438:  17%|#6        | 1/6 [05:22<26:53, 322.67s/it]\u001b[32m[I 2022-12-19 05:48:15,072]\u001b[0m Trial 37 finished with value: 0.3394376098070597 and parameters: {'feature_fraction': 0.584}. Best is trial 37 with value: 0.3394376098070597.\u001b[0m\n",
      "feature_fraction_stage2, val_score: 0.339438:  17%|#6        | 1/6 [05:22<26:53, 322.67s/it]"
     ]
    },
    {
     "name": "stdout",
     "output_type": "stream",
     "text": [
      "Early stopping, best iteration is:\n",
      "[1672]\tvalid_0's binary_logloss: 0.328629\tvalid_1's binary_logloss: 0.339438\n",
      "[LightGBM] [Info] Number of positive: 2634664, number of negative: 2634664\n",
      "[LightGBM] [Warning] Auto-choosing row-wise multi-threading, the overhead of testing was 0.398432 seconds.\n",
      "You can set `force_row_wise=true` to remove the overhead.\n",
      "And if memory is not enough, you can set `force_col_wise=true`.\n",
      "[LightGBM] [Info] Total Bins 11905\n",
      "[LightGBM] [Info] Number of data points in the train set: 5269328, number of used features: 55\n",
      "[LightGBM] [Info] [binary:BoostFromScore]: pavg=0.500000 -> initscore=0.000000\n",
      "Training until validation scores don't improve for 100 rounds\n",
      "[100]\tvalid_0's binary_logloss: 0.348051\tvalid_1's binary_logloss: 0.3435\n",
      "[200]\tvalid_0's binary_logloss: 0.34532\tvalid_1's binary_logloss: 0.341923\n",
      "[300]\tvalid_0's binary_logloss: 0.343596\tvalid_1's binary_logloss: 0.341321\n",
      "[400]\tvalid_0's binary_logloss: 0.34215\tvalid_1's binary_logloss: 0.340925\n",
      "[500]\tvalid_0's binary_logloss: 0.34081\tvalid_1's binary_logloss: 0.340573\n",
      "[600]\tvalid_0's binary_logloss: 0.339515\tvalid_1's binary_logloss: 0.340361\n",
      "[700]\tvalid_0's binary_logloss: 0.338376\tvalid_1's binary_logloss: 0.340218\n",
      "[800]\tvalid_0's binary_logloss: 0.337147\tvalid_1's binary_logloss: 0.340013\n",
      "[900]\tvalid_0's binary_logloss: 0.336088\tvalid_1's binary_logloss: 0.339944\n",
      "[1000]\tvalid_0's binary_logloss: 0.335036\tvalid_1's binary_logloss: 0.3398\n",
      "[1100]\tvalid_0's binary_logloss: 0.334012\tvalid_1's binary_logloss: 0.339747\n",
      "[1200]\tvalid_0's binary_logloss: 0.333\tvalid_1's binary_logloss: 0.339712\n",
      "[1300]\tvalid_0's binary_logloss: 0.332026\tvalid_1's binary_logloss: 0.339663\n",
      "[1400]\tvalid_0's binary_logloss: 0.331039\tvalid_1's binary_logloss: 0.33964\n",
      "[1500]\tvalid_0's binary_logloss: 0.330053\tvalid_1's binary_logloss: 0.339618\n",
      "[1600]\tvalid_0's binary_logloss: 0.329135\tvalid_1's binary_logloss: 0.339603\n",
      "[1700]\tvalid_0's binary_logloss: 0.328274\tvalid_1's binary_logloss: 0.339638\n"
     ]
    },
    {
     "name": "stderr",
     "output_type": "stream",
     "text": [
      "feature_fraction_stage2, val_score: 0.339438:  33%|###3      | 2/6 [10:14<20:17, 304.39s/it]\u001b[32m[I 2022-12-19 05:53:06,670]\u001b[0m Trial 38 finished with value: 0.33960267167654895 and parameters: {'feature_fraction': 0.6479999999999999}. Best is trial 37 with value: 0.3394376098070597.\u001b[0m\n",
      "feature_fraction_stage2, val_score: 0.339438:  33%|###3      | 2/6 [10:14<20:17, 304.39s/it]"
     ]
    },
    {
     "name": "stdout",
     "output_type": "stream",
     "text": [
      "Early stopping, best iteration is:\n",
      "[1602]\tvalid_0's binary_logloss: 0.329116\tvalid_1's binary_logloss: 0.339603\n",
      "[LightGBM] [Info] Number of positive: 2634664, number of negative: 2634664\n",
      "[LightGBM] [Warning] Auto-choosing row-wise multi-threading, the overhead of testing was 0.454443 seconds.\n",
      "You can set `force_row_wise=true` to remove the overhead.\n",
      "And if memory is not enough, you can set `force_col_wise=true`.\n",
      "[LightGBM] [Info] Total Bins 11905\n",
      "[LightGBM] [Info] Number of data points in the train set: 5269328, number of used features: 55\n",
      "[LightGBM] [Info] [binary:BoostFromScore]: pavg=0.500000 -> initscore=0.000000\n",
      "Training until validation scores don't improve for 100 rounds\n",
      "[100]\tvalid_0's binary_logloss: 0.348115\tvalid_1's binary_logloss: 0.343506\n",
      "[200]\tvalid_0's binary_logloss: 0.345433\tvalid_1's binary_logloss: 0.341977\n",
      "[300]\tvalid_0's binary_logloss: 0.343706\tvalid_1's binary_logloss: 0.341399\n",
      "[400]\tvalid_0's binary_logloss: 0.34218\tvalid_1's binary_logloss: 0.340936\n",
      "[500]\tvalid_0's binary_logloss: 0.34089\tvalid_1's binary_logloss: 0.340696\n",
      "[600]\tvalid_0's binary_logloss: 0.339698\tvalid_1's binary_logloss: 0.34051\n",
      "[700]\tvalid_0's binary_logloss: 0.338476\tvalid_1's binary_logloss: 0.340287\n",
      "[800]\tvalid_0's binary_logloss: 0.337401\tvalid_1's binary_logloss: 0.340205\n",
      "[900]\tvalid_0's binary_logloss: 0.336303\tvalid_1's binary_logloss: 0.340091\n",
      "[1000]\tvalid_0's binary_logloss: 0.33525\tvalid_1's binary_logloss: 0.340011\n",
      "[1100]\tvalid_0's binary_logloss: 0.334165\tvalid_1's binary_logloss: 0.339891\n",
      "[1200]\tvalid_0's binary_logloss: 0.333203\tvalid_1's binary_logloss: 0.339855\n",
      "[1300]\tvalid_0's binary_logloss: 0.332188\tvalid_1's binary_logloss: 0.339834\n",
      "[1400]\tvalid_0's binary_logloss: 0.331231\tvalid_1's binary_logloss: 0.33976\n",
      "[1500]\tvalid_0's binary_logloss: 0.330253\tvalid_1's binary_logloss: 0.339701\n",
      "[1600]\tvalid_0's binary_logloss: 0.329333\tvalid_1's binary_logloss: 0.339685\n",
      "[1700]\tvalid_0's binary_logloss: 0.328467\tvalid_1's binary_logloss: 0.339696\n"
     ]
    },
    {
     "name": "stderr",
     "output_type": "stream",
     "text": [
      "feature_fraction_stage2, val_score: 0.339438:  50%|#####     | 3/6 [15:35<15:35, 311.93s/it]\u001b[32m[I 2022-12-19 05:58:27,583]\u001b[0m Trial 39 finished with value: 0.33968487041707224 and parameters: {'feature_fraction': 0.616}. Best is trial 37 with value: 0.3394376098070597.\u001b[0m\n",
      "feature_fraction_stage2, val_score: 0.339438:  50%|#####     | 3/6 [15:35<15:35, 311.93s/it]"
     ]
    },
    {
     "name": "stdout",
     "output_type": "stream",
     "text": [
      "Early stopping, best iteration is:\n",
      "[1661]\tvalid_0's binary_logloss: 0.328787\tvalid_1's binary_logloss: 0.339685\n",
      "[LightGBM] [Info] Number of positive: 2634664, number of negative: 2634664\n",
      "[LightGBM] [Warning] Auto-choosing row-wise multi-threading, the overhead of testing was 0.392289 seconds.\n",
      "You can set `force_row_wise=true` to remove the overhead.\n",
      "And if memory is not enough, you can set `force_col_wise=true`.\n",
      "[LightGBM] [Info] Total Bins 11905\n",
      "[LightGBM] [Info] Number of data points in the train set: 5269328, number of used features: 55\n",
      "[LightGBM] [Info] [binary:BoostFromScore]: pavg=0.500000 -> initscore=0.000000\n",
      "Training until validation scores don't improve for 100 rounds\n",
      "[100]\tvalid_0's binary_logloss: 0.348268\tvalid_1's binary_logloss: 0.343678\n",
      "[200]\tvalid_0's binary_logloss: 0.345504\tvalid_1's binary_logloss: 0.341989\n",
      "[300]\tvalid_0's binary_logloss: 0.343767\tvalid_1's binary_logloss: 0.341264\n",
      "[400]\tvalid_0's binary_logloss: 0.342229\tvalid_1's binary_logloss: 0.340643\n",
      "[500]\tvalid_0's binary_logloss: 0.341053\tvalid_1's binary_logloss: 0.340518\n",
      "[600]\tvalid_0's binary_logloss: 0.339726\tvalid_1's binary_logloss: 0.340201\n",
      "[700]\tvalid_0's binary_logloss: 0.338488\tvalid_1's binary_logloss: 0.34\n",
      "[800]\tvalid_0's binary_logloss: 0.337509\tvalid_1's binary_logloss: 0.339964\n",
      "[900]\tvalid_0's binary_logloss: 0.33641\tvalid_1's binary_logloss: 0.339862\n",
      "[1000]\tvalid_0's binary_logloss: 0.335387\tvalid_1's binary_logloss: 0.339794\n",
      "[1100]\tvalid_0's binary_logloss: 0.33444\tvalid_1's binary_logloss: 0.339742\n",
      "[1200]\tvalid_0's binary_logloss: 0.333498\tvalid_1's binary_logloss: 0.339692\n",
      "[1300]\tvalid_0's binary_logloss: 0.332536\tvalid_1's binary_logloss: 0.33965\n",
      "[1400]\tvalid_0's binary_logloss: 0.331572\tvalid_1's binary_logloss: 0.339592\n"
     ]
    },
    {
     "name": "stderr",
     "output_type": "stream",
     "text": [
      "feature_fraction_stage2, val_score: 0.339438:  67%|######6   | 4/6 [20:33<10:13, 306.51s/it]\u001b[32m[I 2022-12-19 06:03:25,775]\u001b[0m Trial 40 finished with value: 0.3395874250214974 and parameters: {'feature_fraction': 0.552}. Best is trial 37 with value: 0.3394376098070597.\u001b[0m\n",
      "feature_fraction_stage2, val_score: 0.339438:  67%|######6   | 4/6 [20:33<10:13, 306.51s/it]"
     ]
    },
    {
     "name": "stdout",
     "output_type": "stream",
     "text": [
      "Early stopping, best iteration is:\n",
      "[1369]\tvalid_0's binary_logloss: 0.331852\tvalid_1's binary_logloss: 0.339587\n",
      "[LightGBM] [Info] Number of positive: 2634664, number of negative: 2634664\n",
      "[LightGBM] [Warning] Auto-choosing row-wise multi-threading, the overhead of testing was 0.377281 seconds.\n",
      "You can set `force_row_wise=true` to remove the overhead.\n",
      "And if memory is not enough, you can set `force_col_wise=true`.\n",
      "[LightGBM] [Info] Total Bins 11905\n",
      "[LightGBM] [Info] Number of data points in the train set: 5269328, number of used features: 55\n",
      "[LightGBM] [Info] [binary:BoostFromScore]: pavg=0.500000 -> initscore=0.000000\n",
      "Training until validation scores don't improve for 100 rounds\n",
      "[100]\tvalid_0's binary_logloss: 0.348013\tvalid_1's binary_logloss: 0.343543\n",
      "[200]\tvalid_0's binary_logloss: 0.345345\tvalid_1's binary_logloss: 0.342023\n",
      "[300]\tvalid_0's binary_logloss: 0.343694\tvalid_1's binary_logloss: 0.341525\n",
      "[400]\tvalid_0's binary_logloss: 0.34215\tvalid_1's binary_logloss: 0.341019\n",
      "[500]\tvalid_0's binary_logloss: 0.34089\tvalid_1's binary_logloss: 0.340789\n",
      "[600]\tvalid_0's binary_logloss: 0.339619\tvalid_1's binary_logloss: 0.340537\n",
      "[700]\tvalid_0's binary_logloss: 0.338348\tvalid_1's binary_logloss: 0.340276\n",
      "[800]\tvalid_0's binary_logloss: 0.337115\tvalid_1's binary_logloss: 0.340036\n",
      "[900]\tvalid_0's binary_logloss: 0.336108\tvalid_1's binary_logloss: 0.339996\n",
      "[1000]\tvalid_0's binary_logloss: 0.335034\tvalid_1's binary_logloss: 0.339929\n",
      "[1100]\tvalid_0's binary_logloss: 0.334021\tvalid_1's binary_logloss: 0.339847\n",
      "[1200]\tvalid_0's binary_logloss: 0.332992\tvalid_1's binary_logloss: 0.339764\n",
      "[1300]\tvalid_0's binary_logloss: 0.332007\tvalid_1's binary_logloss: 0.339734\n",
      "[1400]\tvalid_0's binary_logloss: 0.331002\tvalid_1's binary_logloss: 0.339683\n",
      "[1500]\tvalid_0's binary_logloss: 0.330053\tvalid_1's binary_logloss: 0.339629\n"
     ]
    },
    {
     "name": "stderr",
     "output_type": "stream",
     "text": [
      "feature_fraction_stage2, val_score: 0.339438:  83%|########3 | 5/6 [25:05<04:54, 294.23s/it]\u001b[32m[I 2022-12-19 06:07:58,232]\u001b[0m Trial 41 finished with value: 0.3396223633231698 and parameters: {'feature_fraction': 0.6799999999999999}. Best is trial 37 with value: 0.3394376098070597.\u001b[0m\n",
      "feature_fraction_stage2, val_score: 0.339438:  83%|########3 | 5/6 [25:05<04:54, 294.23s/it]"
     ]
    },
    {
     "name": "stdout",
     "output_type": "stream",
     "text": [
      "Early stopping, best iteration is:\n",
      "[1488]\tvalid_0's binary_logloss: 0.330158\tvalid_1's binary_logloss: 0.339622\n",
      "[LightGBM] [Info] Number of positive: 2634664, number of negative: 2634664\n",
      "[LightGBM] [Warning] Auto-choosing row-wise multi-threading, the overhead of testing was 0.372788 seconds.\n",
      "You can set `force_row_wise=true` to remove the overhead.\n",
      "And if memory is not enough, you can set `force_col_wise=true`.\n",
      "[LightGBM] [Info] Total Bins 11905\n",
      "[LightGBM] [Info] Number of data points in the train set: 5269328, number of used features: 55\n",
      "[LightGBM] [Info] [binary:BoostFromScore]: pavg=0.500000 -> initscore=0.000000\n",
      "Training until validation scores don't improve for 100 rounds\n",
      "[100]\tvalid_0's binary_logloss: 0.348273\tvalid_1's binary_logloss: 0.343653\n",
      "[200]\tvalid_0's binary_logloss: 0.345488\tvalid_1's binary_logloss: 0.34214\n",
      "[300]\tvalid_0's binary_logloss: 0.34383\tvalid_1's binary_logloss: 0.341554\n",
      "[400]\tvalid_0's binary_logloss: 0.342299\tvalid_1's binary_logloss: 0.341055\n",
      "[500]\tvalid_0's binary_logloss: 0.340975\tvalid_1's binary_logloss: 0.340768\n",
      "[600]\tvalid_0's binary_logloss: 0.339704\tvalid_1's binary_logloss: 0.340453\n",
      "[700]\tvalid_0's binary_logloss: 0.338576\tvalid_1's binary_logloss: 0.34025\n",
      "[800]\tvalid_0's binary_logloss: 0.33753\tvalid_1's binary_logloss: 0.34016\n",
      "[900]\tvalid_0's binary_logloss: 0.336403\tvalid_1's binary_logloss: 0.339948\n",
      "[1000]\tvalid_0's binary_logloss: 0.335451\tvalid_1's binary_logloss: 0.339902\n",
      "[1100]\tvalid_0's binary_logloss: 0.334368\tvalid_1's binary_logloss: 0.339738\n",
      "[1200]\tvalid_0's binary_logloss: 0.333346\tvalid_1's binary_logloss: 0.339659\n",
      "[1300]\tvalid_0's binary_logloss: 0.332399\tvalid_1's binary_logloss: 0.339651\n"
     ]
    },
    {
     "name": "stderr",
     "output_type": "stream",
     "text": [
      "feature_fraction_stage2, val_score: 0.339438: 100%|##########| 6/6 [29:29<00:00, 283.80s/it]\u001b[32m[I 2022-12-19 06:12:21,776]\u001b[0m Trial 42 finished with value: 0.3396287306953076 and parameters: {'feature_fraction': 0.52}. Best is trial 37 with value: 0.3394376098070597.\u001b[0m\n",
      "feature_fraction_stage2, val_score: 0.339438: 100%|##########| 6/6 [29:29<00:00, 294.90s/it]\n"
     ]
    },
    {
     "name": "stdout",
     "output_type": "stream",
     "text": [
      "Early stopping, best iteration is:\n",
      "[1238]\tvalid_0's binary_logloss: 0.332959\tvalid_1's binary_logloss: 0.339629\n"
     ]
    },
    {
     "name": "stderr",
     "output_type": "stream",
     "text": [
      "regularization_factors, val_score: 0.339438:   0%|          | 0/20 [00:00<?, ?it/s]"
     ]
    },
    {
     "name": "stdout",
     "output_type": "stream",
     "text": [
      "[LightGBM] [Info] Number of positive: 2634664, number of negative: 2634664\n",
      "[LightGBM] [Warning] Auto-choosing row-wise multi-threading, the overhead of testing was 0.374269 seconds.\n",
      "You can set `force_row_wise=true` to remove the overhead.\n",
      "And if memory is not enough, you can set `force_col_wise=true`.\n",
      "[LightGBM] [Info] Total Bins 11905\n",
      "[LightGBM] [Info] Number of data points in the train set: 5269328, number of used features: 55\n",
      "[LightGBM] [Info] [binary:BoostFromScore]: pavg=0.500000 -> initscore=0.000000\n",
      "Training until validation scores don't improve for 100 rounds\n",
      "[100]\tvalid_0's binary_logloss: 0.348169\tvalid_1's binary_logloss: 0.343572\n",
      "[200]\tvalid_0's binary_logloss: 0.345505\tvalid_1's binary_logloss: 0.341999\n",
      "[300]\tvalid_0's binary_logloss: 0.343783\tvalid_1's binary_logloss: 0.341379\n",
      "[400]\tvalid_0's binary_logloss: 0.342293\tvalid_1's binary_logloss: 0.340972\n",
      "[500]\tvalid_0's binary_logloss: 0.340963\tvalid_1's binary_logloss: 0.340622\n",
      "[600]\tvalid_0's binary_logloss: 0.339616\tvalid_1's binary_logloss: 0.34033\n",
      "[700]\tvalid_0's binary_logloss: 0.338436\tvalid_1's binary_logloss: 0.340102\n",
      "[800]\tvalid_0's binary_logloss: 0.337287\tvalid_1's binary_logloss: 0.339938\n",
      "[900]\tvalid_0's binary_logloss: 0.33625\tvalid_1's binary_logloss: 0.33989\n",
      "[1000]\tvalid_0's binary_logloss: 0.335262\tvalid_1's binary_logloss: 0.339881\n",
      "[1100]\tvalid_0's binary_logloss: 0.334249\tvalid_1's binary_logloss: 0.339871\n",
      "[1200]\tvalid_0's binary_logloss: 0.333239\tvalid_1's binary_logloss: 0.339747\n",
      "[1300]\tvalid_0's binary_logloss: 0.332278\tvalid_1's binary_logloss: 0.339697\n",
      "[1400]\tvalid_0's binary_logloss: 0.331312\tvalid_1's binary_logloss: 0.339595\n",
      "[1500]\tvalid_0's binary_logloss: 0.330405\tvalid_1's binary_logloss: 0.339564\n",
      "[1600]\tvalid_0's binary_logloss: 0.329531\tvalid_1's binary_logloss: 0.339578\n"
     ]
    },
    {
     "name": "stderr",
     "output_type": "stream",
     "text": [
      "regularization_factors, val_score: 0.339438:   5%|5         | 1/20 [05:02<1:35:53, 302.82s/it]\u001b[32m[I 2022-12-19 06:17:24,602]\u001b[0m Trial 43 finished with value: 0.3395523032512791 and parameters: {'lambda_l1': 0.0009556807259629267, 'lambda_l2': 0.0005520646730619635}. Best is trial 43 with value: 0.3395523032512791.\u001b[0m\n",
      "regularization_factors, val_score: 0.339438:   5%|5         | 1/20 [05:02<1:35:53, 302.82s/it]"
     ]
    },
    {
     "name": "stdout",
     "output_type": "stream",
     "text": [
      "Early stopping, best iteration is:\n",
      "[1507]\tvalid_0's binary_logloss: 0.330335\tvalid_1's binary_logloss: 0.339552\n",
      "[LightGBM] [Info] Number of positive: 2634664, number of negative: 2634664\n",
      "[LightGBM] [Warning] Auto-choosing row-wise multi-threading, the overhead of testing was 0.380264 seconds.\n",
      "You can set `force_row_wise=true` to remove the overhead.\n",
      "And if memory is not enough, you can set `force_col_wise=true`.\n",
      "[LightGBM] [Info] Total Bins 11905\n",
      "[LightGBM] [Info] Number of data points in the train set: 5269328, number of used features: 55\n",
      "[LightGBM] [Info] [binary:BoostFromScore]: pavg=0.500000 -> initscore=0.000000\n",
      "Training until validation scores don't improve for 100 rounds\n",
      "[100]\tvalid_0's binary_logloss: 0.348241\tvalid_1's binary_logloss: 0.343548\n",
      "[200]\tvalid_0's binary_logloss: 0.345591\tvalid_1's binary_logloss: 0.342135\n",
      "[300]\tvalid_0's binary_logloss: 0.343849\tvalid_1's binary_logloss: 0.34143\n",
      "[400]\tvalid_0's binary_logloss: 0.342381\tvalid_1's binary_logloss: 0.341022\n",
      "[500]\tvalid_0's binary_logloss: 0.341026\tvalid_1's binary_logloss: 0.340683\n",
      "[600]\tvalid_0's binary_logloss: 0.339776\tvalid_1's binary_logloss: 0.340451\n",
      "[700]\tvalid_0's binary_logloss: 0.338577\tvalid_1's binary_logloss: 0.34026\n",
      "[800]\tvalid_0's binary_logloss: 0.337394\tvalid_1's binary_logloss: 0.34005\n",
      "[900]\tvalid_0's binary_logloss: 0.336304\tvalid_1's binary_logloss: 0.339919\n",
      "[1000]\tvalid_0's binary_logloss: 0.335217\tvalid_1's binary_logloss: 0.339829\n",
      "[1100]\tvalid_0's binary_logloss: 0.334178\tvalid_1's binary_logloss: 0.339761\n",
      "[1200]\tvalid_0's binary_logloss: 0.33323\tvalid_1's binary_logloss: 0.339701\n",
      "[1300]\tvalid_0's binary_logloss: 0.332231\tvalid_1's binary_logloss: 0.339615\n",
      "[1400]\tvalid_0's binary_logloss: 0.3313\tvalid_1's binary_logloss: 0.339589\n"
     ]
    },
    {
     "name": "stderr",
     "output_type": "stream",
     "text": [
      "regularization_factors, val_score: 0.339438:  10%|#         | 2/20 [09:44<1:27:09, 290.50s/it]\u001b[32m[I 2022-12-19 06:22:06,484]\u001b[0m Trial 44 finished with value: 0.33956354332482735 and parameters: {'lambda_l1': 0.07785654019226187, 'lambda_l2': 0.00045157737355537206}. Best is trial 43 with value: 0.3395523032512791.\u001b[0m\n",
      "regularization_factors, val_score: 0.339438:  10%|#         | 2/20 [09:44<1:27:09, 290.50s/it]"
     ]
    },
    {
     "name": "stdout",
     "output_type": "stream",
     "text": [
      "Early stopping, best iteration is:\n",
      "[1373]\tvalid_0's binary_logloss: 0.331546\tvalid_1's binary_logloss: 0.339564\n",
      "[LightGBM] [Info] Number of positive: 2634664, number of negative: 2634664\n",
      "[LightGBM] [Warning] Auto-choosing row-wise multi-threading, the overhead of testing was 0.382591 seconds.\n",
      "You can set `force_row_wise=true` to remove the overhead.\n",
      "And if memory is not enough, you can set `force_col_wise=true`.\n",
      "[LightGBM] [Info] Total Bins 11905\n",
      "[LightGBM] [Info] Number of data points in the train set: 5269328, number of used features: 55\n",
      "[LightGBM] [Info] [binary:BoostFromScore]: pavg=0.500000 -> initscore=0.000000\n",
      "Training until validation scores don't improve for 100 rounds\n",
      "[100]\tvalid_0's binary_logloss: 0.348203\tvalid_1's binary_logloss: 0.34351\n",
      "[200]\tvalid_0's binary_logloss: 0.34545\tvalid_1's binary_logloss: 0.34193\n",
      "[300]\tvalid_0's binary_logloss: 0.343827\tvalid_1's binary_logloss: 0.341375\n",
      "[400]\tvalid_0's binary_logloss: 0.342329\tvalid_1's binary_logloss: 0.340873\n",
      "[500]\tvalid_0's binary_logloss: 0.341\tvalid_1's binary_logloss: 0.34051\n",
      "[600]\tvalid_0's binary_logloss: 0.339748\tvalid_1's binary_logloss: 0.340291\n",
      "[700]\tvalid_0's binary_logloss: 0.33864\tvalid_1's binary_logloss: 0.340124\n",
      "[800]\tvalid_0's binary_logloss: 0.337457\tvalid_1's binary_logloss: 0.339874\n",
      "[900]\tvalid_0's binary_logloss: 0.336371\tvalid_1's binary_logloss: 0.339761\n",
      "[1000]\tvalid_0's binary_logloss: 0.335365\tvalid_1's binary_logloss: 0.339664\n",
      "[1100]\tvalid_0's binary_logloss: 0.334336\tvalid_1's binary_logloss: 0.33958\n",
      "[1200]\tvalid_0's binary_logloss: 0.333356\tvalid_1's binary_logloss: 0.339526\n",
      "[1300]\tvalid_0's binary_logloss: 0.33234\tvalid_1's binary_logloss: 0.339481\n",
      "[1400]\tvalid_0's binary_logloss: 0.331397\tvalid_1's binary_logloss: 0.339437\n",
      "[1500]\tvalid_0's binary_logloss: 0.330494\tvalid_1's binary_logloss: 0.339415\n",
      "[1600]\tvalid_0's binary_logloss: 0.329564\tvalid_1's binary_logloss: 0.339381\n",
      "[1700]\tvalid_0's binary_logloss: 0.328597\tvalid_1's binary_logloss: 0.339298\n",
      "[1800]\tvalid_0's binary_logloss: 0.327751\tvalid_1's binary_logloss: 0.339291\n",
      "[1900]\tvalid_0's binary_logloss: 0.326946\tvalid_1's binary_logloss: 0.339292\n"
     ]
    },
    {
     "name": "stderr",
     "output_type": "stream",
     "text": [
      "regularization_factors, val_score: 0.339283:  15%|#5        | 3/20 [15:57<1:32:55, 327.97s/it]\u001b[32m[I 2022-12-19 06:28:19,048]\u001b[0m Trial 45 finished with value: 0.3392832701659095 and parameters: {'lambda_l1': 5.586773970880757e-05, 'lambda_l2': 0.1679228513303169}. Best is trial 45 with value: 0.3392832701659095.\u001b[0m\n",
      "regularization_factors, val_score: 0.339283:  15%|#5        | 3/20 [15:57<1:32:55, 327.97s/it]"
     ]
    },
    {
     "name": "stdout",
     "output_type": "stream",
     "text": [
      "Early stopping, best iteration is:\n",
      "[1870]\tvalid_0's binary_logloss: 0.327183\tvalid_1's binary_logloss: 0.339283\n",
      "[LightGBM] [Info] Number of positive: 2634664, number of negative: 2634664\n",
      "[LightGBM] [Warning] Auto-choosing row-wise multi-threading, the overhead of testing was 0.371538 seconds.\n",
      "You can set `force_row_wise=true` to remove the overhead.\n",
      "And if memory is not enough, you can set `force_col_wise=true`.\n",
      "[LightGBM] [Info] Total Bins 11905\n",
      "[LightGBM] [Info] Number of data points in the train set: 5269328, number of used features: 55\n",
      "[LightGBM] [Info] [binary:BoostFromScore]: pavg=0.500000 -> initscore=0.000000\n",
      "Training until validation scores don't improve for 100 rounds\n",
      "[100]\tvalid_0's binary_logloss: 0.348169\tvalid_1's binary_logloss: 0.343572\n",
      "[200]\tvalid_0's binary_logloss: 0.345531\tvalid_1's binary_logloss: 0.342016\n",
      "[300]\tvalid_0's binary_logloss: 0.343712\tvalid_1's binary_logloss: 0.341223\n",
      "[400]\tvalid_0's binary_logloss: 0.342193\tvalid_1's binary_logloss: 0.340755\n",
      "[500]\tvalid_0's binary_logloss: 0.340879\tvalid_1's binary_logloss: 0.34052\n",
      "[600]\tvalid_0's binary_logloss: 0.339719\tvalid_1's binary_logloss: 0.340359\n",
      "[700]\tvalid_0's binary_logloss: 0.338526\tvalid_1's binary_logloss: 0.340167\n",
      "[800]\tvalid_0's binary_logloss: 0.337384\tvalid_1's binary_logloss: 0.34002\n",
      "[900]\tvalid_0's binary_logloss: 0.336273\tvalid_1's binary_logloss: 0.339908\n",
      "[1000]\tvalid_0's binary_logloss: 0.335162\tvalid_1's binary_logloss: 0.339768\n",
      "[1100]\tvalid_0's binary_logloss: 0.334112\tvalid_1's binary_logloss: 0.339706\n",
      "[1200]\tvalid_0's binary_logloss: 0.333082\tvalid_1's binary_logloss: 0.339609\n",
      "[1300]\tvalid_0's binary_logloss: 0.332086\tvalid_1's binary_logloss: 0.339581\n",
      "[1400]\tvalid_0's binary_logloss: 0.331154\tvalid_1's binary_logloss: 0.339561\n",
      "[1500]\tvalid_0's binary_logloss: 0.330207\tvalid_1's binary_logloss: 0.339536\n",
      "[1600]\tvalid_0's binary_logloss: 0.329296\tvalid_1's binary_logloss: 0.339554\n"
     ]
    },
    {
     "name": "stderr",
     "output_type": "stream",
     "text": [
      "regularization_factors, val_score: 0.339283:  20%|##        | 4/20 [21:03<1:25:11, 319.49s/it]\u001b[32m[I 2022-12-19 06:33:25,546]\u001b[0m Trial 46 finished with value: 0.33953433906273306 and parameters: {'lambda_l1': 2.888604050472989e-05, 'lambda_l2': 2.0499396265436635e-08}. Best is trial 45 with value: 0.3392832701659095.\u001b[0m\n",
      "regularization_factors, val_score: 0.339283:  20%|##        | 4/20 [21:03<1:25:11, 319.49s/it]"
     ]
    },
    {
     "name": "stdout",
     "output_type": "stream",
     "text": [
      "Early stopping, best iteration is:\n",
      "[1510]\tvalid_0's binary_logloss: 0.330103\tvalid_1's binary_logloss: 0.339534\n",
      "[LightGBM] [Info] Number of positive: 2634664, number of negative: 2634664\n",
      "[LightGBM] [Warning] Auto-choosing row-wise multi-threading, the overhead of testing was 0.392168 seconds.\n",
      "You can set `force_row_wise=true` to remove the overhead.\n",
      "And if memory is not enough, you can set `force_col_wise=true`.\n",
      "[LightGBM] [Info] Total Bins 11905\n",
      "[LightGBM] [Info] Number of data points in the train set: 5269328, number of used features: 55\n",
      "[LightGBM] [Info] [binary:BoostFromScore]: pavg=0.500000 -> initscore=0.000000\n",
      "Training until validation scores don't improve for 100 rounds\n",
      "[100]\tvalid_0's binary_logloss: 0.348169\tvalid_1's binary_logloss: 0.343572\n",
      "[200]\tvalid_0's binary_logloss: 0.345528\tvalid_1's binary_logloss: 0.342007\n",
      "[300]\tvalid_0's binary_logloss: 0.343744\tvalid_1's binary_logloss: 0.341308\n",
      "[400]\tvalid_0's binary_logloss: 0.342375\tvalid_1's binary_logloss: 0.341017\n",
      "[500]\tvalid_0's binary_logloss: 0.341031\tvalid_1's binary_logloss: 0.340775\n",
      "[600]\tvalid_0's binary_logloss: 0.339769\tvalid_1's binary_logloss: 0.340495\n",
      "[700]\tvalid_0's binary_logloss: 0.338548\tvalid_1's binary_logloss: 0.3403\n",
      "[800]\tvalid_0's binary_logloss: 0.337351\tvalid_1's binary_logloss: 0.340121\n",
      "[900]\tvalid_0's binary_logloss: 0.336311\tvalid_1's binary_logloss: 0.340019\n",
      "[1000]\tvalid_0's binary_logloss: 0.335218\tvalid_1's binary_logloss: 0.339916\n",
      "[1100]\tvalid_0's binary_logloss: 0.334201\tvalid_1's binary_logloss: 0.339861\n",
      "[1200]\tvalid_0's binary_logloss: 0.333187\tvalid_1's binary_logloss: 0.339827\n",
      "[1300]\tvalid_0's binary_logloss: 0.332208\tvalid_1's binary_logloss: 0.339758\n",
      "[1400]\tvalid_0's binary_logloss: 0.331205\tvalid_1's binary_logloss: 0.339714\n",
      "[1500]\tvalid_0's binary_logloss: 0.330305\tvalid_1's binary_logloss: 0.339707\n",
      "[1600]\tvalid_0's binary_logloss: 0.329355\tvalid_1's binary_logloss: 0.339612\n",
      "[1700]\tvalid_0's binary_logloss: 0.328533\tvalid_1's binary_logloss: 0.33964\n"
     ]
    },
    {
     "name": "stderr",
     "output_type": "stream",
     "text": [
      "regularization_factors, val_score: 0.339283:  25%|##5       | 5/20 [26:24<1:19:56, 319.78s/it]\u001b[32m[I 2022-12-19 06:38:45,844]\u001b[0m Trial 47 finished with value: 0.3396122405248927 and parameters: {'lambda_l1': 6.805991414446023e-06, 'lambda_l2': 0.0036282192620624714}. Best is trial 45 with value: 0.3392832701659095.\u001b[0m\n",
      "regularization_factors, val_score: 0.339283:  25%|##5       | 5/20 [26:24<1:19:56, 319.78s/it]"
     ]
    },
    {
     "name": "stdout",
     "output_type": "stream",
     "text": [
      "Early stopping, best iteration is:\n",
      "[1601]\tvalid_0's binary_logloss: 0.329347\tvalid_1's binary_logloss: 0.339612\n",
      "[LightGBM] [Info] Number of positive: 2634664, number of negative: 2634664\n",
      "[LightGBM] [Warning] Auto-choosing row-wise multi-threading, the overhead of testing was 0.381402 seconds.\n",
      "You can set `force_row_wise=true` to remove the overhead.\n",
      "And if memory is not enough, you can set `force_col_wise=true`.\n",
      "[LightGBM] [Info] Total Bins 11905\n",
      "[LightGBM] [Info] Number of data points in the train set: 5269328, number of used features: 55\n",
      "[LightGBM] [Info] [binary:BoostFromScore]: pavg=0.500000 -> initscore=0.000000\n",
      "Training until validation scores don't improve for 100 rounds\n",
      "[100]\tvalid_0's binary_logloss: 0.348209\tvalid_1's binary_logloss: 0.343554\n",
      "[200]\tvalid_0's binary_logloss: 0.345468\tvalid_1's binary_logloss: 0.341982\n",
      "[300]\tvalid_0's binary_logloss: 0.343681\tvalid_1's binary_logloss: 0.341238\n",
      "[400]\tvalid_0's binary_logloss: 0.342185\tvalid_1's binary_logloss: 0.340832\n",
      "[500]\tvalid_0's binary_logloss: 0.340877\tvalid_1's binary_logloss: 0.340576\n",
      "[600]\tvalid_0's binary_logloss: 0.339616\tvalid_1's binary_logloss: 0.340362\n",
      "[700]\tvalid_0's binary_logloss: 0.338413\tvalid_1's binary_logloss: 0.340122\n",
      "[800]\tvalid_0's binary_logloss: 0.337337\tvalid_1's binary_logloss: 0.340029\n",
      "[900]\tvalid_0's binary_logloss: 0.336245\tvalid_1's binary_logloss: 0.339928\n",
      "[1000]\tvalid_0's binary_logloss: 0.335254\tvalid_1's binary_logloss: 0.339897\n",
      "[1100]\tvalid_0's binary_logloss: 0.334195\tvalid_1's binary_logloss: 0.33982\n",
      "[1200]\tvalid_0's binary_logloss: 0.333209\tvalid_1's binary_logloss: 0.339746\n",
      "[1300]\tvalid_0's binary_logloss: 0.332286\tvalid_1's binary_logloss: 0.339696\n",
      "[1400]\tvalid_0's binary_logloss: 0.331319\tvalid_1's binary_logloss: 0.339637\n"
     ]
    },
    {
     "name": "stderr",
     "output_type": "stream",
     "text": [
      "regularization_factors, val_score: 0.339283:  30%|###       | 6/20 [31:16<1:12:28, 310.62s/it]\u001b[32m[I 2022-12-19 06:43:38,686]\u001b[0m Trial 48 finished with value: 0.3396324113169912 and parameters: {'lambda_l1': 0.0032788118724258004, 'lambda_l2': 0.01538753597325424}. Best is trial 45 with value: 0.3392832701659095.\u001b[0m\n",
      "regularization_factors, val_score: 0.339283:  30%|###       | 6/20 [31:16<1:12:28, 310.62s/it]"
     ]
    },
    {
     "name": "stdout",
     "output_type": "stream",
     "text": [
      "Early stopping, best iteration is:\n",
      "[1392]\tvalid_0's binary_logloss: 0.331388\tvalid_1's binary_logloss: 0.339632\n",
      "[LightGBM] [Info] Number of positive: 2634664, number of negative: 2634664\n",
      "[LightGBM] [Warning] Auto-choosing row-wise multi-threading, the overhead of testing was 0.421515 seconds.\n",
      "You can set `force_row_wise=true` to remove the overhead.\n",
      "And if memory is not enough, you can set `force_col_wise=true`.\n",
      "[LightGBM] [Info] Total Bins 11905\n",
      "[LightGBM] [Info] Number of data points in the train set: 5269328, number of used features: 55\n",
      "[LightGBM] [Info] [binary:BoostFromScore]: pavg=0.500000 -> initscore=0.000000\n",
      "Training until validation scores don't improve for 100 rounds\n",
      "[100]\tvalid_0's binary_logloss: 0.348169\tvalid_1's binary_logloss: 0.343572\n",
      "[200]\tvalid_0's binary_logloss: 0.345505\tvalid_1's binary_logloss: 0.341999\n",
      "[300]\tvalid_0's binary_logloss: 0.343775\tvalid_1's binary_logloss: 0.34146\n",
      "[400]\tvalid_0's binary_logloss: 0.342347\tvalid_1's binary_logloss: 0.341097\n",
      "[500]\tvalid_0's binary_logloss: 0.340961\tvalid_1's binary_logloss: 0.340644\n",
      "[600]\tvalid_0's binary_logloss: 0.339757\tvalid_1's binary_logloss: 0.34042\n",
      "[700]\tvalid_0's binary_logloss: 0.338509\tvalid_1's binary_logloss: 0.340243\n",
      "[800]\tvalid_0's binary_logloss: 0.337427\tvalid_1's binary_logloss: 0.340181\n",
      "[900]\tvalid_0's binary_logloss: 0.336308\tvalid_1's binary_logloss: 0.340036\n",
      "[1000]\tvalid_0's binary_logloss: 0.335273\tvalid_1's binary_logloss: 0.339961\n",
      "[1100]\tvalid_0's binary_logloss: 0.334232\tvalid_1's binary_logloss: 0.339891\n",
      "[1200]\tvalid_0's binary_logloss: 0.333224\tvalid_1's binary_logloss: 0.339793\n",
      "[1300]\tvalid_0's binary_logloss: 0.33227\tvalid_1's binary_logloss: 0.339773\n",
      "[1400]\tvalid_0's binary_logloss: 0.331398\tvalid_1's binary_logloss: 0.339794\n"
     ]
    },
    {
     "name": "stderr",
     "output_type": "stream",
     "text": [
      "regularization_factors, val_score: 0.339283:  35%|###5      | 7/20 [35:45<1:04:21, 297.01s/it]\u001b[32m[I 2022-12-19 06:48:07,668]\u001b[0m Trial 49 finished with value: 0.33975366436815796 and parameters: {'lambda_l1': 1.6531081223717896e-08, 'lambda_l2': 0.0014244899591330815}. Best is trial 45 with value: 0.3392832701659095.\u001b[0m\n",
      "regularization_factors, val_score: 0.339283:  35%|###5      | 7/20 [35:45<1:04:21, 297.01s/it]"
     ]
    },
    {
     "name": "stdout",
     "output_type": "stream",
     "text": [
      "Early stopping, best iteration is:\n",
      "[1312]\tvalid_0's binary_logloss: 0.33215\tvalid_1's binary_logloss: 0.339754\n",
      "[LightGBM] [Info] Number of positive: 2634664, number of negative: 2634664\n",
      "[LightGBM] [Warning] Auto-choosing row-wise multi-threading, the overhead of testing was 0.359079 seconds.\n",
      "You can set `force_row_wise=true` to remove the overhead.\n",
      "And if memory is not enough, you can set `force_col_wise=true`.\n",
      "[LightGBM] [Info] Total Bins 11905\n",
      "[LightGBM] [Info] Number of data points in the train set: 5269328, number of used features: 55\n",
      "[LightGBM] [Info] [binary:BoostFromScore]: pavg=0.500000 -> initscore=0.000000\n",
      "Training until validation scores don't improve for 100 rounds\n",
      "[100]\tvalid_0's binary_logloss: 0.34826\tvalid_1's binary_logloss: 0.343534\n",
      "[200]\tvalid_0's binary_logloss: 0.345563\tvalid_1's binary_logloss: 0.342001\n",
      "[300]\tvalid_0's binary_logloss: 0.343801\tvalid_1's binary_logloss: 0.341306\n",
      "[400]\tvalid_0's binary_logloss: 0.342412\tvalid_1's binary_logloss: 0.340958\n",
      "[500]\tvalid_0's binary_logloss: 0.341129\tvalid_1's binary_logloss: 0.340659\n",
      "[600]\tvalid_0's binary_logloss: 0.339828\tvalid_1's binary_logloss: 0.340325\n",
      "[700]\tvalid_0's binary_logloss: 0.338584\tvalid_1's binary_logloss: 0.340032\n",
      "[800]\tvalid_0's binary_logloss: 0.337457\tvalid_1's binary_logloss: 0.339909\n",
      "[900]\tvalid_0's binary_logloss: 0.336417\tvalid_1's binary_logloss: 0.339814\n",
      "[1000]\tvalid_0's binary_logloss: 0.335287\tvalid_1's binary_logloss: 0.33965\n",
      "[1100]\tvalid_0's binary_logloss: 0.334294\tvalid_1's binary_logloss: 0.33961\n",
      "[1200]\tvalid_0's binary_logloss: 0.333321\tvalid_1's binary_logloss: 0.339565\n",
      "[1300]\tvalid_0's binary_logloss: 0.332347\tvalid_1's binary_logloss: 0.33951\n",
      "[1400]\tvalid_0's binary_logloss: 0.331408\tvalid_1's binary_logloss: 0.339454\n",
      "[1500]\tvalid_0's binary_logloss: 0.330502\tvalid_1's binary_logloss: 0.339435\n",
      "[1600]\tvalid_0's binary_logloss: 0.329582\tvalid_1's binary_logloss: 0.339411\n"
     ]
    },
    {
     "name": "stderr",
     "output_type": "stream",
     "text": [
      "regularization_factors, val_score: 0.339283:  40%|####      | 8/20 [40:54<1:00:09, 300.79s/it]\u001b[32m[I 2022-12-19 06:53:16,543]\u001b[0m Trial 50 finished with value: 0.33939178878299037 and parameters: {'lambda_l1': 2.571352442471432e-05, 'lambda_l2': 0.24432811531103693}. Best is trial 45 with value: 0.3392832701659095.\u001b[0m\n",
      "regularization_factors, val_score: 0.339283:  40%|####      | 8/20 [40:54<1:00:09, 300.79s/it]"
     ]
    },
    {
     "name": "stdout",
     "output_type": "stream",
     "text": [
      "Early stopping, best iteration is:\n",
      "[1548]\tvalid_0's binary_logloss: 0.330039\tvalid_1's binary_logloss: 0.339392\n",
      "[LightGBM] [Info] Number of positive: 2634664, number of negative: 2634664\n",
      "[LightGBM] [Warning] Auto-choosing row-wise multi-threading, the overhead of testing was 0.373407 seconds.\n",
      "You can set `force_row_wise=true` to remove the overhead.\n",
      "And if memory is not enough, you can set `force_col_wise=true`.\n",
      "[LightGBM] [Info] Total Bins 11905\n",
      "[LightGBM] [Info] Number of data points in the train set: 5269328, number of used features: 55\n",
      "[LightGBM] [Info] [binary:BoostFromScore]: pavg=0.500000 -> initscore=0.000000\n",
      "Training until validation scores don't improve for 100 rounds\n",
      "[100]\tvalid_0's binary_logloss: 0.348169\tvalid_1's binary_logloss: 0.343572\n",
      "[200]\tvalid_0's binary_logloss: 0.345531\tvalid_1's binary_logloss: 0.342017\n",
      "[300]\tvalid_0's binary_logloss: 0.343712\tvalid_1's binary_logloss: 0.341225\n",
      "[400]\tvalid_0's binary_logloss: 0.342193\tvalid_1's binary_logloss: 0.340757\n",
      "[500]\tvalid_0's binary_logloss: 0.340879\tvalid_1's binary_logloss: 0.340521\n",
      "[600]\tvalid_0's binary_logloss: 0.339719\tvalid_1's binary_logloss: 0.340361\n",
      "[700]\tvalid_0's binary_logloss: 0.338526\tvalid_1's binary_logloss: 0.340168\n",
      "[800]\tvalid_0's binary_logloss: 0.337385\tvalid_1's binary_logloss: 0.340019\n",
      "[900]\tvalid_0's binary_logloss: 0.336287\tvalid_1's binary_logloss: 0.339908\n",
      "[1000]\tvalid_0's binary_logloss: 0.335225\tvalid_1's binary_logloss: 0.339833\n",
      "[1100]\tvalid_0's binary_logloss: 0.334168\tvalid_1's binary_logloss: 0.339712\n",
      "[1200]\tvalid_0's binary_logloss: 0.3332\tvalid_1's binary_logloss: 0.339666\n",
      "[1300]\tvalid_0's binary_logloss: 0.332232\tvalid_1's binary_logloss: 0.339618\n",
      "[1400]\tvalid_0's binary_logloss: 0.331306\tvalid_1's binary_logloss: 0.339597\n",
      "[1500]\tvalid_0's binary_logloss: 0.330355\tvalid_1's binary_logloss: 0.339552\n",
      "[1600]\tvalid_0's binary_logloss: 0.329471\tvalid_1's binary_logloss: 0.339526\n"
     ]
    }
   ],
   "source": [
    "for type_ in [\"clicks\", \"carts\", \"orders\"]:\n",
    "    train = pd.read_pickle(cfg.output_dir + f\"exp049/cache/{type_}_train.pkl\")\n",
    "    valid = pd.read_pickle(cfg.output_dir + f\"exp049/cache/{type_}_valid.pkl\")\n",
    "    target = \"labels\"\n",
    "    not_use_cols = [\"session\", \"aid\", target]\n",
    "    features = [c for c in train.columns if c not in not_use_cols]\n",
    "    \n",
    "    tr_x, tr_y = train[features], train[target]\n",
    "    vl_x, vl_y = valid[features], valid[target]\n",
    "    tr_data = lgb.Dataset(tr_x, label=tr_y)\n",
    "    vl_data = lgb.Dataset(vl_x, label=vl_y)\n",
    "\n",
    "    model = optuna_lgb.train(params, tr_data, valid_sets=[tr_data, vl_data],\n",
    "                             num_boost_round=2000000, early_stopping_rounds=100, verbose_eval=100)\n",
    "    logger.info(f\"{type_} best_params\")\n",
    "    logger.info(model.params)"
   ]
  }
 ],
 "metadata": {
  "kernelspec": {
   "display_name": "base",
   "language": "python",
   "name": "python3"
  },
  "language_info": {
   "codemirror_mode": {
    "name": "ipython",
    "version": 3
   },
   "file_extension": ".py",
   "mimetype": "text/x-python",
   "name": "python",
   "nbconvert_exporter": "python",
   "pygments_lexer": "ipython3",
   "version": "3.8.13 | packaged by conda-forge | (default, Mar 25 2022, 06:04:10) \n[GCC 10.3.0]"
  },
  "orig_nbformat": 4,
  "vscode": {
   "interpreter": {
    "hash": "d4d1e4263499bec80672ea0156c357c1ee493ec2b1c70f0acce89fc37c4a6abe"
   }
  }
 },
 "nbformat": 4,
 "nbformat_minor": 2
}
