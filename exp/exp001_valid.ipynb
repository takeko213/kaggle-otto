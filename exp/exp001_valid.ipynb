{
 "cells": [
  {
   "cell_type": "markdown",
   "metadata": {},
   "source": [
    "# exp001\n",
    "最頻値などのナイーブな予測"
   ]
  },
  {
   "cell_type": "code",
   "execution_count": 1,
   "metadata": {},
   "outputs": [],
   "source": [
    "import os\n",
    "import sys\n",
    "import subprocess\n",
    "from dotenv import load_dotenv\n",
    "load_dotenv\n",
    "sys.path.append(os.getenv('UTILS_PATH'))\n",
    "from tqdm import tqdm\n",
    "import multiprocessing\n",
    "\n",
    "import pandas as pd\n",
    "import numpy as np\n",
    "import itertools"
   ]
  },
  {
   "cell_type": "code",
   "execution_count": 2,
   "metadata": {},
   "outputs": [],
   "source": [
    "EXP_NAME = \"exp001_valid\""
   ]
  },
  {
   "cell_type": "code",
   "execution_count": 3,
   "metadata": {},
   "outputs": [],
   "source": [
    "INPUT_DIR = os.getenv('INPUT_DIR')\n",
    "OUTPUT_DIR = os.getenv('OUTPUT_DIR')\n",
    "PREP_DIR = os.getenv(\"PREP_DIR\")\n",
    "\n",
    "# os.makedirs(os.path.join(OUTPUT_DIR, EXP_NAME), exist_ok=True)"
   ]
  },
  {
   "cell_type": "code",
   "execution_count": 4,
   "metadata": {},
   "outputs": [],
   "source": [
    "# データ読み込み\n",
    "train_sessions = pd.read_pickle(PREP_DIR + \"train_sessions_week1.pkl\")\n",
    "labels = pd.read_pickle(PREP_DIR + \"labels_week1.pkl\")"
   ]
  },
  {
   "cell_type": "code",
   "execution_count": 5,
   "metadata": {},
   "outputs": [],
   "source": [
    "sessions = train_sessions[\"session\"].unique()"
   ]
  },
  {
   "cell_type": "code",
   "execution_count": 6,
   "metadata": {},
   "outputs": [
    {
     "data": {
      "text/html": [
       "<div>\n",
       "<style scoped>\n",
       "    .dataframe tbody tr th:only-of-type {\n",
       "        vertical-align: middle;\n",
       "    }\n",
       "\n",
       "    .dataframe tbody tr th {\n",
       "        vertical-align: top;\n",
       "    }\n",
       "\n",
       "    .dataframe thead th {\n",
       "        text-align: right;\n",
       "    }\n",
       "</style>\n",
       "<table border=\"1\" class=\"dataframe\">\n",
       "  <thead>\n",
       "    <tr style=\"text-align: right;\">\n",
       "      <th></th>\n",
       "      <th>session</th>\n",
       "      <th>aid</th>\n",
       "      <th>cnt</th>\n",
       "    </tr>\n",
       "  </thead>\n",
       "  <tbody>\n",
       "    <tr>\n",
       "      <th>24</th>\n",
       "      <td>0</td>\n",
       "      <td>1649869</td>\n",
       "      <td>4</td>\n",
       "    </tr>\n",
       "    <tr>\n",
       "      <th>1</th>\n",
       "      <td>0</td>\n",
       "      <td>305831</td>\n",
       "      <td>3</td>\n",
       "    </tr>\n",
       "    <tr>\n",
       "      <th>6</th>\n",
       "      <td>0</td>\n",
       "      <td>461689</td>\n",
       "      <td>3</td>\n",
       "    </tr>\n",
       "    <tr>\n",
       "      <th>14</th>\n",
       "      <td>0</td>\n",
       "      <td>1110548</td>\n",
       "      <td>2</td>\n",
       "    </tr>\n",
       "    <tr>\n",
       "      <th>18</th>\n",
       "      <td>0</td>\n",
       "      <td>1190046</td>\n",
       "      <td>2</td>\n",
       "    </tr>\n",
       "  </tbody>\n",
       "</table>\n",
       "</div>"
      ],
      "text/plain": [
       "    session      aid  cnt\n",
       "24        0  1649869    4\n",
       "1         0   305831    3\n",
       "6         0   461689    3\n",
       "14        0  1110548    2\n",
       "18        0  1190046    2"
      ]
     },
     "execution_count": 6,
     "metadata": {},
     "output_type": "execute_result"
    }
   ],
   "source": [
    "# sessionごとの最頻値\n",
    "session_aid_cnt = train_sessions.groupby([\"session\", \"aid\"]).agg(cnt=(\"ts\", \"count\")).reset_index()\n",
    "session_aid_cnt = session_aid_cnt.sort_values([\"session\", \"cnt\"], ascending=[True, False])\n",
    "session_recom = session_aid_cnt.groupby(\"session\").head(20)\n",
    "session_recom.head()"
   ]
  },
  {
   "cell_type": "code",
   "execution_count": 7,
   "metadata": {},
   "outputs": [
    {
     "data": {
      "text/html": [
       "<div>\n",
       "<style scoped>\n",
       "    .dataframe tbody tr th:only-of-type {\n",
       "        vertical-align: middle;\n",
       "    }\n",
       "\n",
       "    .dataframe tbody tr th {\n",
       "        vertical-align: top;\n",
       "    }\n",
       "\n",
       "    .dataframe thead th {\n",
       "        text-align: right;\n",
       "    }\n",
       "</style>\n",
       "<table border=\"1\" class=\"dataframe\">\n",
       "  <thead>\n",
       "    <tr style=\"text-align: right;\">\n",
       "      <th></th>\n",
       "      <th>session</th>\n",
       "      <th>aid</th>\n",
       "    </tr>\n",
       "  </thead>\n",
       "  <tbody>\n",
       "    <tr>\n",
       "      <th>0</th>\n",
       "      <td>0</td>\n",
       "      <td>1460571</td>\n",
       "    </tr>\n",
       "    <tr>\n",
       "      <th>1</th>\n",
       "      <td>0</td>\n",
       "      <td>1502122</td>\n",
       "    </tr>\n",
       "    <tr>\n",
       "      <th>2</th>\n",
       "      <td>0</td>\n",
       "      <td>670006</td>\n",
       "    </tr>\n",
       "    <tr>\n",
       "      <th>3</th>\n",
       "      <td>0</td>\n",
       "      <td>29735</td>\n",
       "    </tr>\n",
       "    <tr>\n",
       "      <th>4</th>\n",
       "      <td>0</td>\n",
       "      <td>1083665</td>\n",
       "    </tr>\n",
       "  </tbody>\n",
       "</table>\n",
       "</div>"
      ],
      "text/plain": [
       "   session      aid\n",
       "0        0  1460571\n",
       "1        0  1502122\n",
       "2        0   670006\n",
       "3        0    29735\n",
       "4        0  1083665"
      ]
     },
     "execution_count": 7,
     "metadata": {},
     "output_type": "execute_result"
    }
   ],
   "source": [
    "# 全体の最頻値\n",
    "total_aid_cnt = train_sessions.groupby(\"aid\").agg(cnt=(\"ts\", \"count\")).reset_index()\n",
    "total_aid_cnt = total_aid_cnt.sort_values(\"cnt\", ascending=False)\n",
    "total_aid_cnt = total_aid_cnt.head(20)\n",
    "most_freq_aid = total_aid_cnt[\"aid\"].tolist()\n",
    "total_recom = pd.DataFrame(list(itertools.product(sessions, most_freq_aid)), columns=[\"session\", \"aid\"])\n",
    "total_recom.head()"
   ]
  },
  {
   "cell_type": "code",
   "execution_count": 8,
   "metadata": {},
   "outputs": [],
   "source": [
    "# sessionごとと全体の結合(sessionを優先)\n",
    "total_recom[\"cnt\"] = 0\n",
    "recom = pd.concat([session_recom, total_recom])\n",
    "recom = recom.sort_values([\"session\", \"cnt\"], ascending=[True, False])\n",
    "recom = recom.drop_duplicates(subset=[\"session\", \"aid\"])\n",
    "recom = recom.groupby(\"session\").head(20)\n",
    "recom = recom.groupby(\"session\")[\"aid\"].apply(list).reset_index()"
   ]
  },
  {
   "cell_type": "code",
   "execution_count": 9,
   "metadata": {},
   "outputs": [],
   "source": [
    "click_preds = recom[\"aid\"].tolist()\n",
    "carts_preds = recom[\"aid\"].tolist()\n",
    "orders_preds = recom[\"aid\"].tolist()"
   ]
  },
  {
   "cell_type": "code",
   "execution_count": 10,
   "metadata": {},
   "outputs": [],
   "source": [
    "click_labels = labels[\"click_labels\"].tolist()\n",
    "carts_labels = labels[\"carts_labels\"].tolist()\n",
    "orders_labels = labels[\"orders_labels\"].tolist()"
   ]
  },
  {
   "cell_type": "code",
   "execution_count": 29,
   "metadata": {},
   "outputs": [],
   "source": [
    "def evaluate(click_labels, carts_labels, orders_labels, \n",
    "             click_preds, carts_preds, orders_preds, k=20):\n",
    "\n",
    "    num_clicks = 0\n",
    "    num_carts = 0\n",
    "    num_orders = 0\n",
    "    hit_clicks = 0\n",
    "    hit_carts = 0\n",
    "    hit_orders = 0\n",
    "\n",
    "    for i in range(len(labels)):\n",
    "        click_label = click_labels[i]\n",
    "        carts_label = carts_labels[i]\n",
    "        orders_label = orders_labels[i]\n",
    "        click_pred = click_preds[i][:k]\n",
    "        carts_pred = carts_preds[i][:k]\n",
    "        orders_pred = orders_preds[i][:k]\n",
    "\n",
    "        if not np.isnan(click_label):\n",
    "            num_clicks += 1\n",
    "            hit_clicks += int(click_label in click_pred)\n",
    "\n",
    "        if type(carts_label) == list:\n",
    "            num_carts += min(len(carts_label), k)\n",
    "            hit_carts += len(set(carts_pred) & set(carts_label))\n",
    "            \n",
    "        if type(orders_label) == list:\n",
    "            num_orders += min(len(orders_label), k)\n",
    "            hit_orders += len(set(orders_pred) & set(orders_label))\n",
    "\n",
    "\n",
    "    recall_clicks = hit_clicks / num_clicks\n",
    "    recall_carts = hit_carts / num_carts\n",
    "    recall_orders = hit_orders / num_orders\n",
    "    score = (recall_clicks * 0.10) + (recall_carts * 0.30) + (recall_orders * 0.60)\n",
    "\n",
    "    results = {}\n",
    "    results[\"num_clicks\"] = num_clicks\n",
    "    results[\"hit_clicks\"] = hit_clicks\n",
    "    results[\"recall_clicks\"] = recall_clicks\n",
    "    results[\"num_carts\"] = num_carts\n",
    "    results[\"hit_carts\"] = hit_carts\n",
    "    results[\"recall_carts\"] = recall_carts\n",
    "    results[\"num_orders\"] = num_orders\n",
    "    results[\"hit_orders\"] = hit_orders\n",
    "    results[\"recall_orders\"] = recall_orders\n",
    "    results[\"score\"] = score\n",
    "\n",
    "    return results"
   ]
  },
  {
   "cell_type": "code",
   "execution_count": 30,
   "metadata": {},
   "outputs": [
    {
     "data": {
      "text/plain": [
       "{'num_clicks': 4320369,\n",
       " 'hit_clicks': 1330923,\n",
       " 'recall_clicks': 0.30805771451466296,\n",
       " 'num_carts': 1831983,\n",
       " 'hit_carts': 472470,\n",
       " 'recall_carts': 0.2579008648006013,\n",
       " 'num_orders': 885029,\n",
       " 'hit_orders': 462069,\n",
       " 'recall_orders': 0.5220947562170279,\n",
       " 'score': 0.42143288462186346}"
      ]
     },
     "execution_count": 30,
     "metadata": {},
     "output_type": "execute_result"
    }
   ],
   "source": [
    "evaluate(click_labels=labels[\"click_labels\"].tolist(),\n",
    "         carts_labels=labels[\"carts_labels\"].tolist(),\n",
    "         orders_labels=labels[\"orders_labels\"].tolist(),\n",
    "         click_preds=recom[\"aid\"].tolist(),\n",
    "         carts_preds=recom[\"aid\"].tolist(),\n",
    "         orders_preds=recom[\"aid\"].tolist())"
   ]
  },
  {
   "cell_type": "code",
   "execution_count": null,
   "metadata": {},
   "outputs": [],
   "source": []
  },
  {
   "cell_type": "code",
   "execution_count": null,
   "metadata": {},
   "outputs": [],
   "source": []
  },
  {
   "cell_type": "code",
   "execution_count": null,
   "metadata": {},
   "outputs": [],
   "source": []
  },
  {
   "cell_type": "code",
   "execution_count": 24,
   "metadata": {},
   "outputs": [
    {
     "name": "stdout",
     "output_type": "stream",
     "text": [
      "click :  4320369 1330923 0.30805771451466296\n",
      "cart :  1831983 472470 0.2579008648006013\n",
      "order :  885029 462069 0.5220947562170279\n",
      "0.42143288462186346\n"
     ]
    }
   ],
   "source": [
    "print(\"click : \", num_clicks, hit_clicks, recall_clicks)\n",
    "print(\"cart : \", num_carts, hit_carts, recall_carts)\n",
    "print(\"order : \", num_orders, hit_orders, recall_orders)\n",
    "print(score)\n"
   ]
  },
  {
   "cell_type": "code",
   "execution_count": null,
   "metadata": {},
   "outputs": [],
   "source": []
  }
 ],
 "metadata": {
  "kernelspec": {
   "display_name": "Python 3.8.13 ('base')",
   "language": "python",
   "name": "python3"
  },
  "language_info": {
   "codemirror_mode": {
    "name": "ipython",
    "version": 3
   },
   "file_extension": ".py",
   "mimetype": "text/x-python",
   "name": "python",
   "nbconvert_exporter": "python",
   "pygments_lexer": "ipython3",
   "version": "3.8.13"
  },
  "orig_nbformat": 4,
  "vscode": {
   "interpreter": {
    "hash": "d4d1e4263499bec80672ea0156c357c1ee493ec2b1c70f0acce89fc37c4a6abe"
   }
  }
 },
 "nbformat": 4,
 "nbformat_minor": 2
}
